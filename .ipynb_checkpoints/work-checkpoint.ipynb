{
 "cells": [
  {
   "cell_type": "code",
   "execution_count": 1,
   "metadata": {},
   "outputs": [],
   "source": [
    "import pandas as pd\n",
    "%matplotlib inline\n",
    "import matplotlib.pyplot as plt\n",
    "import seaborn as sns"
   ]
  },
  {
   "cell_type": "code",
   "execution_count": 2,
   "metadata": {},
   "outputs": [],
   "source": [
    "current = pd.read_csv('assets/archive/DOHMH_New_York_City_Restaurant_Inspection_Results (46).csv')"
   ]
  },
  {
   "cell_type": "code",
   "execution_count": 3,
   "metadata": {},
   "outputs": [],
   "source": [
    "permit = pd.read_csv('./date_of_permit.csv')"
   ]
  },
  {
   "cell_type": "code",
   "execution_count": 4,
   "metadata": {},
   "outputs": [],
   "source": [
    "permit.drop('Unnamed: 0', axis=1, inplace=True)"
   ]
  },
  {
   "cell_type": "code",
   "execution_count": 5,
   "metadata": {},
   "outputs": [],
   "source": [
    "permit['RECORD DATE'] = pd.to_datetime(permit['RECORD DATE'])"
   ]
  },
  {
   "cell_type": "code",
   "execution_count": 6,
   "metadata": {},
   "outputs": [],
   "source": [
    "current['INSPECTION DATE'] = pd.to_datetime(current['INSPECTION DATE'])"
   ]
  },
  {
   "cell_type": "code",
   "execution_count": 7,
   "metadata": {},
   "outputs": [],
   "source": [
    "current = current[current['INSPECTION DATE']!='1900-01-01']"
   ]
  },
  {
   "cell_type": "code",
   "execution_count": 8,
   "metadata": {},
   "outputs": [],
   "source": [
    "current.sort_values(['CAMIS','INSPECTION DATE'], inplace=True)"
   ]
  },
  {
   "cell_type": "code",
   "execution_count": 9,
   "metadata": {},
   "outputs": [],
   "source": [
    "current.drop_duplicates('CAMIS', inplace=True)"
   ]
  },
  {
   "cell_type": "code",
   "execution_count": 10,
   "metadata": {},
   "outputs": [],
   "source": [
    "current_sub = current[['CAMIS','INSPECTION DATE','INSPECTION TYPE']]"
   ]
  },
  {
   "cell_type": "code",
   "execution_count": 11,
   "metadata": {},
   "outputs": [],
   "source": [
    "merged = current_sub.merge(permit, on='CAMIS', how='outer').drop('INSPECTION DATE_y', axis=1)"
   ]
  },
  {
   "cell_type": "code",
   "execution_count": 12,
   "metadata": {},
   "outputs": [],
   "source": [
    "merged.columns = merged.columns.str.lower()\n",
    "merged.columns = [x.replace(' ','_') for x in merged.columns]"
   ]
  },
  {
   "cell_type": "code",
   "execution_count": 13,
   "metadata": {},
   "outputs": [],
   "source": [
    "merged['record_date'] = pd.to_datetime(merged['record_date'])\n",
    "merged = merged[merged['record_date']>'2019-03-15']\n",
    "merged.reset_index(inplace=True, drop=True)"
   ]
  },
  {
   "cell_type": "code",
   "execution_count": 14,
   "metadata": {},
   "outputs": [],
   "source": []
  },
  {
   "cell_type": "code",
   "execution_count": 15,
   "metadata": {},
   "outputs": [],
   "source": [
    "merged['diff'] = merged['inspection_date_x'] - merged['record_date'] "
   ]
  },
  {
   "cell_type": "code",
   "execution_count": 18,
   "metadata": {},
   "outputs": [],
   "source": [
    "merged['inspection_type'] = merged['inspection_type'].apply(lambda x: x if pd.notnull(x) else 'None')\n",
    "merged = merged[(merged['inspection_type'].str.contains('Pre-permit') | \n",
    "       merged['inspection_type'].str.contains('None'))]\n",
    "merged.reset_index(drop=True,inplace=True)"
   ]
  },
  {
   "cell_type": "code",
   "execution_count": 19,
   "metadata": {},
   "outputs": [],
   "source": []
  },
  {
   "cell_type": "code",
   "execution_count": 20,
   "metadata": {},
   "outputs": [],
   "source": [
    "x = pd.to_datetime('2019-10-18')\n",
    "merged['event'] = merged['diff'].apply(lambda x: 1 if pd.notnull(x) else 0)\n",
    "merged['diff'] = merged['diff'].where(pd.notnull(merged['diff']), x - merged['record_date'])\n"
   ]
  },
  {
   "cell_type": "code",
   "execution_count": 27,
   "metadata": {},
   "outputs": [],
   "source": [
    "merged['diff'] = merged['diff'].dt.days"
   ]
  },
  {
   "cell_type": "code",
   "execution_count": 257,
   "metadata": {},
   "outputs": [],
   "source": [
    "merged.reset_index(drop=True,inplace=True)"
   ]
  },
  {
   "cell_type": "code",
   "execution_count": 29,
   "metadata": {},
   "outputs": [
    {
     "data": {
      "text/plain": [
       "<lifelines.KaplanMeierFitter: fitted with 2750 observations, 1562 censored>"
      ]
     },
     "execution_count": 29,
     "metadata": {},
     "output_type": "execute_result"
    }
   ],
   "source": [
    "from lifelines import KaplanMeierFitter\n",
    "\n",
    "kmf = KaplanMeierFitter()\n",
    "kmf.fit(merged['diff'], event_observed = merged['event']) "
   ]
  },
  {
   "cell_type": "code",
   "execution_count": 127,
   "metadata": {},
   "outputs": [
    {
     "name": "stdout",
     "output_type": "stream",
     "text": [
      "117.0\n"
     ]
    },
    {
     "data": {
      "text/plain": [
       "<Figure size 648x216 with 0 Axes>"
      ]
     },
     "metadata": {},
     "output_type": "display_data"
    },
    {
     "data": {
      "image/png": "[encoded data removed]",
      "text/plain": [
       "<Figure size 432x288 with 1 Axes>"
      ]
     },
     "metadata": {
      "needs_background": "light"
     },
     "output_type": "display_data"
    }
   ],
   "source": [
    "print(kmf.median_)\n",
    "plt.figure(figsize=(9, 3))\n",
    "\n",
    "kmf.plot()\n",
    "\n",
    "plt.vlines([21],0,1);\n",
    "plt.vlines([117],0,.5);\n",
    "\n",
    "# fig.set_size_inches(18.5, 10.5);"
   ]
  },
  {
   "cell_type": "code",
   "execution_count": 150,
   "metadata": {},
   "outputs": [
    {
     "data": {
      "text/plain": [
       "INSPECTION TYPE\n",
       "Pre-permit (Non-operational) / Initial Inspection     160\n",
       "Pre-permit (Operational) / Initial Inspection        1028\n",
       "dtype: int64"
      ]
     },
     "execution_count": 150,
     "metadata": {},
     "output_type": "execute_result"
    }
   ],
   "source": [
    "\n",
    "merged.groupby('INSPECTION TYPE').size()"
   ]
  },
  {
   "cell_type": "code",
   "execution_count": 130,
   "metadata": {},
   "outputs": [
    {
     "data": {
      "text/html": [
       "<div>\n",
       "<style scoped>\n",
       "    .dataframe tbody tr th:only-of-type {\n",
       "        vertical-align: middle;\n",
       "    }\n",
       "\n",
       "    .dataframe tbody tr th {\n",
       "        vertical-align: top;\n",
       "    }\n",
       "\n",
       "    .dataframe thead th {\n",
       "        text-align: right;\n",
       "    }\n",
       "</style>\n",
       "<table border=\"1\" class=\"dataframe\">\n",
       "  <thead>\n",
       "    <tr style=\"text-align: right;\">\n",
       "      <th></th>\n",
       "      <th>camis</th>\n",
       "      <th>inspection_date_x</th>\n",
       "      <th>inspection_type</th>\n",
       "      <th>dba</th>\n",
       "      <th>record_date</th>\n",
       "      <th>diff</th>\n",
       "      <th>event</th>\n",
       "    </tr>\n",
       "  </thead>\n",
       "  <tbody>\n",
       "    <tr>\n",
       "      <td>0</td>\n",
       "      <td>50075833</td>\n",
       "      <td>2019-04-16</td>\n",
       "      <td>Pre-permit (Operational) / Initial Inspection</td>\n",
       "      <td>DOMINO'S</td>\n",
       "      <td>2019-03-17</td>\n",
       "      <td>30</td>\n",
       "      <td>1</td>\n",
       "    </tr>\n",
       "    <tr>\n",
       "      <td>1</td>\n",
       "      <td>50089779</td>\n",
       "      <td>2019-03-21</td>\n",
       "      <td>Pre-permit (Operational) / Initial Inspection</td>\n",
       "      <td>NaN</td>\n",
       "      <td>2019-03-17</td>\n",
       "      <td>4</td>\n",
       "      <td>1</td>\n",
       "    </tr>\n",
       "    <tr>\n",
       "      <td>2</td>\n",
       "      <td>50089784</td>\n",
       "      <td>2019-05-13</td>\n",
       "      <td>Pre-permit (Operational) / Initial Inspection</td>\n",
       "      <td>NaN</td>\n",
       "      <td>2019-03-17</td>\n",
       "      <td>57</td>\n",
       "      <td>1</td>\n",
       "    </tr>\n",
       "    <tr>\n",
       "      <td>4</td>\n",
       "      <td>50089786</td>\n",
       "      <td>2019-07-09</td>\n",
       "      <td>Pre-permit (Operational) / Initial Inspection</td>\n",
       "      <td>NaN</td>\n",
       "      <td>2019-03-17</td>\n",
       "      <td>114</td>\n",
       "      <td>1</td>\n",
       "    </tr>\n",
       "    <tr>\n",
       "      <td>5</td>\n",
       "      <td>50089788</td>\n",
       "      <td>2019-04-23</td>\n",
       "      <td>Pre-permit (Operational) / Initial Inspection</td>\n",
       "      <td>BLACK SEED BAGELS</td>\n",
       "      <td>2019-03-17</td>\n",
       "      <td>37</td>\n",
       "      <td>1</td>\n",
       "    </tr>\n",
       "    <tr>\n",
       "      <td>...</td>\n",
       "      <td>...</td>\n",
       "      <td>...</td>\n",
       "      <td>...</td>\n",
       "      <td>...</td>\n",
       "      <td>...</td>\n",
       "      <td>...</td>\n",
       "      <td>...</td>\n",
       "    </tr>\n",
       "    <tr>\n",
       "      <td>1180</td>\n",
       "      <td>50099031</td>\n",
       "      <td>2019-10-16</td>\n",
       "      <td>Pre-permit (Operational) / Initial Inspection</td>\n",
       "      <td>NEW ESTRELLA DEL MAR RESTAURANT</td>\n",
       "      <td>2019-09-26</td>\n",
       "      <td>20</td>\n",
       "      <td>1</td>\n",
       "    </tr>\n",
       "    <tr>\n",
       "      <td>1181</td>\n",
       "      <td>50099037</td>\n",
       "      <td>2019-10-07</td>\n",
       "      <td>Pre-permit (Operational) / Initial Inspection</td>\n",
       "      <td>NaN</td>\n",
       "      <td>2019-09-28</td>\n",
       "      <td>9</td>\n",
       "      <td>1</td>\n",
       "    </tr>\n",
       "    <tr>\n",
       "      <td>1182</td>\n",
       "      <td>50099056</td>\n",
       "      <td>2019-10-10</td>\n",
       "      <td>Pre-permit (Operational) / Initial Inspection</td>\n",
       "      <td>NaN</td>\n",
       "      <td>2019-09-28</td>\n",
       "      <td>12</td>\n",
       "      <td>1</td>\n",
       "    </tr>\n",
       "    <tr>\n",
       "      <td>1184</td>\n",
       "      <td>50099096</td>\n",
       "      <td>2019-10-15</td>\n",
       "      <td>Pre-permit (Operational) / Initial Inspection</td>\n",
       "      <td>NaN</td>\n",
       "      <td>2019-09-28</td>\n",
       "      <td>17</td>\n",
       "      <td>1</td>\n",
       "    </tr>\n",
       "    <tr>\n",
       "      <td>1187</td>\n",
       "      <td>50099719</td>\n",
       "      <td>2019-10-16</td>\n",
       "      <td>Pre-permit (Operational) / Initial Inspection</td>\n",
       "      <td>NaN</td>\n",
       "      <td>2019-10-12</td>\n",
       "      <td>4</td>\n",
       "      <td>1</td>\n",
       "    </tr>\n",
       "  </tbody>\n",
       "</table>\n",
       "<p>1028 rows × 7 columns</p>\n",
       "</div>"
      ],
      "text/plain": [
       "         camis inspection_date_x  \\\n",
       "0     50075833        2019-04-16   \n",
       "1     50089779        2019-03-21   \n",
       "2     50089784        2019-05-13   \n",
       "4     50089786        2019-07-09   \n",
       "5     50089788        2019-04-23   \n",
       "...        ...               ...   \n",
       "1180  50099031        2019-10-16   \n",
       "1181  50099037        2019-10-07   \n",
       "1182  50099056        2019-10-10   \n",
       "1184  50099096        2019-10-15   \n",
       "1187  50099719        2019-10-16   \n",
       "\n",
       "                                    inspection_type  \\\n",
       "0     Pre-permit (Operational) / Initial Inspection   \n",
       "1     Pre-permit (Operational) / Initial Inspection   \n",
       "2     Pre-permit (Operational) / Initial Inspection   \n",
       "4     Pre-permit (Operational) / Initial Inspection   \n",
       "5     Pre-permit (Operational) / Initial Inspection   \n",
       "...                                             ...   \n",
       "1180  Pre-permit (Operational) / Initial Inspection   \n",
       "1181  Pre-permit (Operational) / Initial Inspection   \n",
       "1182  Pre-permit (Operational) / Initial Inspection   \n",
       "1184  Pre-permit (Operational) / Initial Inspection   \n",
       "1187  Pre-permit (Operational) / Initial Inspection   \n",
       "\n",
       "                                  dba record_date  diff  event  \n",
       "0                            DOMINO'S  2019-03-17    30      1  \n",
       "1                                 NaN  2019-03-17     4      1  \n",
       "2                                 NaN  2019-03-17    57      1  \n",
       "4                                 NaN  2019-03-17   114      1  \n",
       "5                   BLACK SEED BAGELS  2019-03-17    37      1  \n",
       "...                               ...         ...   ...    ...  \n",
       "1180  NEW ESTRELLA DEL MAR RESTAURANT  2019-09-26    20      1  \n",
       "1181                              NaN  2019-09-28     9      1  \n",
       "1182                              NaN  2019-09-28    12      1  \n",
       "1184                              NaN  2019-09-28    17      1  \n",
       "1187                              NaN  2019-10-12     4      1  \n",
       "\n",
       "[1028 rows x 7 columns]"
      ]
     },
     "execution_count": 130,
     "metadata": {},
     "output_type": "execute_result"
    }
   ],
   "source": [
    "merged[merged['inspection_type'].str.contains('Oper')]"
   ]
  },
  {
   "cell_type": "code",
   "execution_count": 8,
   "metadata": {},
   "outputs": [
    {
     "data": {
      "text/plain": [
       "0.13468013468013468"
      ]
     },
     "execution_count": 8,
     "metadata": {},
     "output_type": "execute_result"
    }
   ],
   "source": [
    "160/(160+1028)"
   ]
  },
  {
   "cell_type": "code",
   "execution_count": 27,
   "metadata": {},
   "outputs": [],
   "source": [
    "import seaborn as sns; sns.set(color_codes=True)\n",
    "import matplotlib\n",
    "import matplotlib.pyplot as plt\n",
    "%matplotlib inline"
   ]
  },
  {
   "cell_type": "code",
   "execution_count": 136,
   "metadata": {},
   "outputs": [
    {
     "data": {
      "image/png": "[encoded data removed]",
      "text/plain": [
       "<Figure size 432x288 with 1 Axes>"
      ]
     },
     "metadata": {
      "needs_background": "light"
     },
     "output_type": "display_data"
    }
   ],
   "source": [
    "# fig = plt.pyplot.gcf()\n",
    "\n",
    "sns.distplot(merged['diff'],bins=100)\n",
    "plt.vlines(21,0,.025)\n",
    "plt.xlim(0,250)\n",
    "fig.set_size_inches(18.5, 10.5)\n"
   ]
  },
  {
   "cell_type": "code",
   "execution_count": 197,
   "metadata": {},
   "outputs": [],
   "source": []
  },
  {
   "cell_type": "code",
   "execution_count": 184,
   "metadata": {},
   "outputs": [],
   "source": []
  },
  {
   "cell_type": "code",
   "execution_count": null,
   "metadata": {},
   "outputs": [],
   "source": []
  },
  {
   "cell_type": "code",
   "execution_count": 71,
   "metadata": {},
   "outputs": [
    {
     "data": {
      "text/plain": [
       "'C:\\\\Users\\\\a\\\\Documents\\\\Projects\\\\doh'"
      ]
     },
     "execution_count": 71,
     "metadata": {},
     "output_type": "execute_result"
    }
   ],
   "source": [
    "import os\n",
    "\n",
    "os.getcwd()"
   ]
  },
  {
   "cell_type": "code",
   "execution_count": 3,
   "metadata": {},
   "outputs": [],
   "source": [
    "df = pd.read_csv('./assets/working_df.csv')"
   ]
  },
  {
   "cell_type": "code",
   "execution_count": 15,
   "metadata": {},
   "outputs": [
    {
     "data": {
      "text/plain": [
       "inspection_type                                              is_chain\n",
       "Cycle Inspection / Compliance Inspection                     0           17.248889\n",
       "                                                             1           15.486486\n",
       "Cycle Inspection / Initial Inspection                        0           16.773411\n",
       "                                                             1           12.719775\n",
       "Cycle Inspection / Re-inspection                             0           13.756418\n",
       "                                                             1           11.654707\n",
       "Cycle Inspection / Reopening Inspection                      0            6.852501\n",
       "                                                             1            5.237548\n",
       "Cycle Inspection / Second Compliance Inspection              0           11.333333\n",
       "                                                             1           11.000000\n",
       "Pre-permit (Non-operational) / Compliance Inspection         0            9.692308\n",
       "Pre-permit (Non-operational) / Initial Inspection            0           21.701065\n",
       "                                                             1           11.673913\n",
       "Pre-permit (Non-operational) / Re-inspection                 0           11.427536\n",
       "                                                             1            9.833333\n",
       "Pre-permit (Non-operational) / Second Compliance Inspection  0            0.000000\n",
       "Pre-permit (Operational) / Compliance Inspection             0           18.158730\n",
       "                                                             1           15.918919\n",
       "Pre-permit (Operational) / Initial Inspection                0           20.202593\n",
       "                                                             1           14.211877\n",
       "Pre-permit (Operational) / Re-inspection                     0           13.887687\n",
       "                                                             1           11.730994\n",
       "Pre-permit (Operational) / Reopening Inspection              0            8.345259\n",
       "                                                             1            6.473684\n",
       "Pre-permit (Operational) / Second Compliance Inspection      0           19.909091\n",
       "                                                             1           11.000000\n",
       "Name: score, dtype: float64"
      ]
     },
     "execution_count": 15,
     "metadata": {},
     "output_type": "execute_result"
    }
   ],
   "source": [
    "df.groupby(['inspection_type','is_chain'])['score'].mean()"
   ]
  },
  {
   "cell_type": "code",
   "execution_count": 148,
   "metadata": {},
   "outputs": [
    {
     "data": {
      "text/plain": [
       "inspection_type                                              is_chain\n",
       "Cycle Inspection / Compliance Inspection                     0             225\n",
       "                                                             1              37\n",
       "Cycle Inspection / Initial Inspection                        0           61627\n",
       "                                                             1           13168\n",
       "Cycle Inspection / Re-inspection                             0           31513\n",
       "                                                             1            4376\n",
       "Cycle Inspection / Reopening Inspection                      0            2339\n",
       "                                                             1             261\n",
       "Cycle Inspection / Second Compliance Inspection              0               6\n",
       "                                                             1               1\n",
       "Pre-permit (Non-operational) / Compliance Inspection         0              13\n",
       "Pre-permit (Non-operational) / Initial Inspection            0            1221\n",
       "                                                             1              92\n",
       "Pre-permit (Non-operational) / Re-inspection                 0             138\n",
       "                                                             1               6\n",
       "Pre-permit (Non-operational) / Second Compliance Inspection  0               1\n",
       "Pre-permit (Operational) / Compliance Inspection             0             378\n",
       "                                                             1              37\n",
       "Pre-permit (Operational) / Initial Inspection                0            7483\n",
       "                                                             1            1364\n",
       "Pre-permit (Operational) / Re-inspection                     0            4345\n",
       "                                                             1             513\n",
       "Pre-permit (Operational) / Reopening Inspection              0             559\n",
       "                                                             1              57\n",
       "Pre-permit (Operational) / Second Compliance Inspection      0              33\n",
       "                                                             1               1\n",
       "Name: score, dtype: int64"
      ]
     },
     "execution_count": 148,
     "metadata": {},
     "output_type": "execute_result"
    }
   ],
   "source": [
    "df.groupby(['inspection_type','is_chain'])['score'].size()"
   ]
  },
  {
   "cell_type": "code",
   "execution_count": 101,
   "metadata": {},
   "outputs": [],
   "source": [
    "# df = pd.read_csv('./assets/archive/DOHMH_New_York_City_Restaurant_Inspection_Results (46).csv')\n",
    "df = pd.read_csv('./assets/working_df.csv')"
   ]
  },
  {
   "cell_type": "code",
   "execution_count": 86,
   "metadata": {},
   "outputs": [],
   "source": [
    "df.dropna(axis = 0,subset=['INSPECTION TYPE'], inplace=True)"
   ]
  },
  {
   "cell_type": "code",
   "execution_count": 89,
   "metadata": {},
   "outputs": [],
   "source": [
    "pre_violations = df[df['INSPECTION TYPE'].str.contains('Pre-')]['VIOLATION CODE'].value_counts()"
   ]
  },
  {
   "cell_type": "code",
   "execution_count": 99,
   "metadata": {},
   "outputs": [
    {
     "data": {
      "text/plain": [
       "<matplotlib.axes._subplots.AxesSubplot at 0x1d7974e4208>"
      ]
     },
     "execution_count": 99,
     "metadata": {},
     "output_type": "execute_result"
    },
    {
     "data": {
      "image/png": "[encoded data removed]",
      "text/plain": [
       "<Figure size 432x288 with 1 Axes>"
      ]
     },
     "metadata": {
      "needs_background": "light"
     },
     "output_type": "display_data"
    }
   ],
   "source": [
    "# fig = matplotlib.pyplot.gcf()\n",
    "\n",
    "sns.barplot(pre_violations[:20].index,pre_violations[:20])\n",
    "# fig.set_size_inches(18.5, 10.5);"
   ]
  },
  {
   "cell_type": "code",
   "execution_count": 104,
   "metadata": {},
   "outputs": [
    {
     "data": {
      "image/png": "[encoded data removed]",
      "text/plain": [
       "<Figure size 1332x756 with 1 Axes>"
      ]
     },
     "metadata": {
      "needs_background": "light"
     },
     "output_type": "display_data"
    }
   ],
   "source": [
    "import matplotlib.pyplot as plt\n",
    "import numpy as np\n",
    "\n",
    "\n",
    "chain = df[(df['is_chain']==1) & (df['inspection_type'].str.contains('Pre-permit (Operational) / Initial Inspection')) &\n",
    "          (df['score']<50)]['score']\n",
    "not_chain = df[(df['is_chain']==0) & (df['inspection_type'].str.contains('Pre-permit (Operational) / Initial Inspection')) &\n",
    "              (df['score']<50)]['score']\n",
    "\n",
    "l = 50\n",
    "xweights = 100 * np.ones_like(chain) / chain.size\n",
    "yweights = 100 * np.ones_like(not_chain) / not_chain.size\n",
    "\n",
    "fig, ax = plt.subplots()\n",
    "ax.hist(chain, bins = l, weights=xweights, color='blue', alpha=1, density=True, label='Chain')\n",
    "ax.hist(not_chain, bins = l, weights=yweights, color='salmon', alpha=.6, density=True, label='Independent')\n",
    "\n",
    "fig.suptitle('Initial Scores of Chain and Independent Restaurants', fontsize=36, color='black')\n",
    "ax.set_xlabel('Score', fontsize=18, color='black')\n",
    "\n",
    "ax.margins(0.05)\n",
    "ax.set_ylim(bottom=0)\n",
    "ax.set_xlim(0,50)\n",
    "# plt.vlines(14,0,.16)\n",
    "\n",
    "ax.legend(prop={'size':20})\n",
    "\n",
    "fig.set_size_inches(18.5, 10.5)\n",
    "plt.savefig('chain_v_ind_score')\n",
    "plt.show();"
   ]
  },
  {
   "cell_type": "code",
   "execution_count": 106,
   "metadata": {},
   "outputs": [
    {
     "data": {
      "text/html": [
       "<div>\n",
       "<style scoped>\n",
       "    .dataframe tbody tr th:only-of-type {\n",
       "        vertical-align: middle;\n",
       "    }\n",
       "\n",
       "    .dataframe tbody tr th {\n",
       "        vertical-align: top;\n",
       "    }\n",
       "\n",
       "    .dataframe thead th {\n",
       "        text-align: right;\n",
       "    }\n",
       "</style>\n",
       "<table border=\"1\" class=\"dataframe\">\n",
       "  <thead>\n",
       "    <tr style=\"text-align: right;\">\n",
       "      <th></th>\n",
       "      <th>Unnamed: 0</th>\n",
       "      <th>camis</th>\n",
       "      <th>dba</th>\n",
       "      <th>boro</th>\n",
       "      <th>zipcode</th>\n",
       "      <th>phone</th>\n",
       "      <th>cuisine_description</th>\n",
       "      <th>inspection_date</th>\n",
       "      <th>action</th>\n",
       "      <th>score</th>\n",
       "      <th>...</th>\n",
       "      <th>pre_re_0</th>\n",
       "      <th>pre_re_1</th>\n",
       "      <th>pre_re_2</th>\n",
       "      <th>re-opened</th>\n",
       "      <th>was_closed</th>\n",
       "      <th>mod_dba</th>\n",
       "      <th>is_chain</th>\n",
       "      <th>new_high</th>\n",
       "      <th>new_low</th>\n",
       "      <th>avg_est</th>\n",
       "    </tr>\n",
       "  </thead>\n",
       "  <tbody>\n",
       "  </tbody>\n",
       "</table>\n",
       "<p>0 rows × 51 columns</p>\n",
       "</div>"
      ],
      "text/plain": [
       "Empty DataFrame\n",
       "Columns: [Unnamed: 0, camis, dba, boro, zipcode, phone, cuisine_description, inspection_date, action, score, grade, grade_date, record_date, inspection_type, latitude, longitude, community board, council district, census tract, bin, bbl, nta, address, season, year, key, codes, time_til, event, inspection_bin, cyc_init_0, cyc_init_1, cyc_re_0, cyc_re_1, cyc_re_2, missing_prior_cycle, missing_prior_pre, other_cycle, other_pre, pre_init_0, pre_init_1, pre_re_0, pre_re_1, pre_re_2, re-opened, was_closed, mod_dba, is_chain, new_high, new_low, avg_est]\n",
       "Index: []\n",
       "\n",
       "[0 rows x 51 columns]"
      ]
     },
     "execution_count": 106,
     "metadata": {},
     "output_type": "execute_result"
    }
   ],
   "source": [
    "df[(df['is_chain']==1) & (df['inspection_type'].str.contains('Pre-permit (Operational) / Initial Inspection')) &\n",
    "          (df['score']<50)]"
   ]
  },
  {
   "cell_type": "code",
   "execution_count": 113,
   "metadata": {},
   "outputs": [],
   "source": [
    "chain = df[(df['is_chain']==1) & \n",
    "   (df['inspection_type']=='Pre-permit (Operational) / Initial Inspection')]['score']\n",
    "not_chain = df[(df['is_chain']==0) & \n",
    "   (df['inspection_type']=='Pre-permit (Operational) / Initial Inspection')]['score']"
   ]
  },
  {
   "cell_type": "code",
   "execution_count": 116,
   "metadata": {},
   "outputs": [
    {
     "data": {
      "image/png": "[encoded data removed]",
      "text/plain": [
       "<Figure size 1332x756 with 1 Axes>"
      ]
     },
     "metadata": {
      "needs_background": "light"
     },
     "output_type": "display_data"
    }
   ],
   "source": [
    "import matplotlib.pyplot as plt\n",
    "import numpy as np\n",
    "\n",
    "\n",
    "\n",
    "l = 150\n",
    "xweights = 100 * np.ones_like(chain) / chain.size\n",
    "yweights = 100 * np.ones_like(not_chain) / not_chain.size\n",
    "\n",
    "fig, ax = plt.subplots()\n",
    "ax.hist(chain, bins = l, weights=xweights, color='blue', alpha=1, density=True, label='Chain')\n",
    "ax.hist(not_chain, bins = l, weights=yweights, color='salmon', alpha=.6, density=True, label='Independent')\n",
    "\n",
    "fig.suptitle('Initial Scores of Chain and Independent Restaurants', fontsize=36, color='black')\n",
    "ax.set_xlabel('Score', fontsize=18, color='black')\n",
    "\n",
    "ax.margins(0.05)\n",
    "ax.set_ylim(bottom=0)\n",
    "ax.set_xlim(0,50)\n",
    "plt.vlines(14,0,.16)\n",
    "\n",
    "ax.legend(prop={'size':20})\n",
    "\n",
    "fig.set_size_inches(18.5, 10.5)\n",
    "plt.savefig('chain_v_ind_score')\n",
    "plt.show();"
   ]
  },
  {
   "cell_type": "code",
   "execution_count": 141,
   "metadata": {},
   "outputs": [],
   "source": [
    "chain = df[(df['is_chain']==1) & \n",
    "   (df['inspection_type']=='Pre-permit (Non-operational) / Initial Inspection') |\n",
    "    (df['inspection_type']=='Pre-permit (Operational) / Initial Inspection')]['score']\n",
    "not_chain = df[(df['is_chain']==0) & \n",
    "   (df['inspection_type']=='Pre-permit (Non-operational) / Initial Inspection') |\n",
    "    (df['inspection_type']=='Pre-permit (Operational) / Initial Inspection')]['score']"
   ]
  },
  {
   "cell_type": "code",
   "execution_count": 142,
   "metadata": {},
   "outputs": [
    {
     "data": {
      "image/png": "[encoded data removed]",
      "text/plain": [
       "<Figure size 1332x756 with 1 Axes>"
      ]
     },
     "metadata": {
      "needs_background": "light"
     },
     "output_type": "display_data"
    }
   ],
   "source": [
    "import matplotlib.pyplot as plt\n",
    "import numpy as np\n",
    "\n",
    "\n",
    "\n",
    "l = 75\n",
    "xweights = 100 * np.ones_like(chain) / chain.size\n",
    "yweights = 100 * np.ones_like(not_chain) / not_chain.size\n",
    "\n",
    "fig, ax = plt.subplots()\n",
    "ax.hist(chain, bins = l, weights=xweights, color='blue', alpha=1, density=True, label='Chain')\n",
    "ax.hist(not_chain, bins = l, weights=yweights, color='salmon', alpha=.6, density=True, label='Independent')\n",
    "\n",
    "fig.suptitle('Initial Scores of Chain and Independent Restaurants', fontsize=36, color='black')\n",
    "ax.set_xlabel('Score', fontsize=18, color='black')\n",
    "\n",
    "ax.margins(0.05)\n",
    "ax.set_ylim(bottom=0)\n",
    "ax.set_xlim(0,50)\n",
    "plt.vlines(14,0,.25)\n",
    "\n",
    "ax.legend(prop={'size':20})\n",
    "\n",
    "fig.set_size_inches(18.5, 10.5)\n",
    "plt.savefig('chain_v_ind_score')\n",
    "plt.show();"
   ]
  },
  {
   "cell_type": "code",
   "execution_count": 124,
   "metadata": {},
   "outputs": [
    {
     "data": {
      "text/plain": [
       "Cycle Inspection / Initial Inspection                          74795\n",
       "Cycle Inspection / Re-inspection                               35889\n",
       "Pre-permit (Operational) / Initial Inspection                   8847\n",
       "Pre-permit (Operational) / Re-inspection                        4858\n",
       "Cycle Inspection / Reopening Inspection                         2600\n",
       "Pre-permit (Non-operational) / Initial Inspection               1313\n",
       "Pre-permit (Operational) / Reopening Inspection                  616\n",
       "Pre-permit (Operational) / Compliance Inspection                 415\n",
       "Cycle Inspection / Compliance Inspection                         262\n",
       "Pre-permit (Non-operational) / Re-inspection                     144\n",
       "Pre-permit (Operational) / Second Compliance Inspection           34\n",
       "Pre-permit (Non-operational) / Compliance Inspection              13\n",
       "Cycle Inspection / Second Compliance Inspection                    7\n",
       "Pre-permit (Non-operational) / Second Compliance Inspection        1\n",
       "Name: inspection_type, dtype: int64"
      ]
     },
     "execution_count": 124,
     "metadata": {},
     "output_type": "execute_result"
    }
   ],
   "source": [
    "df['inspection_type'].value_counts()"
   ]
  },
  {
   "cell_type": "code",
   "execution_count": 251,
   "metadata": {},
   "outputs": [
    {
     "data": {
      "text/plain": [
       "7"
      ]
     },
     "execution_count": 251,
     "metadata": {},
     "output_type": "execute_result"
    }
   ],
   "source": []
  },
  {
   "cell_type": "code",
   "execution_count": 4,
   "metadata": {},
   "outputs": [
    {
     "data": {
      "text/html": [
       "<div>\n",
       "<style scoped>\n",
       "    .dataframe tbody tr th:only-of-type {\n",
       "        vertical-align: middle;\n",
       "    }\n",
       "\n",
       "    .dataframe tbody tr th {\n",
       "        vertical-align: top;\n",
       "    }\n",
       "\n",
       "    .dataframe thead th {\n",
       "        text-align: right;\n",
       "    }\n",
       "</style>\n",
       "<table border=\"1\" class=\"dataframe\">\n",
       "  <thead>\n",
       "    <tr style=\"text-align: right;\">\n",
       "      <th></th>\n",
       "      <th>Unnamed: 0</th>\n",
       "      <th>camis</th>\n",
       "      <th>dba</th>\n",
       "      <th>boro</th>\n",
       "      <th>zipcode</th>\n",
       "      <th>phone</th>\n",
       "      <th>cuisine_description</th>\n",
       "      <th>inspection_date</th>\n",
       "      <th>action</th>\n",
       "      <th>score</th>\n",
       "      <th>...</th>\n",
       "      <th>pre_re_0</th>\n",
       "      <th>pre_re_1</th>\n",
       "      <th>pre_re_2</th>\n",
       "      <th>re-opened</th>\n",
       "      <th>was_closed</th>\n",
       "      <th>mod_dba</th>\n",
       "      <th>is_chain</th>\n",
       "      <th>new_high</th>\n",
       "      <th>new_low</th>\n",
       "      <th>avg_est</th>\n",
       "    </tr>\n",
       "  </thead>\n",
       "  <tbody>\n",
       "    <tr>\n",
       "      <td>0</td>\n",
       "      <td>0</td>\n",
       "      <td>30075445</td>\n",
       "      <td>Morris Park Bake Shop</td>\n",
       "      <td>Bronx</td>\n",
       "      <td>10462.0</td>\n",
       "      <td>7188924968</td>\n",
       "      <td>Bakery</td>\n",
       "      <td>2017-05-18 00:00:00.000000000</td>\n",
       "      <td>Violations were cited in the following area(s).</td>\n",
       "      <td>7.0</td>\n",
       "      <td>...</td>\n",
       "      <td>0</td>\n",
       "      <td>0</td>\n",
       "      <td>0</td>\n",
       "      <td>0</td>\n",
       "      <td>0</td>\n",
       "      <td>morris park bake shop</td>\n",
       "      <td>0</td>\n",
       "      <td>0.0</td>\n",
       "      <td>0.0</td>\n",
       "      <td>0.0</td>\n",
       "    </tr>\n",
       "    <tr>\n",
       "      <td>1</td>\n",
       "      <td>1</td>\n",
       "      <td>30075445</td>\n",
       "      <td>Morris Park Bake Shop</td>\n",
       "      <td>Bronx</td>\n",
       "      <td>10462.0</td>\n",
       "      <td>7188924968</td>\n",
       "      <td>Bakery</td>\n",
       "      <td>2018-05-11 00:00:00.000000000</td>\n",
       "      <td>Violations were cited in the following area(s).</td>\n",
       "      <td>5.0</td>\n",
       "      <td>...</td>\n",
       "      <td>0</td>\n",
       "      <td>0</td>\n",
       "      <td>0</td>\n",
       "      <td>0</td>\n",
       "      <td>0</td>\n",
       "      <td>morris park bake shop</td>\n",
       "      <td>0</td>\n",
       "      <td>0.0</td>\n",
       "      <td>0.0</td>\n",
       "      <td>0.0</td>\n",
       "    </tr>\n",
       "    <tr>\n",
       "      <td>2</td>\n",
       "      <td>2</td>\n",
       "      <td>30075445</td>\n",
       "      <td>Morris Park Bake Shop</td>\n",
       "      <td>Bronx</td>\n",
       "      <td>10462.0</td>\n",
       "      <td>7188924968</td>\n",
       "      <td>Bakery</td>\n",
       "      <td>2019-05-16 00:00:00.000000000</td>\n",
       "      <td>Violations were cited in the following area(s).</td>\n",
       "      <td>14.0</td>\n",
       "      <td>...</td>\n",
       "      <td>0</td>\n",
       "      <td>0</td>\n",
       "      <td>0</td>\n",
       "      <td>0</td>\n",
       "      <td>0</td>\n",
       "      <td>morris park bake shop</td>\n",
       "      <td>0</td>\n",
       "      <td>750.0</td>\n",
       "      <td>600.0</td>\n",
       "      <td>675.0</td>\n",
       "    </tr>\n",
       "    <tr>\n",
       "      <td>3</td>\n",
       "      <td>3</td>\n",
       "      <td>30075445</td>\n",
       "      <td>Morris Park Bake Shop</td>\n",
       "      <td>Bronx</td>\n",
       "      <td>10462.0</td>\n",
       "      <td>7188924968</td>\n",
       "      <td>Bakery</td>\n",
       "      <td>2019-06-11 00:00:00.000000000</td>\n",
       "      <td>Violations were cited in the following area(s).</td>\n",
       "      <td>6.0</td>\n",
       "      <td>...</td>\n",
       "      <td>0</td>\n",
       "      <td>0</td>\n",
       "      <td>0</td>\n",
       "      <td>0</td>\n",
       "      <td>0</td>\n",
       "      <td>morris park bake shop</td>\n",
       "      <td>0</td>\n",
       "      <td>600.0</td>\n",
       "      <td>600.0</td>\n",
       "      <td>600.0</td>\n",
       "    </tr>\n",
       "    <tr>\n",
       "      <td>4</td>\n",
       "      <td>4</td>\n",
       "      <td>30112340</td>\n",
       "      <td>Wendy'S</td>\n",
       "      <td>Brooklyn</td>\n",
       "      <td>11225.0</td>\n",
       "      <td>7182875005</td>\n",
       "      <td>Hamburgers</td>\n",
       "      <td>2016-04-12 00:00:00.000000000</td>\n",
       "      <td>No violations were recorded at the time of thi...</td>\n",
       "      <td>0.0</td>\n",
       "      <td>...</td>\n",
       "      <td>0</td>\n",
       "      <td>0</td>\n",
       "      <td>0</td>\n",
       "      <td>0</td>\n",
       "      <td>0</td>\n",
       "      <td>wendys</td>\n",
       "      <td>1</td>\n",
       "      <td>0.0</td>\n",
       "      <td>0.0</td>\n",
       "      <td>0.0</td>\n",
       "    </tr>\n",
       "    <tr>\n",
       "      <td>...</td>\n",
       "      <td>...</td>\n",
       "      <td>...</td>\n",
       "      <td>...</td>\n",
       "      <td>...</td>\n",
       "      <td>...</td>\n",
       "      <td>...</td>\n",
       "      <td>...</td>\n",
       "      <td>...</td>\n",
       "      <td>...</td>\n",
       "      <td>...</td>\n",
       "      <td>...</td>\n",
       "      <td>...</td>\n",
       "      <td>...</td>\n",
       "      <td>...</td>\n",
       "      <td>...</td>\n",
       "      <td>...</td>\n",
       "      <td>...</td>\n",
       "      <td>...</td>\n",
       "      <td>...</td>\n",
       "      <td>...</td>\n",
       "      <td>...</td>\n",
       "    </tr>\n",
       "    <tr>\n",
       "      <td>129789</td>\n",
       "      <td>129789</td>\n",
       "      <td>50098755</td>\n",
       "      <td>Golden Bay Parkway Restaurant</td>\n",
       "      <td>Brooklyn</td>\n",
       "      <td>11204.0</td>\n",
       "      <td>7182329888</td>\n",
       "      <td>Chinese</td>\n",
       "      <td>2019-10-02 00:00:00.000000000</td>\n",
       "      <td>Violations were cited in the following area(s).</td>\n",
       "      <td>10.0</td>\n",
       "      <td>...</td>\n",
       "      <td>0</td>\n",
       "      <td>0</td>\n",
       "      <td>0</td>\n",
       "      <td>0</td>\n",
       "      <td>0</td>\n",
       "      <td>golden bay parkway restaurant</td>\n",
       "      <td>0</td>\n",
       "      <td>0.0</td>\n",
       "      <td>0.0</td>\n",
       "      <td>0.0</td>\n",
       "    </tr>\n",
       "    <tr>\n",
       "      <td>129790</td>\n",
       "      <td>129790</td>\n",
       "      <td>50098765</td>\n",
       "      <td>Philippe'S Cafe</td>\n",
       "      <td>Brooklyn</td>\n",
       "      <td>11231.0</td>\n",
       "      <td>6469180552</td>\n",
       "      <td>Sandwiches</td>\n",
       "      <td>2019-10-01 00:00:00.000000000</td>\n",
       "      <td>Violations were cited in the following area(s).</td>\n",
       "      <td>62.0</td>\n",
       "      <td>...</td>\n",
       "      <td>0</td>\n",
       "      <td>0</td>\n",
       "      <td>0</td>\n",
       "      <td>0</td>\n",
       "      <td>0</td>\n",
       "      <td>philippes cafe</td>\n",
       "      <td>0</td>\n",
       "      <td>1100.0</td>\n",
       "      <td>900.0</td>\n",
       "      <td>1000.0</td>\n",
       "    </tr>\n",
       "    <tr>\n",
       "      <td>129791</td>\n",
       "      <td>129791</td>\n",
       "      <td>50098791</td>\n",
       "      <td>Jerusalem Cafe</td>\n",
       "      <td>Manhattan</td>\n",
       "      <td>10018.0</td>\n",
       "      <td>2123981475</td>\n",
       "      <td>Jewish/Kosher</td>\n",
       "      <td>2019-09-24 00:00:00.000000000</td>\n",
       "      <td>Violations were cited in the following area(s).</td>\n",
       "      <td>24.0</td>\n",
       "      <td>...</td>\n",
       "      <td>0</td>\n",
       "      <td>0</td>\n",
       "      <td>0</td>\n",
       "      <td>0</td>\n",
       "      <td>0</td>\n",
       "      <td>jerusalem cafe</td>\n",
       "      <td>0</td>\n",
       "      <td>1650.0</td>\n",
       "      <td>1400.0</td>\n",
       "      <td>1525.0</td>\n",
       "    </tr>\n",
       "    <tr>\n",
       "      <td>129792</td>\n",
       "      <td>129792</td>\n",
       "      <td>50099066</td>\n",
       "      <td>Bandit Coffee</td>\n",
       "      <td>Manhattan</td>\n",
       "      <td>10017.0</td>\n",
       "      <td>6469266195</td>\n",
       "      <td>Café/Coffee/Tea</td>\n",
       "      <td>2019-09-30 00:00:00.000000000</td>\n",
       "      <td>Violations were cited in the following area(s).</td>\n",
       "      <td>38.0</td>\n",
       "      <td>...</td>\n",
       "      <td>0</td>\n",
       "      <td>0</td>\n",
       "      <td>0</td>\n",
       "      <td>0</td>\n",
       "      <td>0</td>\n",
       "      <td>bandit coffee</td>\n",
       "      <td>0</td>\n",
       "      <td>700.0</td>\n",
       "      <td>500.0</td>\n",
       "      <td>600.0</td>\n",
       "    </tr>\n",
       "    <tr>\n",
       "      <td>129793</td>\n",
       "      <td>129793</td>\n",
       "      <td>50099216</td>\n",
       "      <td>Renix Sports Bar</td>\n",
       "      <td>Queens</td>\n",
       "      <td>11368.0</td>\n",
       "      <td>7184576057</td>\n",
       "      <td>American</td>\n",
       "      <td>2019-10-03 00:00:00.000000000</td>\n",
       "      <td>Violations were cited in the following area(s).</td>\n",
       "      <td>164.0</td>\n",
       "      <td>...</td>\n",
       "      <td>0</td>\n",
       "      <td>0</td>\n",
       "      <td>0</td>\n",
       "      <td>0</td>\n",
       "      <td>0</td>\n",
       "      <td>renix sports bar</td>\n",
       "      <td>0</td>\n",
       "      <td>3350.0</td>\n",
       "      <td>2600.0</td>\n",
       "      <td>2975.0</td>\n",
       "    </tr>\n",
       "  </tbody>\n",
       "</table>\n",
       "<p>129794 rows × 51 columns</p>\n",
       "</div>"
      ],
      "text/plain": [
       "        Unnamed: 0     camis                            dba       boro  \\\n",
       "0                0  30075445          Morris Park Bake Shop      Bronx   \n",
       "1                1  30075445          Morris Park Bake Shop      Bronx   \n",
       "2                2  30075445          Morris Park Bake Shop      Bronx   \n",
       "3                3  30075445          Morris Park Bake Shop      Bronx   \n",
       "4                4  30112340                        Wendy'S   Brooklyn   \n",
       "...            ...       ...                            ...        ...   \n",
       "129789      129789  50098755  Golden Bay Parkway Restaurant   Brooklyn   \n",
       "129790      129790  50098765                Philippe'S Cafe   Brooklyn   \n",
       "129791      129791  50098791                 Jerusalem Cafe  Manhattan   \n",
       "129792      129792  50099066                  Bandit Coffee  Manhattan   \n",
       "129793      129793  50099216               Renix Sports Bar     Queens   \n",
       "\n",
       "        zipcode       phone cuisine_description  \\\n",
       "0       10462.0  7188924968              Bakery   \n",
       "1       10462.0  7188924968              Bakery   \n",
       "2       10462.0  7188924968              Bakery   \n",
       "3       10462.0  7188924968              Bakery   \n",
       "4       11225.0  7182875005          Hamburgers   \n",
       "...         ...         ...                 ...   \n",
       "129789  11204.0  7182329888             Chinese   \n",
       "129790  11231.0  6469180552          Sandwiches   \n",
       "129791  10018.0  2123981475       Jewish/Kosher   \n",
       "129792  10017.0  6469266195     Café/Coffee/Tea   \n",
       "129793  11368.0  7184576057            American   \n",
       "\n",
       "                      inspection_date  \\\n",
       "0       2017-05-18 00:00:00.000000000   \n",
       "1       2018-05-11 00:00:00.000000000   \n",
       "2       2019-05-16 00:00:00.000000000   \n",
       "3       2019-06-11 00:00:00.000000000   \n",
       "4       2016-04-12 00:00:00.000000000   \n",
       "...                               ...   \n",
       "129789  2019-10-02 00:00:00.000000000   \n",
       "129790  2019-10-01 00:00:00.000000000   \n",
       "129791  2019-09-24 00:00:00.000000000   \n",
       "129792  2019-09-30 00:00:00.000000000   \n",
       "129793  2019-10-03 00:00:00.000000000   \n",
       "\n",
       "                                                   action  score  ...  \\\n",
       "0         Violations were cited in the following area(s).    7.0  ...   \n",
       "1         Violations were cited in the following area(s).    5.0  ...   \n",
       "2         Violations were cited in the following area(s).   14.0  ...   \n",
       "3         Violations were cited in the following area(s).    6.0  ...   \n",
       "4       No violations were recorded at the time of thi...    0.0  ...   \n",
       "...                                                   ...    ...  ...   \n",
       "129789    Violations were cited in the following area(s).   10.0  ...   \n",
       "129790    Violations were cited in the following area(s).   62.0  ...   \n",
       "129791    Violations were cited in the following area(s).   24.0  ...   \n",
       "129792    Violations were cited in the following area(s).   38.0  ...   \n",
       "129793    Violations were cited in the following area(s).  164.0  ...   \n",
       "\n",
       "       pre_re_0 pre_re_1 pre_re_2 re-opened  was_closed  \\\n",
       "0             0        0        0         0           0   \n",
       "1             0        0        0         0           0   \n",
       "2             0        0        0         0           0   \n",
       "3             0        0        0         0           0   \n",
       "4             0        0        0         0           0   \n",
       "...         ...      ...      ...       ...         ...   \n",
       "129789        0        0        0         0           0   \n",
       "129790        0        0        0         0           0   \n",
       "129791        0        0        0         0           0   \n",
       "129792        0        0        0         0           0   \n",
       "129793        0        0        0         0           0   \n",
       "\n",
       "                              mod_dba  is_chain  new_high  new_low  avg_est  \n",
       "0               morris park bake shop         0       0.0      0.0      0.0  \n",
       "1               morris park bake shop         0       0.0      0.0      0.0  \n",
       "2               morris park bake shop         0     750.0    600.0    675.0  \n",
       "3               morris park bake shop         0     600.0    600.0    600.0  \n",
       "4                              wendys         1       0.0      0.0      0.0  \n",
       "...                               ...       ...       ...      ...      ...  \n",
       "129789  golden bay parkway restaurant         0       0.0      0.0      0.0  \n",
       "129790                 philippes cafe         0    1100.0    900.0   1000.0  \n",
       "129791                 jerusalem cafe         0    1650.0   1400.0   1525.0  \n",
       "129792                  bandit coffee         0     700.0    500.0    600.0  \n",
       "129793               renix sports bar         0    3350.0   2600.0   2975.0  \n",
       "\n",
       "[129794 rows x 51 columns]"
      ]
     },
     "execution_count": 4,
     "metadata": {},
     "output_type": "execute_result"
    }
   ],
   "source": [
    "df"
   ]
  },
  {
   "cell_type": "code",
   "execution_count": null,
   "metadata": {},
   "outputs": [],
   "source": []
  }
 ],
 "metadata": {
  "kernelspec": {
   "display_name": "Python 3",
   "language": "python",
   "name": "python3"
  },
  "language_info": {
   "codemirror_mode": {
    "name": "ipython",
    "version": 3
   },
   "file_extension": ".py",
   "mimetype": "text/x-python",
   "name": "python",
   "nbconvert_exporter": "python",
   "pygments_lexer": "ipython3",
   "version": "3.7.3"
  }
 },
 "nbformat": 4,
 "nbformat_minor": 2
}

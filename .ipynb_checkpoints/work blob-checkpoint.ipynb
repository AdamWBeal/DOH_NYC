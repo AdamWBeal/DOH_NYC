{
 "cells": [
  {
   "cell_type": "code",
   "execution_count": 1,
   "metadata": {},
   "outputs": [],
   "source": [
    "import pandas as pd\n",
    "import datetime\n",
    "import seaborn as sns; sns.set(color_codes=True)\n",
    "import math\n",
    "import matplotlib\n",
    "import numpy as np\n",
    "import matplotlib.pyplot as plt\n",
    "import random\n",
    "import itertools\n",
    "from scipy import stats\n",
    "%matplotlib inline"
   ]
  },
  {
   "cell_type": "code",
   "execution_count": 2,
   "metadata": {},
   "outputs": [],
   "source": [
    "df = pd.read_csv('./assets/archive/DOHMH_New_York_City_Restaurant_Inspection_Results (36).csv')            "
   ]
  },
  {
   "cell_type": "code",
   "execution_count": 26,
   "metadata": {},
   "outputs": [
    {
     "name": "stdout",
     "output_type": "stream",
     "text": [
      "took 0:01:12.765820 seconds\n"
     ]
    }
   ],
   "source": [
    "start = datetime.datetime.now()\n",
    "\n",
    "\n",
    "df.columns = [i.lower() for i in df.columns]\n",
    "\n",
    "df.rename(index=str,columns={'cuisine description':'cuisine_description',\n",
    "                            'inspection date':'inspection_date',\n",
    "                            'critical flag':'critical_flag',\n",
    "                            'grade date':'grade_date',\n",
    "                            'record date':'record_date',\n",
    "                            'inspection type':'inspection_type',\n",
    "                            'violation code':'violation_code',\n",
    "                            'violation description':'violation_description'}, inplace=True)\n",
    "\n",
    "df = df[df['inspection_type'].str.contains('Cycle') |\n",
    "   df['inspection_type'].str.contains('Pre-permit')\n",
    "  ]\n",
    "\n",
    "df['grade_date'] = pd.to_datetime(df['grade_date'],errors='coerce', format='%m/%d/%Y')\n",
    "df['inspection_date'] = pd.to_datetime(df['inspection_date'],errors='coerce', format='%m/%d/%Y')\n",
    "df['record_date'] = pd.to_datetime(df['record_date'],errors='coerce', format='%m/%d/%Y')\n",
    "\n",
    "\n",
    "df['dba'] = df['dba'].str.lower()\n",
    "df['address'] = df['building'] + ' ' + df['street'].str.title()\n",
    "df.drop(['building','street'],axis=1, inplace=True)\n",
    "df['dba'] = df['dba'].str.title()\n",
    "df['boro'] = df['boro'].str.title()\n",
    "df['season'] = df['inspection_date'].apply(lambda dt: (dt.month%12 + 3)//3)\n",
    "df['year']=df['inspection_date'].dt.year\n",
    "\n",
    "\n",
    "df['key'] = df['camis'] + df['inspection_date']\n",
    "\n",
    "df = df.drop_duplicates(['key','violation_code'])\n",
    "\n",
    "pending_df = df[df['inspection_date']<'1/1/1901'].copy()\n",
    "current_df = df[df['inspection_date']>'1/1/1901'].copy()\n",
    "\n",
    "current_df.sort_values(['camis','inspection_date'], ascending=False, inplace=True)\n",
    "current_df.reset_index(drop=True,inplace=True)\n",
    "\n",
    "\n",
    "df = current_df\n",
    "\n",
    "# Make a dictionary with all violations\n",
    "\n",
    "\n",
    "violation_dictionary = {}\n",
    "for i in range(len(df)):\n",
    "    current_code = df.loc[i,'violation_code']\n",
    "    current_desc = df.loc[i,'violation_description']\n",
    "    \n",
    "    if current_code not in violation_dictionary:\n",
    "        violation_dictionary[current_code] = current_desc\n",
    "        \n",
    "\n",
    "\n",
    "violation_df = {}\n",
    "for i in range(len(df)):\n",
    "    current_key = df['key'][i]\n",
    "    current_code = df['violation_code'][i]\n",
    "    \n",
    "    if current_key in violation_df:\n",
    "        violation_df[current_key].append(current_code)\n",
    "    else:\n",
    "        violation_df[current_key] = [current_code]\n",
    "        \n",
    "codes = []\n",
    "keys = []\n",
    "for k,v in violation_df.items():\n",
    "    keys.append(k)\n",
    "    codes.append(v)\n",
    "    \n",
    "d = {'key':keys,'codes':codes}\n",
    "insp = pd.DataFrame(d)\n",
    "\n",
    "\n",
    "df = df.drop_duplicates('key').drop(['violation_code','violation_description','critical_flag'], axis=1)\n",
    "df = df.merge(insp, on='key')\n",
    "\n",
    "df.sort_values(['camis','inspection_date'], inplace=True)\n",
    "df.reset_index(drop=True, inplace=True)\n",
    "\n",
    "\n",
    "\n",
    "\n",
    "\n",
    "df.reset_index(inplace=True, drop=True)\n",
    "s1 = []\n",
    "next_index = 1\n",
    "\n",
    "for i in range(len(df)-1):\n",
    "    current_camis = df.loc[i,'camis']\n",
    "    next_camis = df.loc[next_index,'camis']\n",
    "    \n",
    "    if current_camis == next_camis:\n",
    "        time_delt = df.loc[next_index,'inspection_date'] - df.loc[i,'inspection_date']\n",
    "        s1.append(time_delt)\n",
    "    else:\n",
    "        s1.append(pd.NaT)\n",
    "        \n",
    "    next_index += 1\n",
    "    \n",
    "s1.append(pd.NaT)\n",
    "df['time_til'] = pd.Series(s1)\n",
    "\n",
    "df['event'] = df['time_til'].apply(lambda x: 1 if pd.notnull(x) else 0)\n",
    "df['time_til'] = df['time_til'].where(pd.notnull(df['time_til']), df['record_date'] - df['inspection_date'])\n",
    "df['time_til'] = df['time_til'].apply(lambda x: x.days)\n",
    "\n",
    "df.reset_index(drop=True, inplace=True)\n",
    "\n",
    "inspection_bin = []\n",
    "\n",
    "for i in range(len(df)):\n",
    "    current_type = df.loc[i,'inspection_type']\n",
    "    current_score = df.loc[i,'score']\n",
    "    current_camis = df.loc[i,'camis']\n",
    "    current_action = df.loc[i,'action']\n",
    "    current_time = df.loc[i,'time_til']\n",
    "    current_event = df.loc[i,'event']\n",
    "    \n",
    "    if 'losed' in current_action:\n",
    "        inspection_bin.append('was_closed')\n",
    "        \n",
    "    elif 're-open' in current_action:\n",
    "        inspection_bin.append('re-opened')\n",
    "        \n",
    "    elif 'Cycle' in current_type:\n",
    "        if 'Initial' in current_type:\n",
    "            if (current_score < 14) & (current_event == 1) & (current_time < 300):\n",
    "                inspection_bin.append('cyc_init_1')\n",
    "            elif current_score < 14:\n",
    "                inspection_bin.append('cyc_init_0')\n",
    "            elif current_score > 13:\n",
    "                inspection_bin.append('cyc_init_1')\n",
    "                \n",
    "        elif 'Re-' in current_type:\n",
    "            previous_score = df.loc[i-1,'score']\n",
    "            previous_camis = df.loc[i-1,'camis']\n",
    "            \n",
    "            if current_camis == previous_camis:\n",
    "                if previous_score < 14:\n",
    "                    inspection_bin.append('cyc_re_0')\n",
    "                elif previous_score > 13 and previous_score < 28:\n",
    "                    inspection_bin.append('cyc_re_1')\n",
    "                elif previous_score > 27:\n",
    "                    inspection_bin.append('cyc_re_2')\n",
    "            else:\n",
    "                inspection_bin.append('missing_prior_cycle')\n",
    "        else:\n",
    "            inspection_bin.append('other_cycle')\n",
    "            \n",
    "            \n",
    "    elif 'Pre-' in current_type:\n",
    "        if 'Initial' in current_type:\n",
    "            if (current_score < 14) & (current_event == 1) & (current_time < 300):\n",
    "                inspection_bin.append('pre_init_1')\n",
    "            elif current_score < 14:\n",
    "                inspection_bin.append('pre_init_0')\n",
    "            elif current_score > 13:\n",
    "                inspection_bin.append('pre_init_1')\n",
    "                \n",
    "        elif 'Re-' in current_type:\n",
    "            previous_camis = df.loc[i-1,'camis']\n",
    "            previous_score = df.loc[i-1,'score']\n",
    "            \n",
    "            if current_camis == previous_camis:\n",
    "                if previous_score < 14:\n",
    "                    inspection_bin.append('pre_re_0')\n",
    "                elif previous_score > 13 and previous_score < 28:\n",
    "                    inspection_bin.append('pre_re_1')\n",
    "                elif previous_score > 27:\n",
    "                    inspection_bin.append('pre_re_2')\n",
    "            else:\n",
    "                inspection_bin.append('missing_prior_pre')\n",
    "        else:\n",
    "            inspection_bin.append('other_pre')\n",
    "    else:\n",
    "        inspection_bin.append('other')\n",
    "        \n",
    "\n",
    "inspection_bin = pd.Series(inspection_bin)\n",
    "\n",
    "df['inspection_bin'] = inspection_bin\n",
    "\n",
    "bin_dummies = pd.get_dummies(df['inspection_bin'], drop_first=False)\n",
    "df = df.join(bin_dummies)\n",
    "del(bin_dummies)\n",
    "\n",
    "# chain feature engineering\n",
    "df['mod_dba'] = df['dba'].str.lower().str.replace('[^a-zA-Z ]', '')\n",
    "df['mod_dba'] = df['mod_dba'].str.replace('\\s+', ' ').str.strip()\n",
    "\n",
    "chain_filter = df.drop_duplicates('camis')['mod_dba'].value_counts()\n",
    "\n",
    "df['is_chain'] = pd.Series(chain_filter[df['mod_dba']].apply(lambda x: 1 if x > 3 else 0).values)\n",
    "\n",
    "\n",
    "print('took {} seconds'.format(datetime.datetime.now()-start))\n"
   ]
  },
  {
   "cell_type": "markdown",
   "metadata": {},
   "source": [
    "Fines\n",
    "________________"
   ]
  },
  {
   "cell_type": "code",
   "execution_count": 27,
   "metadata": {},
   "outputs": [
    {
     "name": "stderr",
     "output_type": "stream",
     "text": [
      "C:\\ProgramData\\Anaconda3\\lib\\site-packages\\pandas\\core\\indexing.py:961: FutureWarning: \n",
      "Passing list-likes to .loc or [] with any missing label will raise\n",
      "KeyError in the future, you can use .reindex() as an alternative.\n",
      "\n",
      "See the documentation here:\n",
      "https://pandas.pydata.org/pandas-docs/stable/user_guide/indexing.html#deprecate-loc-reindex-listlike\n",
      "  return getattr(section, self.name)[new_key]\n"
     ]
    },
    {
     "name": "stdout",
     "output_type": "stream",
     "text": [
      "took 0:03:52.397531 seconds\n"
     ]
    }
   ],
   "source": [
    "start = datetime.datetime.now()\n",
    "\n",
    "fines = pd.read_csv('./assets/fine_schedule.csv')\n",
    "\n",
    "fines['code'] = fines['code'].str.upper()\n",
    "fines.drop_duplicates('code', inplace=True)\n",
    "fines.set_index('code', inplace=True)\n",
    "\n",
    "def get_fines_low(x):\n",
    "    try:\n",
    "        return fines.loc[x,'low'].sum()\n",
    "    except KeyError:\n",
    "        return 0\n",
    "\n",
    "fine_list_low = df['codes'].apply(get_fines_low)\n",
    "\n",
    "def get_fines_high(x):\n",
    "    try:\n",
    "        return fines.loc[x,'high'].sum()\n",
    "    except KeyError:\n",
    "        return 0\n",
    "\n",
    "fine_list_high = df['codes'].apply(get_fines_high)\n",
    "\n",
    "df['hi_fine_est'] = fine_list_high\n",
    "df['low_fine_est'] = fine_list_low\n",
    "\n",
    "filt = ((df['score']<14) & (df['inspection_type'].str.contains('Initial')))\n",
    "df['new_high'] = pd.Series(np.where(filt, 0, df['hi_fine_est']))\n",
    "df['new_low'] = pd.Series(np.where(filt, 0, df['low_fine_est']))\n",
    "df.drop(['hi_fine_est','low_fine_est'], axis=1, inplace=True)\n",
    "df['avg_est'] = df[['new_high', 'new_low']].mean(axis=1)\n",
    "\n",
    "print('took {} seconds'.format(datetime.datetime.now()-start))\n"
   ]
  },
  {
   "cell_type": "code",
   "execution_count": 67,
   "metadata": {},
   "outputs": [],
   "source": []
  },
  {
   "cell_type": "code",
   "execution_count": 28,
   "metadata": {},
   "outputs": [],
   "source": [
    "# df.to_csv('./assets/working_df.csv')"
   ]
  },
  {
   "cell_type": "code",
   "execution_count": 294,
   "metadata": {},
   "outputs": [],
   "source": [
    "path = \"C:/Users/a/Documents/Projects/doh/\"\n",
    "\n",
    "os.chdir(path)"
   ]
  },
  {
   "cell_type": "code",
   "execution_count": 2,
   "metadata": {},
   "outputs": [],
   "source": [
    "df = pd.read_csv('./assets/working_df.csv')"
   ]
  },
  {
   "cell_type": "code",
   "execution_count": 3,
   "metadata": {},
   "outputs": [],
   "source": [
    "df.drop('Unnamed: 0', axis=1, inplace=True)"
   ]
  },
  {
   "cell_type": "code",
   "execution_count": 117,
   "metadata": {},
   "outputs": [],
   "source": [
    "df['day_of_event'] = (df['inspection_date'] +  pd.to_timedelta(pd.np.ceil(df['time_til']), unit=\"D\")).dt.dayofweek\n",
    "df = df.join(pd.get_dummies(df['day_of_event'],drop_first=False))\n",
    "df.rename(columns={0:'monday',\n",
    "                  1:'tuesday',\n",
    "                  2:'wednesday',\n",
    "                  3:'thursday',\n",
    "                  4:'friday',\n",
    "                  5:'saturday',\n",
    "                  6:'sunday'},inplace=True)\n",
    "\n"
   ]
  },
  {
   "cell_type": "markdown",
   "metadata": {},
   "source": [
    "Time to Pre-Initial"
   ]
  },
  {
   "cell_type": "code",
   "execution_count": 361,
   "metadata": {},
   "outputs": [
    {
     "name": "stderr",
     "output_type": "stream",
     "text": [
      "C:\\ProgramData\\Anaconda3\\lib\\site-packages\\IPython\\core\\interactiveshell.py:3058: DtypeWarning: Columns (6) have mixed types. Specify dtype option on import or set low_memory=False.\n",
      "  interactivity=interactivity, compiler=compiler, result=result)\n"
     ]
    },
    {
     "name": "stdout",
     "output_type": "stream",
     "text": [
      "174 remaining\n",
      "164 remaining\n",
      "154 remaining\n",
      "144 remaining\n",
      "134 remaining\n",
      "124 remaining\n",
      "114 remaining\n",
      "104 remaining\n",
      "94 remaining\n",
      "84 remaining\n",
      "74 remaining\n",
      "64 remaining\n",
      "54 remaining\n",
      "44 remaining\n",
      "34 remaining\n",
      "24 remaining\n",
      "14 remaining\n",
      "4 remaining\n",
      "0:09:19.555479\n"
     ]
    }
   ],
   "source": [
    "import pandas as pd\n",
    "import os\n",
    "import glob\n",
    "\n",
    "path = \"C:/Users/a/Documents/Projects/doh/assets/archive\"\n",
    "extension = 'csv'\n",
    "os.chdir(path)\n",
    "result = glob.glob('*.{}'.format(extension))\n",
    "data = pd.DataFrame()\n",
    "counter = 0\n",
    "\n",
    "start = datetime.datetime.now()\n",
    "\n",
    "for day in result:\n",
    "\n",
    "    df = pd.read_csv(path+'/'+day)\n",
    "    df = df[df['INSPECTION DATE']=='01/01/1900'][['CAMIS','DBA','RECORD DATE','INSPECTION DATE']]\n",
    "    df['RECORD DATE']=pd.to_datetime(df['RECORD DATE'],errors='coerce', format='%m/%d/%Y')\n",
    "\n",
    "    data = pd.concat([data,df])\n",
    "    data = data.sort_values(['CAMIS','RECORD DATE']).drop_duplicates(['CAMIS'], keep='first')\n",
    "\n",
    "    counter += 1\n",
    "    if counter % 10 == 0:\n",
    "        print('{} remaining'.format(len(result)-counter))\n",
    "    \n",
    "\n",
    "    \n",
    "print(datetime.datetime.now()-start)"
   ]
  },
  {
   "cell_type": "code",
   "execution_count": 363,
   "metadata": {},
   "outputs": [],
   "source": [
    "import os\n",
    "\n",
    "path = \"C:/Users/a/Documents/Projects/doh/\"\n",
    "os.chdir(path)\n",
    "\n",
    "data.to_csv('./date_of_permit.csv')"
   ]
  },
  {
   "cell_type": "code",
   "execution_count": 367,
   "metadata": {},
   "outputs": [],
   "source": [
    "data['record_date'] = pd.to_datetime(data['RECORD DATE'])"
   ]
  },
  {
   "cell_type": "code",
   "execution_count": 374,
   "metadata": {},
   "outputs": [
    {
     "data": {
      "text/plain": [
       "DBA                       Via Caramico\n",
       "RECORD DATE        2019-07-18 00:00:00\n",
       "INSPECTION DATE             01/01/1900\n",
       "record_date        2019-07-18 00:00:00\n",
       "Name: 50095664, dtype: object"
      ]
     },
     "execution_count": 374,
     "metadata": {},
     "output_type": "execute_result"
    }
   ],
   "source": [
    "data.set_index('CAMIS').iloc[4355,:]"
   ]
  },
  {
   "cell_type": "markdown",
   "metadata": {},
   "source": [
    "Daily Inspection Parser"
   ]
  },
  {
   "cell_type": "code",
   "execution_count": 280,
   "metadata": {},
   "outputs": [
    {
     "name": "stderr",
     "output_type": "stream",
     "text": [
      "C:\\ProgramData\\Anaconda3\\lib\\site-packages\\IPython\\core\\interactiveshell.py:3058: DtypeWarning: Columns (6) have mixed types. Specify dtype option on import or set low_memory=False.\n",
      "  interactivity=interactivity, compiler=compiler, result=result)\n"
     ]
    },
    {
     "name": "stdout",
     "output_type": "stream",
     "text": [
      "current: 5\n",
      "avg rate 0:00:06.404735:\n",
      "165 left\n",
      "-------------\n",
      "current: 10\n",
      "avg rate 0:00:06.459576:\n",
      "160 left\n",
      "-------------\n",
      "current: 15\n",
      "avg rate 0:00:07.642457:\n",
      "155 left\n",
      "-------------\n",
      "current: 20\n",
      "avg rate 0:00:08.486936:\n",
      "150 left\n",
      "-------------\n",
      "current: 25\n",
      "avg rate 0:00:08.006182:\n",
      "145 left\n",
      "-------------\n",
      "current: 30\n",
      "avg rate 0:00:07.486656:\n",
      "140 left\n",
      "-------------\n",
      "current: 35\n",
      "avg rate 0:00:07.331439:\n",
      "135 left\n",
      "-------------\n",
      "current: 40\n",
      "avg rate 0:00:07.284357:\n",
      "130 left\n",
      "-------------\n",
      "current: 45\n",
      "avg rate 0:00:07.192910:\n",
      "125 left\n",
      "-------------\n",
      "current: 50\n",
      "avg rate 0:00:07.086471:\n",
      "120 left\n",
      "-------------\n",
      "current: 55\n",
      "avg rate 0:00:07.024480:\n",
      "115 left\n",
      "-------------\n",
      "current: 60\n",
      "avg rate 0:00:06.960673:\n",
      "110 left\n",
      "-------------\n",
      "current: 65\n",
      "avg rate 0:00:06.822691:\n",
      "105 left\n",
      "-------------\n",
      "current: 70\n",
      "avg rate 0:00:06.668455:\n",
      "100 left\n",
      "-------------\n",
      "current: 75\n",
      "avg rate 0:00:06.503095:\n",
      "95 left\n",
      "-------------\n",
      "current: 80\n",
      "avg rate 0:00:06.386083:\n",
      "90 left\n",
      "-------------\n",
      "current: 85\n",
      "avg rate 0:00:06.269696:\n",
      "85 left\n",
      "-------------\n",
      "current: 90\n",
      "avg rate 0:00:06.183331:\n",
      "80 left\n",
      "-------------\n",
      "current: 95\n",
      "avg rate 0:00:06.099757:\n",
      "75 left\n",
      "-------------\n",
      "current: 100\n",
      "avg rate 0:00:06.089081:\n",
      "70 left\n",
      "-------------\n",
      "current: 105\n",
      "avg rate 0:00:06.023257:\n",
      "65 left\n",
      "-------------\n",
      "current: 110\n",
      "avg rate 0:00:05.983658:\n",
      "60 left\n",
      "-------------\n",
      "current: 115\n",
      "avg rate 0:00:05.945303:\n",
      "55 left\n",
      "-------------\n",
      "current: 120\n",
      "avg rate 0:00:05.869174:\n",
      "50 left\n",
      "-------------\n",
      "current: 125\n",
      "avg rate 0:00:05.832940:\n",
      "45 left\n",
      "-------------\n",
      "current: 130\n",
      "avg rate 0:00:05.777183:\n",
      "40 left\n",
      "-------------\n",
      "current: 135\n",
      "avg rate 0:00:05.801630:\n",
      "35 left\n",
      "-------------\n",
      "current: 140\n",
      "avg rate 0:00:05.836316:\n",
      "30 left\n",
      "-------------\n",
      "current: 145\n",
      "avg rate 0:00:05.879996:\n",
      "25 left\n",
      "-------------\n",
      "current: 150\n",
      "avg rate 0:00:05.877410:\n",
      "20 left\n",
      "-------------\n",
      "current: 155\n",
      "avg rate 0:00:05.969677:\n",
      "15 left\n",
      "-------------\n",
      "current: 160\n",
      "avg rate 0:00:06.009740:\n",
      "10 left\n",
      "-------------\n",
      "current: 165\n",
      "avg rate 0:00:06.039321:\n",
      "5 left\n",
      "-------------\n",
      "current: 170\n",
      "avg rate 0:00:06.065792:\n",
      "0 left\n",
      "-------------\n",
      "0:17:11.184655\n",
      "0:00:06.030320\n"
     ]
    }
   ],
   "source": [
    "import pandas as pd\n",
    "import os\n",
    "import glob\n",
    "\n",
    "path = \"C:/Users/a/Documents/Projects/doh/assets/archive\"\n",
    "extension = 'csv'\n",
    "os.chdir(path)\n",
    "result = glob.glob('*.{}'.format(extension))\n",
    "data = pd.DataFrame()\n",
    "counter = 1\n",
    "start = datetime.datetime.now()\n",
    "\n",
    "for day in result:\n",
    "    df = pd.read_csv(path + '/' + day)\n",
    "    df = df[df['INSPECTION DATE'] != '01/01/1900'][['CAMIS','DBA','RECORD DATE','INSPECTION DATE',\\\n",
    "                                                 'VIOLATION CODE', 'SCORE','INSPECTION TYPE']]\n",
    "    df['RECORD DATE'] = pd.to_datetime(df['RECORD DATE'],errors='coerce', format='%m/%d/%Y')\n",
    "    df['INSPECTION DATE'] = pd.to_datetime(df['INSPECTION DATE'],errors='coerce', format='%m/%d/%Y')\n",
    "\n",
    "    data = pd.concat([data,df])\n",
    "    data.sort_values(['CAMIS','VIOLATION CODE','INSPECTION DATE','RECORD DATE'], inplace=True)\n",
    "    data.drop_duplicates(['CAMIS','VIOLATION CODE','INSPECTION DATE'], inplace=True)\n",
    "    \n",
    "    \n",
    "    if counter % 5 == 0:\n",
    "        print('current: {}'.format(counter))\n",
    "        print('avg rate {}:'.format((datetime.datetime.now()-start)/(counter)))\n",
    "        print('{} left\\n-------------'.format(len(result)-counter))\n",
    "\n",
    "    counter += 1\n",
    "    \n",
    "print(datetime.datetime.now()-start)\n",
    "print((datetime.datetime.now()-start)/counter)"
   ]
  },
  {
   "cell_type": "code",
   "execution_count": 303,
   "metadata": {},
   "outputs": [
    {
     "data": {
      "text/html": [
       "<div>\n",
       "<style scoped>\n",
       "    .dataframe tbody tr th:only-of-type {\n",
       "        vertical-align: middle;\n",
       "    }\n",
       "\n",
       "    .dataframe tbody tr th {\n",
       "        vertical-align: top;\n",
       "    }\n",
       "\n",
       "    .dataframe thead th {\n",
       "        text-align: right;\n",
       "    }\n",
       "</style>\n",
       "<table border=\"1\" class=\"dataframe\">\n",
       "  <thead>\n",
       "    <tr style=\"text-align: right;\">\n",
       "      <th></th>\n",
       "      <th>CAMIS</th>\n",
       "      <th>DBA</th>\n",
       "      <th>RECORD DATE</th>\n",
       "      <th>INSPECTION DATE</th>\n",
       "      <th>VIOLATION CODE</th>\n",
       "      <th>SCORE</th>\n",
       "      <th>INSPECTION TYPE</th>\n",
       "    </tr>\n",
       "  </thead>\n",
       "  <tbody>\n",
       "    <tr>\n",
       "      <td>116856</td>\n",
       "      <td>40365972</td>\n",
       "      <td>BLARNEY BAR</td>\n",
       "      <td>2018-10-17</td>\n",
       "      <td>2015-06-25</td>\n",
       "      <td>04H</td>\n",
       "      <td>19.0</td>\n",
       "      <td>Cycle Inspection / Initial Inspection</td>\n",
       "    </tr>\n",
       "    <tr>\n",
       "      <td>198868</td>\n",
       "      <td>40365972</td>\n",
       "      <td>BLARNEY BAR</td>\n",
       "      <td>2018-10-17</td>\n",
       "      <td>2015-06-25</td>\n",
       "      <td>04L</td>\n",
       "      <td>19.0</td>\n",
       "      <td>Cycle Inspection / Initial Inspection</td>\n",
       "    </tr>\n",
       "    <tr>\n",
       "      <td>131157</td>\n",
       "      <td>40365972</td>\n",
       "      <td>BLARNEY BAR</td>\n",
       "      <td>2018-10-17</td>\n",
       "      <td>2015-06-25</td>\n",
       "      <td>10F</td>\n",
       "      <td>19.0</td>\n",
       "      <td>Cycle Inspection / Initial Inspection</td>\n",
       "    </tr>\n",
       "    <tr>\n",
       "      <td>344172</td>\n",
       "      <td>40365972</td>\n",
       "      <td>BLARNEY BAR</td>\n",
       "      <td>2018-10-17</td>\n",
       "      <td>2015-06-25</td>\n",
       "      <td>08A</td>\n",
       "      <td>19.0</td>\n",
       "      <td>Cycle Inspection / Initial Inspection</td>\n",
       "    </tr>\n",
       "    <tr>\n",
       "      <td>97588</td>\n",
       "      <td>40365972</td>\n",
       "      <td>BLARNEY BAR</td>\n",
       "      <td>2018-10-17</td>\n",
       "      <td>2015-07-27</td>\n",
       "      <td>04L</td>\n",
       "      <td>15.0</td>\n",
       "      <td>Cycle Inspection / Re-inspection</td>\n",
       "    </tr>\n",
       "    <tr>\n",
       "      <td>278115</td>\n",
       "      <td>40365972</td>\n",
       "      <td>BLARNEY BAR</td>\n",
       "      <td>2018-10-17</td>\n",
       "      <td>2015-07-27</td>\n",
       "      <td>06D</td>\n",
       "      <td>15.0</td>\n",
       "      <td>Cycle Inspection / Re-inspection</td>\n",
       "    </tr>\n",
       "    <tr>\n",
       "      <td>150669</td>\n",
       "      <td>40365972</td>\n",
       "      <td>BLARNEY BAR</td>\n",
       "      <td>2018-10-17</td>\n",
       "      <td>2015-07-27</td>\n",
       "      <td>08A</td>\n",
       "      <td>15.0</td>\n",
       "      <td>Cycle Inspection / Re-inspection</td>\n",
       "    </tr>\n",
       "    <tr>\n",
       "      <td>315614</td>\n",
       "      <td>40365972</td>\n",
       "      <td>BLARNEY BAR</td>\n",
       "      <td>2018-10-17</td>\n",
       "      <td>2016-03-10</td>\n",
       "      <td>10F</td>\n",
       "      <td>10.0</td>\n",
       "      <td>Cycle Inspection / Initial Inspection</td>\n",
       "    </tr>\n",
       "    <tr>\n",
       "      <td>139731</td>\n",
       "      <td>40365972</td>\n",
       "      <td>BLARNEY BAR</td>\n",
       "      <td>2018-10-17</td>\n",
       "      <td>2016-03-10</td>\n",
       "      <td>06F</td>\n",
       "      <td>10.0</td>\n",
       "      <td>Cycle Inspection / Initial Inspection</td>\n",
       "    </tr>\n",
       "    <tr>\n",
       "      <td>112500</td>\n",
       "      <td>40365972</td>\n",
       "      <td>BLARNEY BAR</td>\n",
       "      <td>2018-10-17</td>\n",
       "      <td>2016-03-10</td>\n",
       "      <td>10H</td>\n",
       "      <td>10.0</td>\n",
       "      <td>Cycle Inspection / Initial Inspection</td>\n",
       "    </tr>\n",
       "    <tr>\n",
       "      <td>63393</td>\n",
       "      <td>40365972</td>\n",
       "      <td>BLARNEY BAR</td>\n",
       "      <td>2018-10-17</td>\n",
       "      <td>2017-04-19</td>\n",
       "      <td>06D</td>\n",
       "      <td>7.0</td>\n",
       "      <td>Cycle Inspection / Initial Inspection</td>\n",
       "    </tr>\n",
       "    <tr>\n",
       "      <td>106322</td>\n",
       "      <td>40365972</td>\n",
       "      <td>BLARNEY BAR</td>\n",
       "      <td>2018-10-17</td>\n",
       "      <td>2017-04-19</td>\n",
       "      <td>10F</td>\n",
       "      <td>7.0</td>\n",
       "      <td>Cycle Inspection / Initial Inspection</td>\n",
       "    </tr>\n",
       "    <tr>\n",
       "      <td>93886</td>\n",
       "      <td>40365972</td>\n",
       "      <td>BLARNEY BAR</td>\n",
       "      <td>2018-10-17</td>\n",
       "      <td>2018-04-26</td>\n",
       "      <td>08A</td>\n",
       "      <td>11.0</td>\n",
       "      <td>Cycle Inspection / Initial Inspection</td>\n",
       "    </tr>\n",
       "    <tr>\n",
       "      <td>84870</td>\n",
       "      <td>40365972</td>\n",
       "      <td>BLARNEY BAR</td>\n",
       "      <td>2018-10-17</td>\n",
       "      <td>2018-04-26</td>\n",
       "      <td>10A</td>\n",
       "      <td>11.0</td>\n",
       "      <td>Cycle Inspection / Initial Inspection</td>\n",
       "    </tr>\n",
       "    <tr>\n",
       "      <td>127063</td>\n",
       "      <td>40365972</td>\n",
       "      <td>BLARNEY BAR</td>\n",
       "      <td>2018-10-17</td>\n",
       "      <td>2018-04-26</td>\n",
       "      <td>04L</td>\n",
       "      <td>11.0</td>\n",
       "      <td>Cycle Inspection / Initial Inspection</td>\n",
       "    </tr>\n",
       "    <tr>\n",
       "      <td>1745</td>\n",
       "      <td>40365972</td>\n",
       "      <td>BLARNEY BAR</td>\n",
       "      <td>2019-05-03</td>\n",
       "      <td>2019-04-22</td>\n",
       "      <td>06D</td>\n",
       "      <td>12.0</td>\n",
       "      <td>Cycle Inspection / Initial Inspection</td>\n",
       "    </tr>\n",
       "    <tr>\n",
       "      <td>1744</td>\n",
       "      <td>40365972</td>\n",
       "      <td>BLARNEY BAR</td>\n",
       "      <td>2019-05-03</td>\n",
       "      <td>2019-04-22</td>\n",
       "      <td>04H</td>\n",
       "      <td>12.0</td>\n",
       "      <td>Cycle Inspection / Initial Inspection</td>\n",
       "    </tr>\n",
       "  </tbody>\n",
       "</table>\n",
       "</div>"
      ],
      "text/plain": [
       "           CAMIS          DBA RECORD DATE INSPECTION DATE VIOLATION CODE  \\\n",
       "116856  40365972  BLARNEY BAR  2018-10-17      2015-06-25            04H   \n",
       "198868  40365972  BLARNEY BAR  2018-10-17      2015-06-25            04L   \n",
       "131157  40365972  BLARNEY BAR  2018-10-17      2015-06-25            10F   \n",
       "344172  40365972  BLARNEY BAR  2018-10-17      2015-06-25            08A   \n",
       "97588   40365972  BLARNEY BAR  2018-10-17      2015-07-27            04L   \n",
       "278115  40365972  BLARNEY BAR  2018-10-17      2015-07-27            06D   \n",
       "150669  40365972  BLARNEY BAR  2018-10-17      2015-07-27            08A   \n",
       "315614  40365972  BLARNEY BAR  2018-10-17      2016-03-10            10F   \n",
       "139731  40365972  BLARNEY BAR  2018-10-17      2016-03-10            06F   \n",
       "112500  40365972  BLARNEY BAR  2018-10-17      2016-03-10            10H   \n",
       "63393   40365972  BLARNEY BAR  2018-10-17      2017-04-19            06D   \n",
       "106322  40365972  BLARNEY BAR  2018-10-17      2017-04-19            10F   \n",
       "93886   40365972  BLARNEY BAR  2018-10-17      2018-04-26            08A   \n",
       "84870   40365972  BLARNEY BAR  2018-10-17      2018-04-26            10A   \n",
       "127063  40365972  BLARNEY BAR  2018-10-17      2018-04-26            04L   \n",
       "1745    40365972  BLARNEY BAR  2019-05-03      2019-04-22            06D   \n",
       "1744    40365972  BLARNEY BAR  2019-05-03      2019-04-22            04H   \n",
       "\n",
       "        SCORE                        INSPECTION TYPE  \n",
       "116856   19.0  Cycle Inspection / Initial Inspection  \n",
       "198868   19.0  Cycle Inspection / Initial Inspection  \n",
       "131157   19.0  Cycle Inspection / Initial Inspection  \n",
       "344172   19.0  Cycle Inspection / Initial Inspection  \n",
       "97588    15.0       Cycle Inspection / Re-inspection  \n",
       "278115   15.0       Cycle Inspection / Re-inspection  \n",
       "150669   15.0       Cycle Inspection / Re-inspection  \n",
       "315614   10.0  Cycle Inspection / Initial Inspection  \n",
       "139731   10.0  Cycle Inspection / Initial Inspection  \n",
       "112500   10.0  Cycle Inspection / Initial Inspection  \n",
       "63393     7.0  Cycle Inspection / Initial Inspection  \n",
       "106322    7.0  Cycle Inspection / Initial Inspection  \n",
       "93886    11.0  Cycle Inspection / Initial Inspection  \n",
       "84870    11.0  Cycle Inspection / Initial Inspection  \n",
       "127063   11.0  Cycle Inspection / Initial Inspection  \n",
       "1745     12.0  Cycle Inspection / Initial Inspection  \n",
       "1744     12.0  Cycle Inspection / Initial Inspection  "
      ]
     },
     "execution_count": 303,
     "metadata": {},
     "output_type": "execute_result"
    }
   ],
   "source": [
    "data[data['CAMIS']==40365972].sort_values('INSPECTION DATE')"
   ]
  },
  {
   "cell_type": "code",
   "execution_count": 305,
   "metadata": {},
   "outputs": [],
   "source": [
    "# data.to_csv('./early_record_of_violation.csv')"
   ]
  },
  {
   "cell_type": "code",
   "execution_count": 325,
   "metadata": {},
   "outputs": [],
   "source": [
    "import os\n",
    "path = \"C:/Users/a/Documents/Projects/doh/\"\n",
    "os.chdir(path)\n",
    "\n",
    "first = pd.read_csv('./early_record_of_violation.csv')\n",
    "first.drop('Unnamed: 0',axis=1,inplace=True)\n",
    "first.columns = first.columns.str.lower()\n",
    "first.columns = [x.replace(' ','_') for x in first.columns]"
   ]
  },
  {
   "cell_type": "code",
   "execution_count": 326,
   "metadata": {},
   "outputs": [],
   "source": [
    "import os\n",
    "path = \"C:/Users/a/Documents/Projects/doh/assets/archive\"\n",
    "os.chdir(path)\n",
    "recent = pd.read_csv('./DOHMH_New_York_City_Restaurant_Inspection_Results (36).csv')"
   ]
  },
  {
   "cell_type": "code",
   "execution_count": 327,
   "metadata": {},
   "outputs": [],
   "source": [
    "recent.columns = recent.columns.str.lower()\n",
    "recent.columns = [x.replace(' ','_') for x in recent.columns]"
   ]
  },
  {
   "cell_type": "code",
   "execution_count": 328,
   "metadata": {},
   "outputs": [],
   "source": [
    "recent['record_date'] = pd.to_datetime(recent['record_date'],errors='coerce', format='%m/%d/%Y')\n",
    "recent['inspection_date'] = pd.to_datetime(recent['inspection_date'],errors='coerce', format='%m/%d/%Y')\n",
    "first['record_date'] = pd.to_datetime(first['record_date'],errors='coerce')\n",
    "first['inspection_date'] = pd.to_datetime(first['inspection_date'],errors='coerce')\n"
   ]
  },
  {
   "cell_type": "code",
   "execution_count": 329,
   "metadata": {},
   "outputs": [],
   "source": [
    "recent = recent[recent['inspection_date']>='2019-02-21']\n",
    "first = first[first['inspection_date']>='2019-02-21']\n",
    "recent = recent[recent['inspection_date']<='2019-10-02']"
   ]
  },
  {
   "cell_type": "code",
   "execution_count": 330,
   "metadata": {},
   "outputs": [],
   "source": [
    "# recent_values = recent['violation_code'].value_counts()\n",
    "# first_values = first['violation_code'].value_counts()"
   ]
  },
  {
   "cell_type": "code",
   "execution_count": 331,
   "metadata": {},
   "outputs": [],
   "source": [
    "recent['key'] = recent['camis'].apply(lambda x: str(x)) + recent['inspection_date'].apply(lambda x: str(x)) + recent['violation_code']\n",
    "first['key'] = first['camis'].apply(lambda x: str(x)) + first['inspection_date'].apply(lambda x: str(x)) + first['violation_code']\n"
   ]
  },
  {
   "cell_type": "code",
   "execution_count": 332,
   "metadata": {},
   "outputs": [],
   "source": [
    "# first.merge(recent, on='key')"
   ]
  },
  {
   "cell_type": "code",
   "execution_count": 333,
   "metadata": {},
   "outputs": [],
   "source": [
    "y = recent[['camis','key','inspection_date','violation_code','dba']]\n",
    "x = first[['camis','key','inspection_date','violation_code','dba']]"
   ]
  },
  {
   "cell_type": "code",
   "execution_count": 334,
   "metadata": {},
   "outputs": [
    {
     "name": "stderr",
     "output_type": "stream",
     "text": [
      "C:\\ProgramData\\Anaconda3\\lib\\site-packages\\ipykernel_launcher.py:1: SettingWithCopyWarning: \n",
      "A value is trying to be set on a copy of a slice from a DataFrame\n",
      "\n",
      "See the caveats in the documentation: http://pandas.pydata.org/pandas-docs/stable/user_guide/indexing.html#returning-a-view-versus-a-copy\n",
      "  \"\"\"Entry point for launching an IPython kernel.\n",
      "C:\\ProgramData\\Anaconda3\\lib\\site-packages\\ipykernel_launcher.py:2: SettingWithCopyWarning: \n",
      "A value is trying to be set on a copy of a slice from a DataFrame\n",
      "\n",
      "See the caveats in the documentation: http://pandas.pydata.org/pandas-docs/stable/user_guide/indexing.html#returning-a-view-versus-a-copy\n",
      "  \n"
     ]
    }
   ],
   "source": [
    "x.dropna(inplace=True)\n",
    "y.dropna(inplace=True)"
   ]
  },
  {
   "cell_type": "code",
   "execution_count": 335,
   "metadata": {},
   "outputs": [],
   "source": [
    "merged_df = y.merge(x, on='key', how='outer')\n",
    "merged_df.dropna(subset=['dba_y'], axis=0, inplace=True)"
   ]
  },
  {
   "cell_type": "code",
   "execution_count": 356,
   "metadata": {},
   "outputs": [],
   "source": [
    "merged_df['mod_dba'] = merged_df['dba_y'].str.lower().str.replace('[^a-zA-Z ]', '')\n",
    "merged_df['mod_dba'] = merged_df['mod_dba'].str.replace('\\s+', ' ').str.strip()\n",
    "\n",
    "chain_filter = merged_df.drop_duplicates('camis_y')['mod_dba'].value_counts()\n",
    "\n",
    "merged_df.reset_index(drop=True,inplace=True)\n",
    "\n",
    "merged_df['is_chain'] = pd.Series(chain_filter[merged_df['mod_dba']].apply(lambda x: 1 if x > 3 else 0).values)"
   ]
  },
  {
   "cell_type": "code",
   "execution_count": 357,
   "metadata": {},
   "outputs": [
    {
     "data": {
      "text/html": [
       "<div>\n",
       "<style scoped>\n",
       "    .dataframe tbody tr th:only-of-type {\n",
       "        vertical-align: middle;\n",
       "    }\n",
       "\n",
       "    .dataframe tbody tr th {\n",
       "        vertical-align: top;\n",
       "    }\n",
       "\n",
       "    .dataframe thead th {\n",
       "        text-align: right;\n",
       "    }\n",
       "</style>\n",
       "<table border=\"1\" class=\"dataframe\">\n",
       "  <thead>\n",
       "    <tr style=\"text-align: right;\">\n",
       "      <th></th>\n",
       "      <th>camis_x</th>\n",
       "      <th>key</th>\n",
       "      <th>inspection_date_x</th>\n",
       "      <th>violation_code_x</th>\n",
       "      <th>dba_x</th>\n",
       "      <th>camis_y</th>\n",
       "      <th>inspection_date_y</th>\n",
       "      <th>violation_code_y</th>\n",
       "      <th>dba_y</th>\n",
       "      <th>mod_dba</th>\n",
       "      <th>is_chain</th>\n",
       "    </tr>\n",
       "  </thead>\n",
       "  <tbody>\n",
       "    <tr>\n",
       "      <td>0</td>\n",
       "      <td>50078127.0</td>\n",
       "      <td>500781272019-10-01 00:00:0008A</td>\n",
       "      <td>2019-10-01</td>\n",
       "      <td>08A</td>\n",
       "      <td>PANCHITA'S PLACE</td>\n",
       "      <td>50078127.0</td>\n",
       "      <td>2019-10-01</td>\n",
       "      <td>08A</td>\n",
       "      <td>PANCHITA'S PLACE</td>\n",
       "      <td>panchitas place</td>\n",
       "      <td>0</td>\n",
       "    </tr>\n",
       "    <tr>\n",
       "      <td>1</td>\n",
       "      <td>50006968.0</td>\n",
       "      <td>500069682019-04-30 00:00:0009B</td>\n",
       "      <td>2019-04-30</td>\n",
       "      <td>09B</td>\n",
       "      <td>SUBWAY</td>\n",
       "      <td>50006968.0</td>\n",
       "      <td>2019-04-30</td>\n",
       "      <td>09B</td>\n",
       "      <td>SUBWAY</td>\n",
       "      <td>subway</td>\n",
       "      <td>1</td>\n",
       "    </tr>\n",
       "    <tr>\n",
       "      <td>2</td>\n",
       "      <td>50090750.0</td>\n",
       "      <td>500907502019-06-20 00:00:0006C</td>\n",
       "      <td>2019-06-20</td>\n",
       "      <td>06C</td>\n",
       "      <td>NB WING WONG</td>\n",
       "      <td>50090750.0</td>\n",
       "      <td>2019-06-20</td>\n",
       "      <td>06C</td>\n",
       "      <td>NB WING WONG</td>\n",
       "      <td>nb wing wong</td>\n",
       "      <td>0</td>\n",
       "    </tr>\n",
       "    <tr>\n",
       "      <td>3</td>\n",
       "      <td>50091873.0</td>\n",
       "      <td>500918732019-08-19 00:00:0004N</td>\n",
       "      <td>2019-08-19</td>\n",
       "      <td>04N</td>\n",
       "      <td>Domino's Pizza</td>\n",
       "      <td>50091873.0</td>\n",
       "      <td>2019-08-19</td>\n",
       "      <td>04N</td>\n",
       "      <td>Domino's Pizza</td>\n",
       "      <td>dominos pizza</td>\n",
       "      <td>1</td>\n",
       "    </tr>\n",
       "    <tr>\n",
       "      <td>4</td>\n",
       "      <td>50087231.0</td>\n",
       "      <td>500872312019-06-08 00:00:0004N</td>\n",
       "      <td>2019-06-08</td>\n",
       "      <td>04N</td>\n",
       "      <td>THE TASTY WAFFLE COMPANY</td>\n",
       "      <td>50087231.0</td>\n",
       "      <td>2019-06-08</td>\n",
       "      <td>04N</td>\n",
       "      <td>THE TASTY WAFFLE COMPANY</td>\n",
       "      <td>the tasty waffle company</td>\n",
       "      <td>0</td>\n",
       "    </tr>\n",
       "    <tr>\n",
       "      <td>...</td>\n",
       "      <td>...</td>\n",
       "      <td>...</td>\n",
       "      <td>...</td>\n",
       "      <td>...</td>\n",
       "      <td>...</td>\n",
       "      <td>...</td>\n",
       "      <td>...</td>\n",
       "      <td>...</td>\n",
       "      <td>...</td>\n",
       "      <td>...</td>\n",
       "      <td>...</td>\n",
       "    </tr>\n",
       "    <tr>\n",
       "      <td>119659</td>\n",
       "      <td>NaN</td>\n",
       "      <td>500959952019-09-04 00:00:0010J</td>\n",
       "      <td>NaT</td>\n",
       "      <td>NaN</td>\n",
       "      <td>NaN</td>\n",
       "      <td>50095995.0</td>\n",
       "      <td>2019-09-04</td>\n",
       "      <td>10J</td>\n",
       "      <td>MAMISON KIMCHI</td>\n",
       "      <td>mamison kimchi</td>\n",
       "      <td>0</td>\n",
       "    </tr>\n",
       "    <tr>\n",
       "      <td>119660</td>\n",
       "      <td>NaN</td>\n",
       "      <td>500960322019-08-12 00:00:0006D</td>\n",
       "      <td>NaT</td>\n",
       "      <td>NaN</td>\n",
       "      <td>NaN</td>\n",
       "      <td>50096032.0</td>\n",
       "      <td>2019-08-12</td>\n",
       "      <td>06D</td>\n",
       "      <td>ANTALIA</td>\n",
       "      <td>antalia</td>\n",
       "      <td>0</td>\n",
       "    </tr>\n",
       "    <tr>\n",
       "      <td>119661</td>\n",
       "      <td>NaN</td>\n",
       "      <td>500960862019-08-21 00:00:0022A</td>\n",
       "      <td>NaT</td>\n",
       "      <td>NaN</td>\n",
       "      <td>NaN</td>\n",
       "      <td>50096086.0</td>\n",
       "      <td>2019-08-21</td>\n",
       "      <td>22A</td>\n",
       "      <td>PARIS</td>\n",
       "      <td>paris</td>\n",
       "      <td>0</td>\n",
       "    </tr>\n",
       "    <tr>\n",
       "      <td>119662</td>\n",
       "      <td>NaN</td>\n",
       "      <td>500960992019-08-22 00:00:0008A</td>\n",
       "      <td>NaT</td>\n",
       "      <td>NaN</td>\n",
       "      <td>NaN</td>\n",
       "      <td>50096099.0</td>\n",
       "      <td>2019-08-22</td>\n",
       "      <td>08A</td>\n",
       "      <td>CONRADS FAMOUS BAKERY</td>\n",
       "      <td>conrads famous bakery</td>\n",
       "      <td>0</td>\n",
       "    </tr>\n",
       "    <tr>\n",
       "      <td>119663</td>\n",
       "      <td>NaN</td>\n",
       "      <td>500963752019-08-21 00:00:0005H</td>\n",
       "      <td>NaT</td>\n",
       "      <td>NaN</td>\n",
       "      <td>NaN</td>\n",
       "      <td>50096375.0</td>\n",
       "      <td>2019-08-21</td>\n",
       "      <td>05H</td>\n",
       "      <td>MAMA'S PLACE</td>\n",
       "      <td>mamas place</td>\n",
       "      <td>0</td>\n",
       "    </tr>\n",
       "  </tbody>\n",
       "</table>\n",
       "<p>119664 rows × 11 columns</p>\n",
       "</div>"
      ],
      "text/plain": [
       "           camis_x                             key inspection_date_x  \\\n",
       "0       50078127.0  500781272019-10-01 00:00:0008A        2019-10-01   \n",
       "1       50006968.0  500069682019-04-30 00:00:0009B        2019-04-30   \n",
       "2       50090750.0  500907502019-06-20 00:00:0006C        2019-06-20   \n",
       "3       50091873.0  500918732019-08-19 00:00:0004N        2019-08-19   \n",
       "4       50087231.0  500872312019-06-08 00:00:0004N        2019-06-08   \n",
       "...            ...                             ...               ...   \n",
       "119659         NaN  500959952019-09-04 00:00:0010J               NaT   \n",
       "119660         NaN  500960322019-08-12 00:00:0006D               NaT   \n",
       "119661         NaN  500960862019-08-21 00:00:0022A               NaT   \n",
       "119662         NaN  500960992019-08-22 00:00:0008A               NaT   \n",
       "119663         NaN  500963752019-08-21 00:00:0005H               NaT   \n",
       "\n",
       "       violation_code_x                     dba_x     camis_y  \\\n",
       "0                   08A          PANCHITA'S PLACE  50078127.0   \n",
       "1                   09B                    SUBWAY  50006968.0   \n",
       "2                   06C              NB WING WONG  50090750.0   \n",
       "3                   04N            Domino's Pizza  50091873.0   \n",
       "4                   04N  THE TASTY WAFFLE COMPANY  50087231.0   \n",
       "...                 ...                       ...         ...   \n",
       "119659              NaN                       NaN  50095995.0   \n",
       "119660              NaN                       NaN  50096032.0   \n",
       "119661              NaN                       NaN  50096086.0   \n",
       "119662              NaN                       NaN  50096099.0   \n",
       "119663              NaN                       NaN  50096375.0   \n",
       "\n",
       "       inspection_date_y violation_code_y                     dba_y  \\\n",
       "0             2019-10-01              08A          PANCHITA'S PLACE   \n",
       "1             2019-04-30              09B                    SUBWAY   \n",
       "2             2019-06-20              06C              NB WING WONG   \n",
       "3             2019-08-19              04N            Domino's Pizza   \n",
       "4             2019-06-08              04N  THE TASTY WAFFLE COMPANY   \n",
       "...                  ...              ...                       ...   \n",
       "119659        2019-09-04              10J            MAMISON KIMCHI   \n",
       "119660        2019-08-12              06D                   ANTALIA   \n",
       "119661        2019-08-21              22A                     PARIS   \n",
       "119662        2019-08-22              08A     CONRADS FAMOUS BAKERY   \n",
       "119663        2019-08-21              05H              MAMA'S PLACE   \n",
       "\n",
       "                         mod_dba  is_chain  \n",
       "0                panchitas place         0  \n",
       "1                         subway         1  \n",
       "2                   nb wing wong         0  \n",
       "3                  dominos pizza         1  \n",
       "4       the tasty waffle company         0  \n",
       "...                          ...       ...  \n",
       "119659            mamison kimchi         0  \n",
       "119660                   antalia         0  \n",
       "119661                     paris         0  \n",
       "119662     conrads famous bakery         0  \n",
       "119663               mamas place         0  \n",
       "\n",
       "[119664 rows x 11 columns]"
      ]
     },
     "execution_count": 357,
     "metadata": {},
     "output_type": "execute_result"
    }
   ],
   "source": [
    "merged_df"
   ]
  },
  {
   "cell_type": "code",
   "execution_count": 278,
   "metadata": {},
   "outputs": [
    {
     "data": {
      "text/plain": [
       "0.12993494562248598"
      ]
     },
     "execution_count": 278,
     "metadata": {},
     "output_type": "execute_result"
    }
   ],
   "source": [
    "success_appeals_per_rest = merged_df[merged_df['camis_x'].isna()].drop_duplicates('camis_y')\n",
    "len(success_appeals_per_rest)/len(merged_df.drop_duplicates('camis_y'))\n",
    "\n",
    "# 0.28368163628279236 - percent of restaurants that at least partially fight the power\n",
    "\n",
    "success_appeals = merged_df[merged_df['camis_x'].isna()]\n",
    "len(success_appeals)/len(merged_df)\n",
    "\n",
    "# 0.12993494562248598 - percent of violations overturned"
   ]
  },
  {
   "cell_type": "code",
   "execution_count": 359,
   "metadata": {},
   "outputs": [
    {
     "data": {
      "text/plain": [
       "is_chain\n",
       "0    14341\n",
       "1     1354\n",
       "dtype: int64"
      ]
     },
     "execution_count": 359,
     "metadata": {},
     "output_type": "execute_result"
    }
   ],
   "source": [
    "x = merged_df[merged_df['violation_code_x'].isna()].sort_values('inspection_date_y')\n",
    "x.groupby('is_chain').size()"
   ]
  },
  {
   "cell_type": "code",
   "execution_count": 273,
   "metadata": {},
   "outputs": [
    {
     "data": {
      "text/html": [
       "<div>\n",
       "<style scoped>\n",
       "    .dataframe tbody tr th:only-of-type {\n",
       "        vertical-align: middle;\n",
       "    }\n",
       "\n",
       "    .dataframe tbody tr th {\n",
       "        vertical-align: top;\n",
       "    }\n",
       "\n",
       "    .dataframe thead th {\n",
       "        text-align: right;\n",
       "    }\n",
       "</style>\n",
       "<table border=\"1\" class=\"dataframe\">\n",
       "  <thead>\n",
       "    <tr style=\"text-align: right;\">\n",
       "      <th></th>\n",
       "      <th>camis</th>\n",
       "      <th>dba</th>\n",
       "      <th>record_date</th>\n",
       "      <th>inspection_date</th>\n",
       "      <th>violation_code</th>\n",
       "      <th>score</th>\n",
       "      <th>inspection_type</th>\n",
       "      <th>key</th>\n",
       "    </tr>\n",
       "  </thead>\n",
       "  <tbody>\n",
       "    <tr>\n",
       "      <td>496815</td>\n",
       "      <td>50070639</td>\n",
       "      <td>1 TASTE OF INDIA</td>\n",
       "      <td>2019-03-03</td>\n",
       "      <td>2019-02-23</td>\n",
       "      <td>02B</td>\n",
       "      <td>30.0</td>\n",
       "      <td>Cycle Inspection / Initial Inspection</td>\n",
       "      <td>500706392019-02-23 00:00:0002B</td>\n",
       "    </tr>\n",
       "    <tr>\n",
       "      <td>496816</td>\n",
       "      <td>50070639</td>\n",
       "      <td>1 TASTE OF INDIA</td>\n",
       "      <td>2019-03-03</td>\n",
       "      <td>2019-02-23</td>\n",
       "      <td>02G</td>\n",
       "      <td>30.0</td>\n",
       "      <td>Cycle Inspection / Initial Inspection</td>\n",
       "      <td>500706392019-02-23 00:00:0002G</td>\n",
       "    </tr>\n",
       "    <tr>\n",
       "      <td>496817</td>\n",
       "      <td>50070639</td>\n",
       "      <td>1 TASTE OF INDIA</td>\n",
       "      <td>2019-03-03</td>\n",
       "      <td>2019-02-23</td>\n",
       "      <td>04M</td>\n",
       "      <td>30.0</td>\n",
       "      <td>Cycle Inspection / Initial Inspection</td>\n",
       "      <td>500706392019-02-23 00:00:0004M</td>\n",
       "    </tr>\n",
       "    <tr>\n",
       "      <td>496819</td>\n",
       "      <td>50070639</td>\n",
       "      <td>1 TASTE OF INDIA</td>\n",
       "      <td>2019-03-03</td>\n",
       "      <td>2019-02-23</td>\n",
       "      <td>06D</td>\n",
       "      <td>30.0</td>\n",
       "      <td>Cycle Inspection / Initial Inspection</td>\n",
       "      <td>500706392019-02-23 00:00:0006D</td>\n",
       "    </tr>\n",
       "    <tr>\n",
       "      <td>496820</td>\n",
       "      <td>50070639</td>\n",
       "      <td>1 TASTE OF INDIA</td>\n",
       "      <td>2019-03-03</td>\n",
       "      <td>2019-02-23</td>\n",
       "      <td>08A</td>\n",
       "      <td>30.0</td>\n",
       "      <td>Cycle Inspection / Initial Inspection</td>\n",
       "      <td>500706392019-02-23 00:00:0008A</td>\n",
       "    </tr>\n",
       "    <tr>\n",
       "      <td>496822</td>\n",
       "      <td>50070639</td>\n",
       "      <td>1 TASTE OF INDIA</td>\n",
       "      <td>2019-03-03</td>\n",
       "      <td>2019-02-23</td>\n",
       "      <td>15F</td>\n",
       "      <td>NaN</td>\n",
       "      <td>Smoke-Free Air Act / Initial Inspection</td>\n",
       "      <td>500706392019-02-23 00:00:0015F</td>\n",
       "    </tr>\n",
       "    <tr>\n",
       "      <td>496823</td>\n",
       "      <td>50070639</td>\n",
       "      <td>1 TASTE OF INDIA</td>\n",
       "      <td>2019-07-19</td>\n",
       "      <td>2019-02-23</td>\n",
       "      <td>15F6</td>\n",
       "      <td>NaN</td>\n",
       "      <td>Smoke-Free Air Act / Initial Inspection</td>\n",
       "      <td>500706392019-02-23 00:00:0015F6</td>\n",
       "    </tr>\n",
       "  </tbody>\n",
       "</table>\n",
       "</div>"
      ],
      "text/plain": [
       "           camis               dba record_date inspection_date violation_code  \\\n",
       "496815  50070639  1 TASTE OF INDIA  2019-03-03      2019-02-23            02B   \n",
       "496816  50070639  1 TASTE OF INDIA  2019-03-03      2019-02-23            02G   \n",
       "496817  50070639  1 TASTE OF INDIA  2019-03-03      2019-02-23            04M   \n",
       "496819  50070639  1 TASTE OF INDIA  2019-03-03      2019-02-23            06D   \n",
       "496820  50070639  1 TASTE OF INDIA  2019-03-03      2019-02-23            08A   \n",
       "496822  50070639  1 TASTE OF INDIA  2019-03-03      2019-02-23            15F   \n",
       "496823  50070639  1 TASTE OF INDIA  2019-07-19      2019-02-23           15F6   \n",
       "\n",
       "        score                          inspection_type  \\\n",
       "496815   30.0    Cycle Inspection / Initial Inspection   \n",
       "496816   30.0    Cycle Inspection / Initial Inspection   \n",
       "496817   30.0    Cycle Inspection / Initial Inspection   \n",
       "496819   30.0    Cycle Inspection / Initial Inspection   \n",
       "496820   30.0    Cycle Inspection / Initial Inspection   \n",
       "496822    NaN  Smoke-Free Air Act / Initial Inspection   \n",
       "496823    NaN  Smoke-Free Air Act / Initial Inspection   \n",
       "\n",
       "                                    key  \n",
       "496815   500706392019-02-23 00:00:0002B  \n",
       "496816   500706392019-02-23 00:00:0002G  \n",
       "496817   500706392019-02-23 00:00:0004M  \n",
       "496819   500706392019-02-23 00:00:0006D  \n",
       "496820   500706392019-02-23 00:00:0008A  \n",
       "496822   500706392019-02-23 00:00:0015F  \n",
       "496823  500706392019-02-23 00:00:0015F6  "
      ]
     },
     "execution_count": 273,
     "metadata": {},
     "output_type": "execute_result"
    }
   ],
   "source": [
    "first[first['camis']==50070639.0].sort_values('inspection_date')"
   ]
  },
  {
   "cell_type": "code",
   "execution_count": 274,
   "metadata": {},
   "outputs": [
    {
     "data": {
      "text/html": [
       "<div>\n",
       "<style scoped>\n",
       "    .dataframe tbody tr th:only-of-type {\n",
       "        vertical-align: middle;\n",
       "    }\n",
       "\n",
       "    .dataframe tbody tr th {\n",
       "        vertical-align: top;\n",
       "    }\n",
       "\n",
       "    .dataframe thead th {\n",
       "        text-align: right;\n",
       "    }\n",
       "</style>\n",
       "<table border=\"1\" class=\"dataframe\">\n",
       "  <thead>\n",
       "    <tr style=\"text-align: right;\">\n",
       "      <th></th>\n",
       "      <th>camis</th>\n",
       "      <th>dba</th>\n",
       "      <th>record_date</th>\n",
       "      <th>inspection_date</th>\n",
       "      <th>violation_code</th>\n",
       "      <th>score</th>\n",
       "      <th>inspection_type</th>\n",
       "    </tr>\n",
       "  </thead>\n",
       "  <tbody>\n",
       "    <tr>\n",
       "      <td>39465</td>\n",
       "      <td>50070639</td>\n",
       "      <td>1 TASTE OF INDIA</td>\n",
       "      <td>2019-10-08</td>\n",
       "      <td>2019-02-23</td>\n",
       "      <td>15F6</td>\n",
       "      <td>NaN</td>\n",
       "      <td>Smoke-Free Air Act / Initial Inspection</td>\n",
       "    </tr>\n",
       "    <tr>\n",
       "      <td>150410</td>\n",
       "      <td>50070639</td>\n",
       "      <td>1 TASTE OF INDIA</td>\n",
       "      <td>2019-10-08</td>\n",
       "      <td>2019-02-23</td>\n",
       "      <td>08A</td>\n",
       "      <td>9.0</td>\n",
       "      <td>Cycle Inspection / Initial Inspection</td>\n",
       "    </tr>\n",
       "    <tr>\n",
       "      <td>224494</td>\n",
       "      <td>50070639</td>\n",
       "      <td>1 TASTE OF INDIA</td>\n",
       "      <td>2019-10-08</td>\n",
       "      <td>2019-02-23</td>\n",
       "      <td>04M</td>\n",
       "      <td>9.0</td>\n",
       "      <td>Cycle Inspection / Initial Inspection</td>\n",
       "    </tr>\n",
       "  </tbody>\n",
       "</table>\n",
       "</div>"
      ],
      "text/plain": [
       "           camis               dba record_date inspection_date violation_code  \\\n",
       "39465   50070639  1 TASTE OF INDIA  2019-10-08      2019-02-23           15F6   \n",
       "150410  50070639  1 TASTE OF INDIA  2019-10-08      2019-02-23            08A   \n",
       "224494  50070639  1 TASTE OF INDIA  2019-10-08      2019-02-23            04M   \n",
       "\n",
       "        score                          inspection_type  \n",
       "39465     NaN  Smoke-Free Air Act / Initial Inspection  \n",
       "150410    9.0    Cycle Inspection / Initial Inspection  \n",
       "224494    9.0    Cycle Inspection / Initial Inspection  "
      ]
     },
     "execution_count": 274,
     "metadata": {},
     "output_type": "execute_result"
    }
   ],
   "source": [
    "recent[recent['camis']==50070639.0][['camis','dba','record_date','inspection_date','violation_code','score','inspection_type']].sort_values('inspection_date')"
   ]
  },
  {
   "cell_type": "code",
   "execution_count": 12,
   "metadata": {},
   "outputs": [
    {
     "name": "stderr",
     "output_type": "stream",
     "text": [
      "C:\\ProgramData\\Anaconda3\\lib\\site-packages\\ipykernel_launcher.py:1: FutureWarning: Sorting because non-concatenation axis is not aligned. A future version\n",
      "of pandas will change to not sort by default.\n",
      "\n",
      "To accept the future behavior, pass 'sort=False'.\n",
      "\n",
      "To retain the current behavior and silence the warning, pass 'sort=True'.\n",
      "\n",
      "  \"\"\"Entry point for launching an IPython kernel.\n"
     ]
    }
   ],
   "source": [
    "vio_diffs = pd.concat([first_values,recent_values], axis=1)\n",
    "vio_diffs.columns = ['first','recent']"
   ]
  },
  {
   "cell_type": "code",
   "execution_count": 13,
   "metadata": {},
   "outputs": [],
   "source": [
    "vio_diffs.sort_values('first',ascending=False, inplace=True)"
   ]
  },
  {
   "cell_type": "code",
   "execution_count": 14,
   "metadata": {},
   "outputs": [],
   "source": [
    "vio_diffs['difference'] = vio_diffs['first'] - vio_diffs['recent']"
   ]
  },
  {
   "cell_type": "code",
   "execution_count": 15,
   "metadata": {},
   "outputs": [],
   "source": [
    "vio_diffs['percent_change'] = vio_diffs['difference'] / vio_diffs['first']"
   ]
  },
  {
   "cell_type": "code",
   "execution_count": 17,
   "metadata": {},
   "outputs": [
    {
     "data": {
      "text/html": [
       "<div>\n",
       "<style scoped>\n",
       "    .dataframe tbody tr th:only-of-type {\n",
       "        vertical-align: middle;\n",
       "    }\n",
       "\n",
       "    .dataframe tbody tr th {\n",
       "        vertical-align: top;\n",
       "    }\n",
       "\n",
       "    .dataframe thead th {\n",
       "        text-align: right;\n",
       "    }\n",
       "</style>\n",
       "<table border=\"1\" class=\"dataframe\">\n",
       "  <thead>\n",
       "    <tr style=\"text-align: right;\">\n",
       "      <th></th>\n",
       "      <th>first</th>\n",
       "      <th>recent</th>\n",
       "      <th>difference</th>\n",
       "      <th>percent_change</th>\n",
       "    </tr>\n",
       "  </thead>\n",
       "  <tbody>\n",
       "    <tr>\n",
       "      <td>22G</td>\n",
       "      <td>1047</td>\n",
       "      <td>757.0</td>\n",
       "      <td>290.0</td>\n",
       "      <td>0.276982</td>\n",
       "    </tr>\n",
       "    <tr>\n",
       "      <td>09C</td>\n",
       "      <td>2265</td>\n",
       "      <td>1779.0</td>\n",
       "      <td>486.0</td>\n",
       "      <td>0.214570</td>\n",
       "    </tr>\n",
       "    <tr>\n",
       "      <td>05D</td>\n",
       "      <td>1556</td>\n",
       "      <td>1245.0</td>\n",
       "      <td>311.0</td>\n",
       "      <td>0.199871</td>\n",
       "    </tr>\n",
       "    <tr>\n",
       "      <td>06C</td>\n",
       "      <td>7645</td>\n",
       "      <td>6200.0</td>\n",
       "      <td>1445.0</td>\n",
       "      <td>0.189012</td>\n",
       "    </tr>\n",
       "    <tr>\n",
       "      <td>02H</td>\n",
       "      <td>2748</td>\n",
       "      <td>2240.0</td>\n",
       "      <td>508.0</td>\n",
       "      <td>0.184862</td>\n",
       "    </tr>\n",
       "    <tr>\n",
       "      <td>09B</td>\n",
       "      <td>1413</td>\n",
       "      <td>1160.0</td>\n",
       "      <td>253.0</td>\n",
       "      <td>0.179052</td>\n",
       "    </tr>\n",
       "    <tr>\n",
       "      <td>04A</td>\n",
       "      <td>2505</td>\n",
       "      <td>2069.0</td>\n",
       "      <td>436.0</td>\n",
       "      <td>0.174052</td>\n",
       "    </tr>\n",
       "    <tr>\n",
       "      <td>06F</td>\n",
       "      <td>2109</td>\n",
       "      <td>1780.0</td>\n",
       "      <td>329.0</td>\n",
       "      <td>0.155998</td>\n",
       "    </tr>\n",
       "    <tr>\n",
       "      <td>02B</td>\n",
       "      <td>6003</td>\n",
       "      <td>5094.0</td>\n",
       "      <td>909.0</td>\n",
       "      <td>0.151424</td>\n",
       "    </tr>\n",
       "    <tr>\n",
       "      <td>10H</td>\n",
       "      <td>2062</td>\n",
       "      <td>1771.0</td>\n",
       "      <td>291.0</td>\n",
       "      <td>0.141125</td>\n",
       "    </tr>\n",
       "    <tr>\n",
       "      <td>02G</td>\n",
       "      <td>7993</td>\n",
       "      <td>6874.0</td>\n",
       "      <td>1119.0</td>\n",
       "      <td>0.139997</td>\n",
       "    </tr>\n",
       "    <tr>\n",
       "      <td>10I</td>\n",
       "      <td>1310</td>\n",
       "      <td>1128.0</td>\n",
       "      <td>182.0</td>\n",
       "      <td>0.138931</td>\n",
       "    </tr>\n",
       "    <tr>\n",
       "      <td>06D</td>\n",
       "      <td>8450</td>\n",
       "      <td>7344.0</td>\n",
       "      <td>1106.0</td>\n",
       "      <td>0.130888</td>\n",
       "    </tr>\n",
       "    <tr>\n",
       "      <td>06E</td>\n",
       "      <td>2169</td>\n",
       "      <td>1890.0</td>\n",
       "      <td>279.0</td>\n",
       "      <td>0.128631</td>\n",
       "    </tr>\n",
       "    <tr>\n",
       "      <td>10B</td>\n",
       "      <td>7353</td>\n",
       "      <td>6491.0</td>\n",
       "      <td>862.0</td>\n",
       "      <td>0.117231</td>\n",
       "    </tr>\n",
       "  </tbody>\n",
       "</table>\n",
       "</div>"
      ],
      "text/plain": [
       "     first  recent  difference  percent_change\n",
       "22G   1047   757.0       290.0        0.276982\n",
       "09C   2265  1779.0       486.0        0.214570\n",
       "05D   1556  1245.0       311.0        0.199871\n",
       "06C   7645  6200.0      1445.0        0.189012\n",
       "02H   2748  2240.0       508.0        0.184862\n",
       "09B   1413  1160.0       253.0        0.179052\n",
       "04A   2505  2069.0       436.0        0.174052\n",
       "06F   2109  1780.0       329.0        0.155998\n",
       "02B   6003  5094.0       909.0        0.151424\n",
       "10H   2062  1771.0       291.0        0.141125\n",
       "02G   7993  6874.0      1119.0        0.139997\n",
       "10I   1310  1128.0       182.0        0.138931\n",
       "06D   8450  7344.0      1106.0        0.130888\n",
       "06E   2169  1890.0       279.0        0.128631\n",
       "10B   7353  6491.0       862.0        0.117231"
      ]
     },
     "execution_count": 17,
     "metadata": {},
     "output_type": "execute_result"
    }
   ],
   "source": [
    "vio_diffs[vio_diffs['first']>1000].sort_values('percent_change', ascending=False).head(15)"
   ]
  },
  {
   "cell_type": "code",
   "execution_count": null,
   "metadata": {},
   "outputs": [],
   "source": []
  },
  {
   "cell_type": "code",
   "execution_count": null,
   "metadata": {},
   "outputs": [],
   "source": []
  },
  {
   "cell_type": "code",
   "execution_count": null,
   "metadata": {},
   "outputs": [],
   "source": []
  },
  {
   "cell_type": "code",
   "execution_count": null,
   "metadata": {},
   "outputs": [],
   "source": []
  },
  {
   "cell_type": "code",
   "execution_count": null,
   "metadata": {},
   "outputs": [],
   "source": []
  },
  {
   "cell_type": "code",
   "execution_count": 201,
   "metadata": {},
   "outputs": [
    {
     "data": {
      "text/html": [
       "<div>\n",
       "<style scoped>\n",
       "    .dataframe tbody tr th:only-of-type {\n",
       "        vertical-align: middle;\n",
       "    }\n",
       "\n",
       "    .dataframe tbody tr th {\n",
       "        vertical-align: top;\n",
       "    }\n",
       "\n",
       "    .dataframe thead th {\n",
       "        text-align: right;\n",
       "    }\n",
       "</style>\n",
       "<table border=\"1\" class=\"dataframe\">\n",
       "  <thead>\n",
       "    <tr style=\"text-align: right;\">\n",
       "      <th></th>\n",
       "      <th>camis</th>\n",
       "      <th>dba</th>\n",
       "      <th>record_date</th>\n",
       "      <th>inspection_date</th>\n",
       "      <th>violation_code</th>\n",
       "      <th>score</th>\n",
       "      <th>inspection_type</th>\n",
       "    </tr>\n",
       "  </thead>\n",
       "  <tbody>\n",
       "    <tr>\n",
       "      <td>7351</td>\n",
       "      <td>50039497</td>\n",
       "      <td>TOMO JAPANESE CUISINE</td>\n",
       "      <td>2019-10-08 00:00:00</td>\n",
       "      <td>2019-10-02</td>\n",
       "      <td>09C</td>\n",
       "      <td>23.0</td>\n",
       "      <td>Cycle Inspection / Re-inspection</td>\n",
       "    </tr>\n",
       "    <tr>\n",
       "      <td>16773</td>\n",
       "      <td>40699907</td>\n",
       "      <td>GIGINO AT WAGNER PARK</td>\n",
       "      <td>2019-10-08 00:00:00</td>\n",
       "      <td>2019-10-02</td>\n",
       "      <td>09C</td>\n",
       "      <td>13.0</td>\n",
       "      <td>Cycle Inspection / Initial Inspection</td>\n",
       "    </tr>\n",
       "    <tr>\n",
       "      <td>44103</td>\n",
       "      <td>50066022</td>\n",
       "      <td>SOUEN</td>\n",
       "      <td>2019-10-08 00:00:00</td>\n",
       "      <td>2019-10-02</td>\n",
       "      <td>09C</td>\n",
       "      <td>31.0</td>\n",
       "      <td>Cycle Inspection / Re-inspection</td>\n",
       "    </tr>\n",
       "    <tr>\n",
       "      <td>46240</td>\n",
       "      <td>50017154</td>\n",
       "      <td>HAAT BAZAAR</td>\n",
       "      <td>2019-10-08 00:00:00</td>\n",
       "      <td>2019-10-02</td>\n",
       "      <td>09C</td>\n",
       "      <td>35.0</td>\n",
       "      <td>Cycle Inspection / Re-inspection</td>\n",
       "    </tr>\n",
       "    <tr>\n",
       "      <td>84860</td>\n",
       "      <td>41491955</td>\n",
       "      <td>WEST SIDE STEAKHOUSE</td>\n",
       "      <td>2019-10-08 00:00:00</td>\n",
       "      <td>2019-10-02</td>\n",
       "      <td>09C</td>\n",
       "      <td>12.0</td>\n",
       "      <td>Cycle Inspection / Initial Inspection</td>\n",
       "    </tr>\n",
       "    <tr>\n",
       "      <td>...</td>\n",
       "      <td>...</td>\n",
       "      <td>...</td>\n",
       "      <td>...</td>\n",
       "      <td>...</td>\n",
       "      <td>...</td>\n",
       "      <td>...</td>\n",
       "      <td>...</td>\n",
       "    </tr>\n",
       "    <tr>\n",
       "      <td>555041</td>\n",
       "      <td>50094527</td>\n",
       "      <td>UPSCALE INTERNATIONAL CAFE</td>\n",
       "      <td>2019-07-31</td>\n",
       "      <td>2019-07-29</td>\n",
       "      <td>09C</td>\n",
       "      <td>28.0</td>\n",
       "      <td>Pre-permit (Operational) / Initial Inspection</td>\n",
       "    </tr>\n",
       "    <tr>\n",
       "      <td>555391</td>\n",
       "      <td>50094803</td>\n",
       "      <td>MEZBANI SWEETS &amp; RESTAURANT</td>\n",
       "      <td>2019-07-30</td>\n",
       "      <td>2019-07-27</td>\n",
       "      <td>09C</td>\n",
       "      <td>30.0</td>\n",
       "      <td>Pre-permit (Operational) / Re-inspection</td>\n",
       "    </tr>\n",
       "    <tr>\n",
       "      <td>555528</td>\n",
       "      <td>50094913</td>\n",
       "      <td>OH! BAGEL</td>\n",
       "      <td>2019-07-28</td>\n",
       "      <td>2019-07-25</td>\n",
       "      <td>09C</td>\n",
       "      <td>29.0</td>\n",
       "      <td>Pre-permit (Operational) / Initial Inspection</td>\n",
       "    </tr>\n",
       "    <tr>\n",
       "      <td>555843</td>\n",
       "      <td>50095290</td>\n",
       "      <td>SUBCONSCIOUS</td>\n",
       "      <td>2019-07-15</td>\n",
       "      <td>2019-07-12</td>\n",
       "      <td>09C</td>\n",
       "      <td>32.0</td>\n",
       "      <td>Pre-permit (Operational) / Initial Inspection</td>\n",
       "    </tr>\n",
       "    <tr>\n",
       "      <td>556075</td>\n",
       "      <td>50095851</td>\n",
       "      <td>YUQI'S THAI CUISINE</td>\n",
       "      <td>2019-08-12</td>\n",
       "      <td>2019-08-09</td>\n",
       "      <td>09C</td>\n",
       "      <td>23.0</td>\n",
       "      <td>Pre-permit (Operational) / Initial Inspection</td>\n",
       "    </tr>\n",
       "  </tbody>\n",
       "</table>\n",
       "<p>525 rows × 7 columns</p>\n",
       "</div>"
      ],
      "text/plain": [
       "           camis                          dba          record_date  \\\n",
       "7351    50039497        TOMO JAPANESE CUISINE  2019-10-08 00:00:00   \n",
       "16773   40699907        GIGINO AT WAGNER PARK  2019-10-08 00:00:00   \n",
       "44103   50066022                        SOUEN  2019-10-08 00:00:00   \n",
       "46240   50017154                  HAAT BAZAAR  2019-10-08 00:00:00   \n",
       "84860   41491955         WEST SIDE STEAKHOUSE  2019-10-08 00:00:00   \n",
       "...          ...                          ...                  ...   \n",
       "555041  50094527   UPSCALE INTERNATIONAL CAFE           2019-07-31   \n",
       "555391  50094803  MEZBANI SWEETS & RESTAURANT           2019-07-30   \n",
       "555528  50094913                    OH! BAGEL           2019-07-28   \n",
       "555843  50095290                 SUBCONSCIOUS           2019-07-15   \n",
       "556075  50095851          YUQI'S THAI CUISINE           2019-08-12   \n",
       "\n",
       "       inspection_date violation_code  score  \\\n",
       "7351        2019-10-02            09C   23.0   \n",
       "16773       2019-10-02            09C   13.0   \n",
       "44103       2019-10-02            09C   31.0   \n",
       "46240       2019-10-02            09C   35.0   \n",
       "84860       2019-10-02            09C   12.0   \n",
       "...                ...            ...    ...   \n",
       "555041      2019-07-29            09C   28.0   \n",
       "555391      2019-07-27            09C   30.0   \n",
       "555528      2019-07-25            09C   29.0   \n",
       "555843      2019-07-12            09C   32.0   \n",
       "556075      2019-08-09            09C   23.0   \n",
       "\n",
       "                                      inspection_type  \n",
       "7351                 Cycle Inspection / Re-inspection  \n",
       "16773           Cycle Inspection / Initial Inspection  \n",
       "44103                Cycle Inspection / Re-inspection  \n",
       "46240                Cycle Inspection / Re-inspection  \n",
       "84860           Cycle Inspection / Initial Inspection  \n",
       "...                                               ...  \n",
       "555041  Pre-permit (Operational) / Initial Inspection  \n",
       "555391       Pre-permit (Operational) / Re-inspection  \n",
       "555528  Pre-permit (Operational) / Initial Inspection  \n",
       "555843  Pre-permit (Operational) / Initial Inspection  \n",
       "556075  Pre-permit (Operational) / Initial Inspection  \n",
       "\n",
       "[525 rows x 7 columns]"
      ]
     },
     "execution_count": 201,
     "metadata": {},
     "output_type": "execute_result"
    }
   ],
   "source": [
    "compare_df = pd.concat([x,y],axis=0)\n",
    "\n",
    "compare_df['inspection_date'] = compare_df['inspection_date'].apply(lambda x: str(x))\n",
    "compare_df['inspection_date'] = compare_df['inspection_date'].str.replace(' 00:00:00','')\n",
    "compare_df.drop_duplicates(subset=['camis','inspection_date'], keep=False)\n"
   ]
  },
  {
   "cell_type": "code",
   "execution_count": null,
   "metadata": {},
   "outputs": [],
   "source": [
    "df = pd.read_csv('./assets/working_df.csv')\n",
    "df.drop('Unnamed: 0',axis=1,inplace=True)"
   ]
  },
  {
   "cell_type": "code",
   "execution_count": null,
   "metadata": {},
   "outputs": [],
   "source": [
    "plt.figure(figsize=(25,20))\n",
    "plt.bar(df.groupby(['inspection_date']).size().index, df.groupby(['inspection_date']).size().values);"
   ]
  },
  {
   "cell_type": "markdown",
   "metadata": {},
   "source": [
    "==============================\n",
    "=============================="
   ]
  },
  {
   "cell_type": "code",
   "execution_count": 55,
   "metadata": {
    "scrolled": false
   },
   "outputs": [
    {
     "data": {
      "image/png": "[encoded data removed]",
      "text/plain": [
       "<Figure size 1800x2880 with 16 Axes>"
      ]
     },
     "metadata": {
      "needs_background": "light"
     },
     "output_type": "display_data"
    }
   ],
   "source": [
    "bin_types = df['inspection_bin'].unique()\n",
    "plt.figure(figsize=(25,40))\n",
    "\n",
    "count = 1\n",
    "for i in bin_types:\n",
    "    plt.subplot(len(bin_types),1,count)\n",
    "    x = df[(df['inspection_bin']==i) & (df['event']==1)& (df['inspection_date']>='2018-01-01')]['time_til']\n",
    "    plt.hist(x, bins=100)\n",
    "    plt.ylabel(i)\n",
    "    count += 1\n",
    "    \n",
    "plt.show()"
   ]
  },
  {
   "cell_type": "code",
   "execution_count": 299,
   "metadata": {},
   "outputs": [],
   "source": [
    "cols = ['event','time_til','inspection_bin','monday',\n",
    "       'tuesday', 'wednesday', 'thursday', 'friday', 'saturday']"
   ]
  },
  {
   "cell_type": "code",
   "execution_count": 306,
   "metadata": {
    "scrolled": false
   },
   "outputs": [
    {
     "ename": "NameError",
     "evalue": "name 'strata' is not defined",
     "output_type": "error",
     "traceback": [
      "\u001b[1;31m---------------------------------------------------------------------------\u001b[0m",
      "\u001b[1;31mNameError\u001b[0m                                 Traceback (most recent call last)",
      "\u001b[1;32m<ipython-input-306-8b9e8d451b58>\u001b[0m in \u001b[0;36m<module>\u001b[1;34m\u001b[0m\n\u001b[0;32m     10\u001b[0m \u001b[1;31m# cph.print_summary()\u001b[0m\u001b[1;33m\u001b[0m\u001b[1;33m\u001b[0m\u001b[1;33m\u001b[0m\u001b[0m\n\u001b[0;32m     11\u001b[0m \u001b[1;33m\u001b[0m\u001b[0m\n\u001b[1;32m---> 12\u001b[1;33m \u001b[0mscores\u001b[0m \u001b[1;33m=\u001b[0m \u001b[0mk_fold_cross_validation\u001b[0m\u001b[1;33m(\u001b[0m\u001b[0mcph\u001b[0m\u001b[1;33m,\u001b[0m \u001b[0mX\u001b[0m\u001b[1;33m,\u001b[0m \u001b[1;34m'T'\u001b[0m\u001b[1;33m,\u001b[0m \u001b[0mevent_col\u001b[0m\u001b[1;33m=\u001b[0m\u001b[1;34m'E'\u001b[0m\u001b[1;33m,\u001b[0m \u001b[0mk\u001b[0m\u001b[1;33m=\u001b[0m\u001b[1;36m3\u001b[0m\u001b[1;33m,\u001b[0m \u001b[0mfitter_kwargs\u001b[0m\u001b[1;33m=\u001b[0m\u001b[1;33m{\u001b[0m\u001b[0mstrata\u001b[0m\u001b[1;33m:\u001b[0m\u001b[1;34m'inspection_bin'\u001b[0m\u001b[1;33m}\u001b[0m\u001b[1;33m)\u001b[0m\u001b[1;33m\u001b[0m\u001b[1;33m\u001b[0m\u001b[0m\n\u001b[0m\u001b[0;32m     13\u001b[0m \u001b[0mprint\u001b[0m\u001b[1;33m(\u001b[0m\u001b[0mscores\u001b[0m\u001b[1;33m)\u001b[0m\u001b[1;33m\u001b[0m\u001b[1;33m\u001b[0m\u001b[0m\n\u001b[0;32m     14\u001b[0m \u001b[0mprint\u001b[0m\u001b[1;33m(\u001b[0m\u001b[0mnp\u001b[0m\u001b[1;33m.\u001b[0m\u001b[0mmean\u001b[0m\u001b[1;33m(\u001b[0m\u001b[0mscores\u001b[0m\u001b[1;33m)\u001b[0m\u001b[1;33m)\u001b[0m\u001b[1;33m\u001b[0m\u001b[1;33m\u001b[0m\u001b[0m\n",
      "\u001b[1;31mNameError\u001b[0m: name 'strata' is not defined"
     ]
    }
   ],
   "source": [
    "X = df[(df['inspection_date']>='2018-01-01') &\n",
    "       (df['event']>=1) &\n",
    "       (df['time_til']<500)][cols]\n",
    "\n",
    "from lifelines import CoxPHFitter\n",
    "from lifelines.utils import k_fold_cross_validation\n",
    "\n",
    "cph = CoxPHFitter()\n",
    "# cph.fit(X, 'time_til', event_col='event', strata = ['inspection_bin'], show_progress=True, step_size=.1)\n",
    "# cph.print_summary()\n",
    "\n",
    "scores = k_fold_cross_validation(cph, X, 'T', event_col='E', k=3, fitter_kwargs={strata:'inspection_bin'})\n",
    "print(scores)\n",
    "print(np.mean(scores))\n",
    "print(np.std(scores))"
   ]
  },
  {
   "cell_type": "code",
   "execution_count": 124,
   "metadata": {},
   "outputs": [],
   "source": [
    "test = np.array([[0,0,99,1,0,0,0,0,0]])\n",
    "test_frame = pd.DataFrame(test,columns=X.columns)\n",
    "test_frame.loc[0,'inspection_bin'] = 're-opened'"
   ]
  },
  {
   "cell_type": "code",
   "execution_count": 125,
   "metadata": {},
   "outputs": [
    {
     "data": {
      "text/html": [
       "<div>\n",
       "<style scoped>\n",
       "    .dataframe tbody tr th:only-of-type {\n",
       "        vertical-align: middle;\n",
       "    }\n",
       "\n",
       "    .dataframe tbody tr th {\n",
       "        vertical-align: top;\n",
       "    }\n",
       "\n",
       "    .dataframe thead th {\n",
       "        text-align: right;\n",
       "    }\n",
       "</style>\n",
       "<table border=\"1\" class=\"dataframe\">\n",
       "  <thead>\n",
       "    <tr style=\"text-align: right;\">\n",
       "      <th></th>\n",
       "      <th>event</th>\n",
       "      <th>time_til</th>\n",
       "      <th>inspection_bin</th>\n",
       "      <th>monday</th>\n",
       "      <th>tuesday</th>\n",
       "      <th>wednesday</th>\n",
       "      <th>thursday</th>\n",
       "      <th>friday</th>\n",
       "      <th>saturday</th>\n",
       "    </tr>\n",
       "  </thead>\n",
       "  <tbody>\n",
       "    <tr>\n",
       "      <th>0</th>\n",
       "      <td>0</td>\n",
       "      <td>0</td>\n",
       "      <td>re-opened</td>\n",
       "      <td>1</td>\n",
       "      <td>0</td>\n",
       "      <td>0</td>\n",
       "      <td>0</td>\n",
       "      <td>0</td>\n",
       "      <td>0</td>\n",
       "    </tr>\n",
       "  </tbody>\n",
       "</table>\n",
       "</div>"
      ],
      "text/plain": [
       "   event  time_til inspection_bin  monday  tuesday  wednesday  thursday  \\\n",
       "0      0         0      re-opened       1        0          0         0   \n",
       "\n",
       "   friday  saturday  \n",
       "0       0         0  "
      ]
     },
     "execution_count": 125,
     "metadata": {},
     "output_type": "execute_result"
    }
   ],
   "source": [
    "test_frame"
   ]
  },
  {
   "cell_type": "code",
   "execution_count": 118,
   "metadata": {},
   "outputs": [
    {
     "data": {
      "text/plain": [
       "<matplotlib.axes._subplots.AxesSubplot at 0x2390152f0b8>"
      ]
     },
     "execution_count": 118,
     "metadata": {},
     "output_type": "execute_result"
    },
    {
     "data": {
      "image/png": "[encoded data removed]",
      "text/plain": [
       "<Figure size 432x288 with 1 Axes>"
      ]
     },
     "metadata": {
      "needs_background": "light"
     },
     "output_type": "display_data"
    }
   ],
   "source": [
    "cph.predict_survival_function(test_frame)[50:365].plot()"
   ]
  },
  {
   "cell_type": "code",
   "execution_count": 120,
   "metadata": {},
   "outputs": [
    {
     "data": {
      "text/plain": [
       "<matplotlib.axes._subplots.AxesSubplot at 0x239015284e0>"
      ]
     },
     "execution_count": 120,
     "metadata": {},
     "output_type": "execute_result"
    },
    {
     "data": {
      "image/png": "[encoded data removed]",
      "text/plain": [
       "<Figure size 432x288 with 1 Axes>"
      ]
     },
     "metadata": {
      "needs_background": "light"
     },
     "output_type": "display_data"
    }
   ],
   "source": [
    "cph.predict_survival_function(test_frame)[50:365].plot()"
   ]
  },
  {
   "cell_type": "code",
   "execution_count": 123,
   "metadata": {},
   "outputs": [
    {
     "data": {
      "text/plain": [
       "<matplotlib.axes._subplots.AxesSubplot at 0x239015195f8>"
      ]
     },
     "execution_count": 123,
     "metadata": {},
     "output_type": "execute_result"
    },
    {
     "data": {
      "image/png": "[encoded data removed]",
      "text/plain": [
       "<Figure size 432x288 with 1 Axes>"
      ]
     },
     "metadata": {
      "needs_background": "light"
     },
     "output_type": "display_data"
    }
   ],
   "source": [
    "cph.predict_survival_function(test_frame)[50:365].plot()"
   ]
  },
  {
   "cell_type": "code",
   "execution_count": 126,
   "metadata": {},
   "outputs": [
    {
     "data": {
      "text/plain": [
       "<matplotlib.axes._subplots.AxesSubplot at 0x23901546860>"
      ]
     },
     "execution_count": 126,
     "metadata": {},
     "output_type": "execute_result"
    },
    {
     "data": {
      "image/png": "[encoded data removed]",
      "text/plain": [
       "<Figure size 432x288 with 1 Axes>"
      ]
     },
     "metadata": {
      "needs_background": "light"
     },
     "output_type": "display_data"
    }
   ],
   "source": [
    "cph.predict_survival_function(test_frame)[50:365].plot()"
   ]
  },
  {
   "cell_type": "code",
   "execution_count": 38,
   "metadata": {
    "scrolled": true
   },
   "outputs": [
    {
     "name": "stderr",
     "output_type": "stream",
     "text": [
      "C:\\ProgramData\\Anaconda3\\lib\\site-packages\\ipykernel_launcher.py:3: FutureWarning: clip_upper(threshold) is deprecated, use clip(upper=threshold) instead\n",
      "  This is separate from the ipykernel package so we can avoid doing imports until\n"
     ]
    }
   ],
   "source": [
    "censored_subjects = df.loc[(df['event']==0)& (df['time_til']<500)]\n",
    "unconditioned_sf = cph.predict_survival_function(censored_subjects)\n",
    "conditioned_sf = unconditioned_sf.apply(lambda c: (c / c.loc[df.loc[c.name, 'time_til']]).clip_upper(1))\n"
   ]
  },
  {
   "cell_type": "code",
   "execution_count": 41,
   "metadata": {},
   "outputs": [
    {
     "data": {
      "text/plain": [
       "1.0    1.0\n",
       "Name: 118825, dtype: float64"
      ]
     },
     "execution_count": 41,
     "metadata": {},
     "output_type": "execute_result"
    }
   ],
   "source": [
    "unconditioned_sf.iloc[:1,13532]\n",
    "# unconditioned_sf"
   ]
  },
  {
   "cell_type": "code",
   "execution_count": 43,
   "metadata": {},
   "outputs": [],
   "source": [
    "from lifelines.utils import median_survival_times, qth_survival_times"
   ]
  },
  {
   "cell_type": "code",
   "execution_count": 44,
   "metadata": {},
   "outputs": [
    {
     "data": {
      "image/png": "[encoded data removed]",
      "text/plain": [
       "<Figure size 1080x576 with 1 Axes>"
      ]
     },
     "metadata": {
      "needs_background": "light"
     },
     "output_type": "display_data"
    }
   ],
   "source": [
    "plt.figure(figsize=(15,8))\n",
    "subject = 118825\n",
    "# unconditioned_sf[subject].plot(ls=\"--\", color=\"#A60628\", label=\"unconditioned\")\n",
    "conditioned_sf[subject].plot(color=\"#A60628\", label=\"conditioned on $T>{}$\".format(df.loc[subject,'time_til']))\n",
    "\n",
    "# predictions_50 = median_survival_times(conditioned_sf)\n",
    "# predictions_75 = qth_survival_times(0.75, conditioned_sf)\n",
    "\n",
    "plt.hlines([0.5, 0.75], 0, 550, alpha=0.5, label=\"percentiles\")\n",
    "plt.vlines(median_survival_times(conditioned_sf[subject]), 0, .5, label=\"median survival: Day {}\".format(median_survival_times(conditioned_sf[subject])))\n",
    "plt.vlines(qth_survival_times(0.75, conditioned_sf[subject]), 0, .75, label=\"75 q survival: Day {}\".format(qth_survival_times(0.75, conditioned_sf[subject])))\n",
    "\n",
    "\n",
    "plt.scatter(median_survival_times(conditioned_sf[subject]), 0.5,  color=\"#E24A33\", label=\"median prediction\", zorder=20)\n",
    "plt.scatter(qth_survival_times(0.75, conditioned_sf[subject]), 0.75,  color=\"#467821\", label=\"q=75 prediction\", zorder=20)\n",
    "            \n",
    "            \n",
    "plt.legend();\n",
    "\n"
   ]
  },
  {
   "cell_type": "markdown",
   "metadata": {},
   "source": [
    "========================================================="
   ]
  },
  {
   "cell_type": "markdown",
   "metadata": {},
   "source": [
    "Daily inspection parser"
   ]
  },
  {
   "cell_type": "code",
   "execution_count": null,
   "metadata": {},
   "outputs": [],
   "source": []
  },
  {
   "cell_type": "code",
   "execution_count": null,
   "metadata": {},
   "outputs": [],
   "source": [
    "# data.sort_values(['CAMIS','INSPECTION DATE'])"
   ]
  },
  {
   "cell_type": "code",
   "execution_count": null,
   "metadata": {},
   "outputs": [],
   "source": [
    "# import os\n",
    "\n",
    "# outname = 'first_report.csv'\n",
    "\n",
    "# outdir = './dir'\n",
    "# if not os.path.exists(outdir):\n",
    "#     os.mkdir(outdir)\n",
    "\n",
    "# fullname = os.path.join(outdir, outname)    \n",
    "\n",
    "# data.to_csv(fullname)"
   ]
  },
  {
   "cell_type": "code",
   "execution_count": null,
   "metadata": {},
   "outputs": [],
   "source": [
    "first = pd.read_csv('./assets/first_report.csv')\n",
    "\n",
    "\n"
   ]
  },
  {
   "cell_type": "code",
   "execution_count": null,
   "metadata": {},
   "outputs": [],
   "source": [
    "first.dropna(subset=['DBA'], inplace=True)"
   ]
  },
  {
   "cell_type": "code",
   "execution_count": null,
   "metadata": {},
   "outputs": [],
   "source": [
    "first[first['DBA'].str.contains('telle')]"
   ]
  },
  {
   "cell_type": "code",
   "execution_count": null,
   "metadata": {},
   "outputs": [],
   "source": [
    "first_insp = df[df['INSPECTION DATE']>='2019-02-21']"
   ]
  },
  {
   "cell_type": "code",
   "execution_count": null,
   "metadata": {},
   "outputs": [],
   "source": []
  },
  {
   "cell_type": "code",
   "execution_count": null,
   "metadata": {},
   "outputs": [],
   "source": [
    "to_compare = pd.read_csv('./assets/archive/DOHMH_New_York_City_Restaurant_Inspection_Results (8).csv')\n",
    "to_compare['RECORD DATE']=pd.to_datetime(to_compare['RECORD DATE'],errors='coerce', format='%m/%d/%Y')\n",
    "to_compare['INSPECTION DATE']=pd.to_datetime(to_compare['INSPECTION DATE'],errors='coerce', format='%m/%d/%Y')"
   ]
  },
  {
   "cell_type": "code",
   "execution_count": null,
   "metadata": {},
   "outputs": [],
   "source": [
    "first_compare = to_compare[to_compare['INSPECTION DATE']>='2019-02-21']\n",
    "\n",
    "first_compare = first_compare[['CAMIS','DBA','RECORD DATE','INSPECTION DATE',\\\n",
    "                               'VIOLATION CODE', 'SCORE','INSPECTION TYPE']]"
   ]
  },
  {
   "cell_type": "code",
   "execution_count": null,
   "metadata": {},
   "outputs": [],
   "source": [
    "pd.concat([first_compare,first_insp]).sort_values(['CAMIS','INSPECTION DATE',\\\n",
    "                                                   'RECORD DATE']).reset_index(drop=True).loc[3000:4000,:]"
   ]
  },
  {
   "cell_type": "code",
   "execution_count": null,
   "metadata": {},
   "outputs": [],
   "source": [
    "y = first_compare['VIOLATION CODE'].value_counts()\n",
    "x = first_insp['VIOLATION CODE'].value_counts()\n",
    "violation_diff = pd.concat([x,y], axis=1, sort=True)\n",
    "cols = ['first','last']\n",
    "violation_diff.columns = cols"
   ]
  },
  {
   "cell_type": "code",
   "execution_count": null,
   "metadata": {},
   "outputs": [],
   "source": [
    "violation_diff['diff'] = violation_diff['first'] - violation_diff['last']"
   ]
  },
  {
   "cell_type": "code",
   "execution_count": null,
   "metadata": {},
   "outputs": [],
   "source": [
    "violation_diff.sort_values('diff',ascending=False, inplace=True)\n",
    "violation_diff['percent'] = violation_diff['diff']/violation_diff['first']"
   ]
  },
  {
   "cell_type": "code",
   "execution_count": null,
   "metadata": {},
   "outputs": [],
   "source": [
    "violation_diff.sort_values(['first'],ascending=False, inplace=True)"
   ]
  },
  {
   "cell_type": "code",
   "execution_count": null,
   "metadata": {},
   "outputs": [],
   "source": [
    "1-12330/12959"
   ]
  },
  {
   "cell_type": "code",
   "execution_count": null,
   "metadata": {},
   "outputs": [],
   "source": [
    "violation_diff[violation_diff['first']>500]"
   ]
  },
  {
   "cell_type": "code",
   "execution_count": null,
   "metadata": {},
   "outputs": [],
   "source": [
    "# plt.figure(figsize=(25,15))\n",
    "# sns.barplot(data['VIOLATION CODE'].value_counts()[:20].index, data['VIOLATION CODE'].value_counts()[:20].values)"
   ]
  },
  {
   "cell_type": "code",
   "execution_count": null,
   "metadata": {},
   "outputs": [],
   "source": [
    "to_compare[(to_compare['CAMIS']==30075445) &\n",
    "         (  to_compare['INSPECTION DATE']=='2019-05-16')][['SCORE', 'VIOLATION CODE']]"
   ]
  },
  {
   "cell_type": "code",
   "execution_count": null,
   "metadata": {},
   "outputs": [],
   "source": []
  },
  {
   "cell_type": "code",
   "execution_count": null,
   "metadata": {},
   "outputs": [],
   "source": []
  },
  {
   "cell_type": "code",
   "execution_count": null,
   "metadata": {},
   "outputs": [],
   "source": []
  },
  {
   "cell_type": "code",
   "execution_count": null,
   "metadata": {},
   "outputs": [],
   "source": []
  },
  {
   "cell_type": "code",
   "execution_count": null,
   "metadata": {},
   "outputs": [],
   "source": []
  },
  {
   "cell_type": "markdown",
   "metadata": {},
   "source": [
    "Geo fencing angle"
   ]
  },
  {
   "cell_type": "code",
   "execution_count": null,
   "metadata": {},
   "outputs": [],
   "source": [
    "cut_size = 200\n",
    "prec = 6\n",
    "\n",
    "df['lat_cell'] = pd.cut(df['latitude'], cut_size, labels=range(0,cut_size), precision=prec)\n",
    "df['lng_cell'] = pd.cut(df['longitude'], cut_size, labels=range(0,cut_size), precision=prec)"
   ]
  },
  {
   "cell_type": "code",
   "execution_count": null,
   "metadata": {},
   "outputs": [],
   "source": [
    "df['cell'] = list(zip(df['lat_cell'],df['lng_cell']))"
   ]
  },
  {
   "cell_type": "code",
   "execution_count": null,
   "metadata": {},
   "outputs": [],
   "source": [
    "inspection_date_matrix = pd.pivot_table(df.loc[:,['inspection_date','cell']], fill_value=0, index = ['inspection_date'], columns = ['cell'], aggfunc=len)\n"
   ]
  },
  {
   "cell_type": "code",
   "execution_count": null,
   "metadata": {},
   "outputs": [],
   "source": [
    "# df[df['cell'].isin(c)].drop_duplicates('camis')"
   ]
  },
  {
   "cell_type": "code",
   "execution_count": null,
   "metadata": {},
   "outputs": [],
   "source": [
    "df = df.dropna(axis=0, subset=['latitude','longitude'])\n",
    "df = df[df['inspection_date'] >= '2018-01-01']\n",
    "df.reset_index(drop=True, inplace=True)"
   ]
  },
  {
   "cell_type": "code",
   "execution_count": null,
   "metadata": {},
   "outputs": [],
   "source": [
    "cell_lenghts = df.drop_duplicates(['camis']).groupby('cell').size()"
   ]
  },
  {
   "cell_type": "code",
   "execution_count": null,
   "metadata": {},
   "outputs": [],
   "source": [
    "start = datetime.datetime.now()\n",
    "\n",
    "heat_list = []\n",
    "num_rest = []\n",
    "\n",
    "for i in range(len(df)):\n",
    "    try:\n",
    "        cell = df.loc[i,'cell']\n",
    "        size = 1\n",
    "        x = cell[0]\n",
    "        y = cell[1]\n",
    "\n",
    "        list1=range(x-size,x+size+1)\n",
    "        list2=range(y-size,y+size+1)\n",
    "\n",
    "        c = list(itertools.product(list1,list2))\n",
    "\n",
    "        date_rng = pd.date_range(df.loc[i,'inspection_date'], periods=10) - pd.Timedelta(days=10)\n",
    "        test_date = [str(x)[:10] for x in date_rng]\n",
    "\n",
    "        heat_list.append(inspection_date_matrix.loc[test_date,c].sum().sum())\n",
    "        num_rest.append(cell_lenghts.loc[c].sum())\n",
    "        \n",
    "    except TypeError:\n",
    "        print(i)\n",
    "        break\n",
    "        \n",
    "    except KeyError:\n",
    "        print(i)\n",
    "        break\n",
    "        \n",
    "print(datetime.datetime.now() - start)"
   ]
  },
  {
   "cell_type": "code",
   "execution_count": null,
   "metadata": {},
   "outputs": [],
   "source": [
    "df['rest_per_cell'] = pd.Series(num_rest)"
   ]
  },
  {
   "cell_type": "code",
   "execution_count": null,
   "metadata": {},
   "outputs": [],
   "source": [
    "df['heat_index'] = pd.Series(heat_list)"
   ]
  },
  {
   "cell_type": "code",
   "execution_count": null,
   "metadata": {},
   "outputs": [],
   "source": [
    "df['adj_heat_index'] = df['heat_index'] / df['rest_per_cell']"
   ]
  },
  {
   "cell_type": "code",
   "execution_count": null,
   "metadata": {},
   "outputs": [],
   "source": [
    "df['sqrt_heat'] = df['heat_index'].apply(lambda x: x**.5)"
   ]
  },
  {
   "cell_type": "code",
   "execution_count": null,
   "metadata": {},
   "outputs": [],
   "source": [
    "# df.to_csv('./assets/df_with_heat.csv')"
   ]
  },
  {
   "cell_type": "code",
   "execution_count": null,
   "metadata": {},
   "outputs": [],
   "source": [
    "df = pd.read_csv('./assets/df_with_heat.csv')"
   ]
  },
  {
   "cell_type": "code",
   "execution_count": null,
   "metadata": {},
   "outputs": [],
   "source": [
    "sns.distplot(df['adj_heat_index'])"
   ]
  },
  {
   "cell_type": "code",
   "execution_count": null,
   "metadata": {},
   "outputs": [],
   "source": []
  },
  {
   "cell_type": "code",
   "execution_count": null,
   "metadata": {},
   "outputs": [],
   "source": []
  },
  {
   "cell_type": "code",
   "execution_count": null,
   "metadata": {},
   "outputs": [],
   "source": [
    "i_bins = df['inspection_bin'].unique()"
   ]
  },
  {
   "cell_type": "code",
   "execution_count": null,
   "metadata": {},
   "outputs": [],
   "source": [
    "from lifelines import KaplanMeierFitter\n",
    "plt.figure(figsize=(25,20))\n",
    "kmf = KaplanMeierFitter()\n",
    "ax = plt.subplot(111)\n",
    "\n",
    "for i in i_bins:\n",
    "    kmf.fit(df[df['inspection_bin']==i]['time_til'], event_observed=df[df['inspection_bin']==i]['event'], label=i)\n",
    "    kmf.plot(ax=ax)"
   ]
  },
  {
   "cell_type": "code",
   "execution_count": null,
   "metadata": {
    "scrolled": false
   },
   "outputs": [],
   "source": [
    "bandwidth = 20.\n",
    "\n",
    "# naf.fit(T[dem], event_observed=E[dem], label=\"Democratic Regimes\")\n",
    "# ax = naf.plot_hazard(bandwidth=bandwidth)\n",
    "\n",
    "# naf.fit(T[~dem], event_observed=E[~dem], label=\"Non-democratic Regimes\")\n",
    "# naf.plot_hazard(ax=ax, bandwidth=bandwidth)\n",
    "\n",
    "# plt.title(\"Hazard function of different global regimes | bandwidth=%.1f\" % bandwidth);\n",
    "# plt.ylim(0, 0.4)\n",
    "# plt.xlim(0, 25);\n",
    "\n",
    "\n",
    "from lifelines import NelsonAalenFitter\n",
    "naf = NelsonAalenFitter()\n",
    "plt.figure(figsize=(25,20))\n",
    "\n",
    "\n",
    "for i in i_bins:\n",
    "    naf.fit(df[df['inspection_bin']==i]['time_til'], event_observed=df[df['inspection_bin']==i]['event'], label=i)\n",
    "    ax = naf.plot()"
   ]
  },
  {
   "cell_type": "code",
   "execution_count": null,
   "metadata": {},
   "outputs": [],
   "source": [
    "df.columns"
   ]
  },
  {
   "cell_type": "code",
   "execution_count": null,
   "metadata": {},
   "outputs": [],
   "source": [
    "sns.distplot(df['adj_heat_index'])\n",
    "df['adj_heat_index'].max()"
   ]
  },
  {
   "cell_type": "code",
   "execution_count": null,
   "metadata": {},
   "outputs": [],
   "source": [
    "from sklearn.preprocessing import MinMaxScaler"
   ]
  },
  {
   "cell_type": "code",
   "execution_count": null,
   "metadata": {},
   "outputs": [],
   "source": [
    "scaler = MinMaxScaler()\n",
    "sns.distplot(df[['adj_heat_index']])"
   ]
  },
  {
   "cell_type": "code",
   "execution_count": null,
   "metadata": {},
   "outputs": [],
   "source": [
    "# sns.distplot(df['adj_heat_index'].apply(lambda x: np.log(x+1)))\n",
    "sns.distplot(df['adj_heat_index'].apply(lambda x: (x+1)**2))"
   ]
  },
  {
   "cell_type": "code",
   "execution_count": null,
   "metadata": {},
   "outputs": [],
   "source": [
    "df[df['event']==1].columns"
   ]
  },
  {
   "cell_type": "code",
   "execution_count": null,
   "metadata": {},
   "outputs": [],
   "source": [
    "cols = ['cyc_init_1', 'cyc_re_0',\n",
    "       'cyc_re_1', 'cyc_re_2', 'pre_init_0', 'pre_init_1', 'pre_re_0',\n",
    "       'pre_re_1', 'pre_re_2', 're-opened', 'was_closed']\n",
    "X = df[df['event']==1][cols]\n",
    "y = df[df['event']==1]['time_til']"
   ]
  },
  {
   "cell_type": "code",
   "execution_count": 233,
   "metadata": {},
   "outputs": [],
   "source": []
  },
  {
   "cell_type": "code",
   "execution_count": 235,
   "metadata": {},
   "outputs": [],
   "source": []
  },
  {
   "cell_type": "code",
   "execution_count": 236,
   "metadata": {},
   "outputs": [],
   "source": []
  },
  {
   "cell_type": "code",
   "execution_count": 254,
   "metadata": {},
   "outputs": [],
   "source": []
  },
  {
   "cell_type": "code",
   "execution_count": 258,
   "metadata": {},
   "outputs": [],
   "source": []
  },
  {
   "cell_type": "code",
   "execution_count": 262,
   "metadata": {},
   "outputs": [],
   "source": []
  },
  {
   "cell_type": "code",
   "execution_count": 264,
   "metadata": {},
   "outputs": [],
   "source": []
  },
  {
   "cell_type": "code",
   "execution_count": 285,
   "metadata": {},
   "outputs": [],
   "source": []
  },
  {
   "cell_type": "code",
   "execution_count": 366,
   "metadata": {},
   "outputs": [],
   "source": [
    "# df.to_csv('./assets/df_with_fines.csv')"
   ]
  },
  {
   "cell_type": "code",
   "execution_count": 336,
   "metadata": {},
   "outputs": [],
   "source": []
  },
  {
   "cell_type": "code",
   "execution_count": 381,
   "metadata": {},
   "outputs": [
    {
     "data": {
      "text/html": [
       "<div>\n",
       "<style scoped>\n",
       "    .dataframe tbody tr th:only-of-type {\n",
       "        vertical-align: middle;\n",
       "    }\n",
       "\n",
       "    .dataframe tbody tr th {\n",
       "        vertical-align: top;\n",
       "    }\n",
       "\n",
       "    .dataframe thead th {\n",
       "        text-align: right;\n",
       "    }\n",
       "</style>\n",
       "<table border=\"1\" class=\"dataframe\">\n",
       "  <thead>\n",
       "    <tr style=\"text-align: right;\">\n",
       "      <th></th>\n",
       "      <th>new_low</th>\n",
       "      <th>new_high</th>\n",
       "    </tr>\n",
       "    <tr>\n",
       "      <th>year</th>\n",
       "      <th></th>\n",
       "      <th></th>\n",
       "    </tr>\n",
       "  </thead>\n",
       "  <tbody>\n",
       "    <tr>\n",
       "      <th>2013</th>\n",
       "      <td>0.0</td>\n",
       "      <td>0.0</td>\n",
       "    </tr>\n",
       "    <tr>\n",
       "      <th>2014</th>\n",
       "      <td>2750.0</td>\n",
       "      <td>3500.0</td>\n",
       "    </tr>\n",
       "    <tr>\n",
       "      <th>2015</th>\n",
       "      <td>366450.0</td>\n",
       "      <td>550350.0</td>\n",
       "    </tr>\n",
       "    <tr>\n",
       "      <th>2016</th>\n",
       "      <td>7827050.0</td>\n",
       "      <td>11983500.0</td>\n",
       "    </tr>\n",
       "    <tr>\n",
       "      <th>2017</th>\n",
       "      <td>12759600.0</td>\n",
       "      <td>19389750.0</td>\n",
       "    </tr>\n",
       "    <tr>\n",
       "      <th>2018</th>\n",
       "      <td>19594000.0</td>\n",
       "      <td>29807750.0</td>\n",
       "    </tr>\n",
       "    <tr>\n",
       "      <th>2019</th>\n",
       "      <td>17330350.0</td>\n",
       "      <td>26567550.0</td>\n",
       "    </tr>\n",
       "  </tbody>\n",
       "</table>\n",
       "</div>"
      ],
      "text/plain": [
       "         new_low    new_high\n",
       "year                        \n",
       "2013         0.0         0.0\n",
       "2014      2750.0      3500.0\n",
       "2015    366450.0    550350.0\n",
       "2016   7827050.0  11983500.0\n",
       "2017  12759600.0  19389750.0\n",
       "2018  19594000.0  29807750.0\n",
       "2019  17330350.0  26567550.0"
      ]
     },
     "execution_count": 381,
     "metadata": {},
     "output_type": "execute_result"
    }
   ],
   "source": [
    "df.groupby(['year'])[['new_low','new_high']].agg(np.sum)"
   ]
  },
  {
   "cell_type": "code",
   "execution_count": null,
   "metadata": {},
   "outputs": [],
   "source": []
  },
  {
   "cell_type": "code",
   "execution_count": null,
   "metadata": {},
   "outputs": [],
   "source": []
  },
  {
   "cell_type": "code",
   "execution_count": null,
   "metadata": {},
   "outputs": [],
   "source": []
  },
  {
   "cell_type": "code",
   "execution_count": null,
   "metadata": {},
   "outputs": [],
   "source": []
  },
  {
   "cell_type": "code",
   "execution_count": 5,
   "metadata": {},
   "outputs": [],
   "source": [
    "import requests\n",
    "import lxml.html as lh\n",
    "import pandas as pd"
   ]
  },
  {
   "cell_type": "code",
   "execution_count": 6,
   "metadata": {},
   "outputs": [],
   "source": [
    "url='https://en.wikipedia.org/wiki/List_of_restaurant_chains_in_the_United_States'\n",
    "#Create a handle, page, to handle the contents of the website\n",
    "page = requests.get(url)\n",
    "#Store the contents of the website under doc\n",
    "doc = lh.fromstring(page.content)\n",
    "#Parse data that are stored between <tr>..</tr> of HTML\n",
    "tr_elements = doc.xpath('//tr')"
   ]
  },
  {
   "cell_type": "code",
   "execution_count": 31,
   "metadata": {},
   "outputs": [
    {
     "data": {
      "text/plain": [
       "[7, 7, 7, 7, 7, 7, 7, 7, 7, 7, 7, 7]"
      ]
     },
     "execution_count": 31,
     "metadata": {},
     "output_type": "execute_result"
    }
   ],
   "source": [
    "#Check the length of the first 12 rows\n",
    "[len(T) for T in tr_elements[:12]]"
   ]
  },
  {
   "cell_type": "code",
   "execution_count": 8,
   "metadata": {},
   "outputs": [
    {
     "name": "stdout",
     "output_type": "stream",
     "text": [
      "1:\"Name\n",
      "\"\n",
      "2:\"Original location\n",
      "\"\n",
      "3:\"Year started\n",
      "\"\n",
      "4:\"Headquarters\n",
      "\"\n",
      "5:\"Number of worldwide locations\n",
      "\"\n",
      "6:\"Number of states with locations\n",
      "\"\n",
      "7:\"Notes\n",
      "\"\n"
     ]
    }
   ],
   "source": [
    "\n",
    "#Create empty list\n",
    "col=[]\n",
    "i=0\n",
    "#For each row, store each first element (header) and an empty list\n",
    "for t in tr_elements[0]:\n",
    "    i+=1\n",
    "    name=t.text_content()\n",
    "    print('%d:\"%s\"'%(i,name))\n",
    "    col.append((name,[]))"
   ]
  },
  {
   "cell_type": "code",
   "execution_count": 9,
   "metadata": {},
   "outputs": [
    {
     "data": {
      "text/plain": [
       "[('Name\\n', []),\n",
       " ('Original location\\n', []),\n",
       " ('Year started\\n', []),\n",
       " ('Headquarters\\n', []),\n",
       " ('Number of worldwide locations\\n', []),\n",
       " ('Number of states with locations\\n', []),\n",
       " ('Notes\\n', [])]"
      ]
     },
     "execution_count": 9,
     "metadata": {},
     "output_type": "execute_result"
    }
   ],
   "source": [
    "col"
   ]
  },
  {
   "cell_type": "code",
   "execution_count": 10,
   "metadata": {},
   "outputs": [],
   "source": [
    "#Since out first row is the header, data is stored on the second row onwards\n",
    "for j in range(1,len(tr_elements)):\n",
    "    #T is our j'th row\n",
    "    T=tr_elements[j]\n",
    "    \n",
    "    #If row is not of size 10, the //tr data is not from our table \n",
    "#     if len(T)!=10:\n",
    "#         break\n",
    "    \n",
    "    #i is the index of our column\n",
    "    i=0\n",
    "    \n",
    "    #Iterate through each element of the row\n",
    "    for t in T.iterchildren():\n",
    "        data=t.text_content() \n",
    "        #Check if row is empty\n",
    "        if i>0:\n",
    "        #Convert any numerical value to integers\n",
    "            try:\n",
    "                data=int(data)\n",
    "            except:\n",
    "                pass\n",
    "        #Append the data to the empty list of the i'th column\n",
    "        col[i][1].append(data)\n",
    "        #Increment i for the next column\n",
    "        i+=1"
   ]
  },
  {
   "cell_type": "code",
   "execution_count": 35,
   "metadata": {},
   "outputs": [
    {
     "data": {
      "text/plain": [
       "[402, 401, 390, 390, 390, 390, 383]"
      ]
     },
     "execution_count": 35,
     "metadata": {},
     "output_type": "execute_result"
    }
   ],
   "source": [
    "[len(C) for (title,C) in col]"
   ]
  },
  {
   "cell_type": "code",
   "execution_count": 14,
   "metadata": {},
   "outputs": [],
   "source": [
    "restaurants = list(col[0])[1]\n",
    "\n",
    "restaurants = pd.Series(restaurants).apply(lambda x: x[:-1])"
   ]
  },
  {
   "cell_type": "code",
   "execution_count": 24,
   "metadata": {},
   "outputs": [],
   "source": [
    "restaurants = restaurants[:390]"
   ]
  },
  {
   "cell_type": "code",
   "execution_count": 25,
   "metadata": {},
   "outputs": [],
   "source": [
    "restaurants = restaurants.str.lower()"
   ]
  },
  {
   "cell_type": "code",
   "execution_count": 43,
   "metadata": {},
   "outputs": [],
   "source": [
    "df_rest = df['dba'].str.lower()"
   ]
  },
  {
   "cell_type": "code",
   "execution_count": 32,
   "metadata": {},
   "outputs": [
    {
     "data": {
      "text/plain": [
       "188    domino's pizza\n",
       "dtype: object"
      ]
     },
     "execution_count": 32,
     "metadata": {},
     "output_type": "execute_result"
    }
   ],
   "source": [
    "restaurants[restaurants.str.contains('dom')]"
   ]
  },
  {
   "cell_type": "code",
   "execution_count": 41,
   "metadata": {},
   "outputs": [],
   "source": [
    "domino_index = df_rest[df_rest.str.contains('domino')].index\n",
    "\n",
    "df.loc[domino_index,'dba'] = \"domino's pizza\""
   ]
  },
  {
   "cell_type": "code",
   "execution_count": 47,
   "metadata": {},
   "outputs": [],
   "source": [
    "chain_df = pd.DataFrame([df_rest,df_rest.isin(restaurants)]).T"
   ]
  },
  {
   "cell_type": "code",
   "execution_count": 51,
   "metadata": {},
   "outputs": [
    {
     "data": {
      "text/html": [
       "<div>\n",
       "<style scoped>\n",
       "    .dataframe tbody tr th:only-of-type {\n",
       "        vertical-align: middle;\n",
       "    }\n",
       "\n",
       "    .dataframe tbody tr th {\n",
       "        vertical-align: top;\n",
       "    }\n",
       "\n",
       "    .dataframe thead th {\n",
       "        text-align: right;\n",
       "    }\n",
       "</style>\n",
       "<table border=\"1\" class=\"dataframe\">\n",
       "  <thead>\n",
       "    <tr style=\"text-align: right;\">\n",
       "      <th></th>\n",
       "      <th>dba</th>\n",
       "      <th>chain</th>\n",
       "    </tr>\n",
       "  </thead>\n",
       "  <tbody>\n",
       "  </tbody>\n",
       "</table>\n",
       "</div>"
      ],
      "text/plain": [
       "Empty DataFrame\n",
       "Columns: [dba, chain]\n",
       "Index: []"
      ]
     },
     "execution_count": 51,
     "metadata": {},
     "output_type": "execute_result"
    }
   ],
   "source": [
    "chain_df.columns = ['dba','chain']\n",
    "\n"
   ]
  },
  {
   "cell_type": "code",
   "execution_count": 73,
   "metadata": {},
   "outputs": [
    {
     "data": {
      "text/html": [
       "<div>\n",
       "<style scoped>\n",
       "    .dataframe tbody tr th:only-of-type {\n",
       "        vertical-align: middle;\n",
       "    }\n",
       "\n",
       "    .dataframe tbody tr th {\n",
       "        vertical-align: top;\n",
       "    }\n",
       "\n",
       "    .dataframe thead th {\n",
       "        text-align: right;\n",
       "    }\n",
       "</style>\n",
       "<table border=\"1\" class=\"dataframe\">\n",
       "  <thead>\n",
       "    <tr style=\"text-align: right;\">\n",
       "      <th></th>\n",
       "      <th>dba</th>\n",
       "      <th>chain</th>\n",
       "    </tr>\n",
       "  </thead>\n",
       "  <tbody>\n",
       "    <tr>\n",
       "      <td>0</td>\n",
       "      <td>morris park bake shop</td>\n",
       "      <td>False</td>\n",
       "    </tr>\n",
       "    <tr>\n",
       "      <td>1</td>\n",
       "      <td>morris park bake shop</td>\n",
       "      <td>False</td>\n",
       "    </tr>\n",
       "    <tr>\n",
       "      <td>2</td>\n",
       "      <td>morris park bake shop</td>\n",
       "      <td>False</td>\n",
       "    </tr>\n",
       "    <tr>\n",
       "      <td>3</td>\n",
       "      <td>morris park bake shop</td>\n",
       "      <td>False</td>\n",
       "    </tr>\n",
       "    <tr>\n",
       "      <td>12</td>\n",
       "      <td>dj reynolds pub and restaurant</td>\n",
       "      <td>False</td>\n",
       "    </tr>\n",
       "    <tr>\n",
       "      <td>...</td>\n",
       "      <td>...</td>\n",
       "      <td>...</td>\n",
       "    </tr>\n",
       "    <tr>\n",
       "      <td>129008</td>\n",
       "      <td>casa coriz mexican restaurant</td>\n",
       "      <td>False</td>\n",
       "    </tr>\n",
       "    <tr>\n",
       "      <td>129009</td>\n",
       "      <td>same canteen</td>\n",
       "      <td>False</td>\n",
       "    </tr>\n",
       "    <tr>\n",
       "      <td>129010</td>\n",
       "      <td>tea la ra</td>\n",
       "      <td>False</td>\n",
       "    </tr>\n",
       "    <tr>\n",
       "      <td>129011</td>\n",
       "      <td>tea la ra</td>\n",
       "      <td>False</td>\n",
       "    </tr>\n",
       "    <tr>\n",
       "      <td>129012</td>\n",
       "      <td>new york chicken market</td>\n",
       "      <td>False</td>\n",
       "    </tr>\n",
       "  </tbody>\n",
       "</table>\n",
       "<p>121916 rows × 2 columns</p>\n",
       "</div>"
      ],
      "text/plain": [
       "                                   dba  chain\n",
       "0                morris park bake shop  False\n",
       "1                morris park bake shop  False\n",
       "2                morris park bake shop  False\n",
       "3                morris park bake shop  False\n",
       "12      dj reynolds pub and restaurant  False\n",
       "...                                ...    ...\n",
       "129008   casa coriz mexican restaurant  False\n",
       "129009                    same canteen  False\n",
       "129010                       tea la ra  False\n",
       "129011                       tea la ra  False\n",
       "129012         new york chicken market  False\n",
       "\n",
       "[121916 rows x 2 columns]"
      ]
     },
     "execution_count": 73,
     "metadata": {},
     "output_type": "execute_result"
    }
   ],
   "source": [
    "chain_df[chain_df['chain']==False].drop_duplicates()"
   ]
  },
  {
   "cell_type": "code",
   "execution_count": 39,
   "metadata": {},
   "outputs": [],
   "source": [
    "# df_rest.drop_duplicates(inplace=True)"
   ]
  },
  {
   "cell_type": "code",
   "execution_count": 40,
   "metadata": {},
   "outputs": [],
   "source": [
    "is_chain = pd.DataFrame([df_rest,df_rest.isin(rests)]).T\n",
    "# df_rest\n",
    "# df[df['cell'].isin(c)].drop_duplicates('camis')"
   ]
  },
  {
   "cell_type": "code",
   "execution_count": 41,
   "metadata": {},
   "outputs": [],
   "source": [
    "is_chain.columns = ['dba','chain']"
   ]
  },
  {
   "cell_type": "code",
   "execution_count": 44,
   "metadata": {},
   "outputs": [],
   "source": [
    "df['chain'] = is_chain['chain']"
   ]
  },
  {
   "cell_type": "markdown",
   "metadata": {},
   "source": [
    "The Plots"
   ]
  },
  {
   "cell_type": "code",
   "execution_count": 48,
   "metadata": {},
   "outputs": [
    {
     "data": {
      "text/plain": [
       "0.1713570981863665"
      ]
     },
     "execution_count": 48,
     "metadata": {},
     "output_type": "execute_result"
    }
   ],
   "source": [
    "len(df[df['is_chain']==1].drop_duplicates('camis')) / len(df.drop_duplicates('camis'))"
   ]
  },
  {
   "cell_type": "code",
   "execution_count": 54,
   "metadata": {},
   "outputs": [
    {
     "data": {
      "text/plain": [
       "19455           ['10B', '06C', '22F']\n",
       "19456           ['10F', '10B', '06C']\n",
       "19457    ['02B', '10B', '02G', '10F']\n",
       "19458    ['06C', '10F', '10B', '10H']\n",
       "Name: codes, dtype: object"
      ]
     },
     "execution_count": 54,
     "metadata": {},
     "output_type": "execute_result"
    }
   ],
   "source": [
    "df[df['camis']==41077320]['codes']"
   ]
  },
  {
   "cell_type": "markdown",
   "metadata": {},
   "source": [
    "Initial Success"
   ]
  },
  {
   "cell_type": "code",
   "execution_count": 35,
   "metadata": {},
   "outputs": [
    {
     "data": {
      "text/html": [
       "<div>\n",
       "<style scoped>\n",
       "    .dataframe tbody tr th:only-of-type {\n",
       "        vertical-align: middle;\n",
       "    }\n",
       "\n",
       "    .dataframe tbody tr th {\n",
       "        vertical-align: top;\n",
       "    }\n",
       "\n",
       "    .dataframe thead th {\n",
       "        text-align: right;\n",
       "    }\n",
       "</style>\n",
       "<table border=\"1\" class=\"dataframe\">\n",
       "  <thead>\n",
       "    <tr style=\"text-align: right;\">\n",
       "      <th></th>\n",
       "      <th></th>\n",
       "      <th>new_low</th>\n",
       "      <th>new_high</th>\n",
       "    </tr>\n",
       "    <tr>\n",
       "      <th>camis</th>\n",
       "      <th>year</th>\n",
       "      <th></th>\n",
       "      <th></th>\n",
       "    </tr>\n",
       "  </thead>\n",
       "  <tbody>\n",
       "    <tr>\n",
       "      <td rowspan=\"3\" valign=\"top\">30075445</td>\n",
       "      <td>2017</td>\n",
       "      <td>0.0</td>\n",
       "      <td>0.0</td>\n",
       "    </tr>\n",
       "    <tr>\n",
       "      <td>2018</td>\n",
       "      <td>0.0</td>\n",
       "      <td>0.0</td>\n",
       "    </tr>\n",
       "    <tr>\n",
       "      <td>2019</td>\n",
       "      <td>1200.0</td>\n",
       "      <td>1350.0</td>\n",
       "    </tr>\n",
       "    <tr>\n",
       "      <td rowspan=\"2\" valign=\"top\">30112340</td>\n",
       "      <td>2016</td>\n",
       "      <td>2200.0</td>\n",
       "      <td>2900.0</td>\n",
       "    </tr>\n",
       "    <tr>\n",
       "      <td>2017</td>\n",
       "      <td>450.0</td>\n",
       "      <td>800.0</td>\n",
       "    </tr>\n",
       "    <tr>\n",
       "      <td>...</td>\n",
       "      <td>...</td>\n",
       "      <td>...</td>\n",
       "      <td>...</td>\n",
       "    </tr>\n",
       "    <tr>\n",
       "      <td>50093846</td>\n",
       "      <td>2019</td>\n",
       "      <td>0.0</td>\n",
       "      <td>0.0</td>\n",
       "    </tr>\n",
       "    <tr>\n",
       "      <td>50094248</td>\n",
       "      <td>2019</td>\n",
       "      <td>0.0</td>\n",
       "      <td>0.0</td>\n",
       "    </tr>\n",
       "    <tr>\n",
       "      <td>50094372</td>\n",
       "      <td>2019</td>\n",
       "      <td>0.0</td>\n",
       "      <td>0.0</td>\n",
       "    </tr>\n",
       "    <tr>\n",
       "      <td>50094524</td>\n",
       "      <td>2019</td>\n",
       "      <td>0.0</td>\n",
       "      <td>0.0</td>\n",
       "    </tr>\n",
       "    <tr>\n",
       "      <td>50094857</td>\n",
       "      <td>2019</td>\n",
       "      <td>0.0</td>\n",
       "      <td>0.0</td>\n",
       "    </tr>\n",
       "  </tbody>\n",
       "</table>\n",
       "<p>64393 rows × 2 columns</p>\n",
       "</div>"
      ],
      "text/plain": [
       "               new_low  new_high\n",
       "camis    year                   \n",
       "30075445 2017      0.0       0.0\n",
       "         2018      0.0       0.0\n",
       "         2019   1200.0    1350.0\n",
       "30112340 2016   2200.0    2900.0\n",
       "         2017    450.0     800.0\n",
       "...                ...       ...\n",
       "50093846 2019      0.0       0.0\n",
       "50094248 2019      0.0       0.0\n",
       "50094372 2019      0.0       0.0\n",
       "50094524 2019      0.0       0.0\n",
       "50094857 2019      0.0       0.0\n",
       "\n",
       "[64393 rows x 2 columns]"
      ]
     },
     "execution_count": 35,
     "metadata": {},
     "output_type": "execute_result"
    }
   ],
   "source": [
    "df[df['inspection_type'].str.contains('Cycle')].groupby(['camis','year'])[['new_low','new_high']].sum()"
   ]
  },
  {
   "cell_type": "code",
   "execution_count": 59,
   "metadata": {},
   "outputs": [],
   "source": [
    "re_inspected = df[(df['inspection_type'].str.contains('Cycle')) & \n",
    "                  (df['new_low']>0) &\n",
    "                  (df['year']>2017) &\n",
    "                  (df['year']<2019)]\n",
    "\n",
    "re_inspected_total = re_inspected.groupby(['camis'])[['new_low','new_high','avg_est']].sum()"
   ]
  },
  {
   "cell_type": "code",
   "execution_count": 55,
   "metadata": {},
   "outputs": [],
   "source": [
    "all_cycle = df[(df['year']==2018) &\n",
    "  (df['inspection_type'].str.contains('Cycle'))]\n",
    "\n",
    "all_cycle_total = all_cycle.groupby(['camis'])[['new_low','new_high']].sum()"
   ]
  },
  {
   "cell_type": "code",
   "execution_count": 229,
   "metadata": {},
   "outputs": [
    {
     "data": {
      "text/plain": [
       "array(['Cycle Inspection / Initial Inspection',\n",
       "       'Cycle Inspection / Re-inspection',\n",
       "       'Cycle Inspection / Compliance Inspection',\n",
       "       'Cycle Inspection / Reopening Inspection',\n",
       "       'Pre-permit (Non-operational) / Initial Inspection',\n",
       "       'Pre-permit (Non-operational) / Re-inspection',\n",
       "       'Pre-permit (Operational) / Compliance Inspection',\n",
       "       'Cycle Inspection / Second Compliance Inspection',\n",
       "       'Pre-permit (Operational) / Initial Inspection',\n",
       "       'Pre-permit (Operational) / Re-inspection',\n",
       "       'Pre-permit (Operational) / Second Compliance Inspection',\n",
       "       'Pre-permit (Operational) / Reopening Inspection',\n",
       "       'Pre-permit (Non-operational) / Compliance Inspection',\n",
       "       'Pre-permit (Non-operational) / Second Compliance Inspection'],\n",
       "      dtype=object)"
      ]
     },
     "execution_count": 229,
     "metadata": {},
     "output_type": "execute_result"
    }
   ],
   "source": [
    "df['inspection_type'].unique()"
   ]
  },
  {
   "cell_type": "code",
   "execution_count": 57,
   "metadata": {},
   "outputs": [
    {
     "data": {
      "text/plain": [
       "(0.0, 865.149439285533)"
      ]
     },
     "execution_count": 57,
     "metadata": {},
     "output_type": "execute_result"
    }
   ],
   "source": [
    "all_cycle_total['new_low'].median(), all_cycle_total['new_low'].mean()"
   ]
  },
  {
   "cell_type": "code",
   "execution_count": 208,
   "metadata": {},
   "outputs": [
    {
     "data": {
      "text/plain": [
       "<Figure size 1080x720 with 0 Axes>"
      ]
     },
     "metadata": {},
     "output_type": "display_data"
    },
    {
     "data": {
      "image/png": "[encoded data removed]",
      "text/plain": [
       "<Figure size 1332x756 with 1 Axes>"
      ]
     },
     "metadata": {
      "needs_background": "light"
     },
     "output_type": "display_data"
    }
   ],
   "source": [
    "# plt.figure(figsize=(15,10))\n",
    "\n",
    "init_score = df[(df['inspection_type']=='Cycle Inspection / Initial Inspection') & \n",
    "   (df['score']<40)]['score']\n",
    "\n",
    "bins = np.arange(41) - 0.5\n",
    "\n",
    "fig, ax = plt.subplots()\n",
    "\n",
    "plt.hist(init_score, bins)\n",
    "plt.xticks(range(40))\n",
    "plt.xlim([-1, 40])\n",
    "# title_obj = plt.title('Scores on Initial Cycle Inspection', fontdict={'fontsize':30}, pad=15)\n",
    "fig.suptitle('Scores on Initial Cycle Inspection', fontsize=36, color='black')\n",
    "\n",
    "plt.setp(title_obj, color='w')\n",
    "plt.vlines(13.5,0,9000)\n",
    "\n",
    "fig.set_size_inches(18.5, 10.5)\n",
    "\n",
    "plt.savefig('initial_scores')\n",
    "plt.show()"
   ]
  },
  {
   "cell_type": "code",
   "execution_count": 62,
   "metadata": {},
   "outputs": [
    {
     "data": {
      "image/png": "[encoded data removed]",
      "text/plain": [
       "<Figure size 1080x720 with 1 Axes>"
      ]
     },
     "metadata": {
      "needs_background": "light"
     },
     "output_type": "display_data"
    }
   ],
   "source": [
    "import matplotlib.pyplot as plt\n",
    "plt.figure(figsize=(15,10))\n",
    "\n",
    "x = re_inspected_total['avg_est']\n",
    "\n",
    "bins = 75\n",
    "plt.hist(x, bins)\n",
    "# plt.xticks(range(40))\n",
    "plt.xlabel('Dollars')\n",
    "plt.xlim([0, 8000])\n",
    "plt.vlines([x.quantile([.4,.6])], 0, 700, colors='r')\n",
    "title_obj = plt.title('2018 Estimated Fines', fontdict={'fontsize':30}, pad=15)\n",
    "plt.setp(title_obj, color='w')\n",
    "\n",
    "plt.savefig('fine_est')\n",
    "plt.show()"
   ]
  },
  {
   "cell_type": "code",
   "execution_count": 169,
   "metadata": {},
   "outputs": [
    {
     "data": {
      "image/png": "[encoded data removed]",
      "text/plain": [
       "<Figure size 1080x720 with 1 Axes>"
      ]
     },
     "metadata": {
      "needs_background": "light"
     },
     "output_type": "display_data"
    }
   ],
   "source": [
    "x = pd.to_datetime(df['inspection_date']).dt.day_name()\n",
    "\n",
    "x = pd.Categorical(x, categories=\n",
    "    ['Monday','Tuesday','Wednesday','Thursday','Friday','Saturday', 'Sunday'],\n",
    "    ordered=True)\n",
    "\n",
    "x = x.value_counts()\n",
    "x = x.sort_index()\n",
    "\n",
    "plt.figure(figsize=(15,10))\n",
    "\n",
    "title_obj = plt.title('Health Inspections by Day of Week', fontdict={'fontsize':30}, pad=15)\n",
    "plt.setp(title_obj, color='w')\n",
    "\n",
    "plt.bar(x.index, x);"
   ]
  },
  {
   "cell_type": "code",
   "execution_count": 190,
   "metadata": {},
   "outputs": [],
   "source": [
    "df['day_of_week'] = pd.to_datetime(df['inspection_date']).dt.day_name()\n",
    "df['day_of_week'] = df['day_of_week'].apply(lambda x: 'Weekend' if x=='Saturday' or x=='Sunday' else x)"
   ]
  },
  {
   "cell_type": "code",
   "execution_count": 208,
   "metadata": {},
   "outputs": [],
   "source": [
    "# pd.get_dummies(df['day_of_week'], drop_first=True)"
   ]
  },
  {
   "cell_type": "code",
   "execution_count": 193,
   "metadata": {},
   "outputs": [],
   "source": []
  },
  {
   "cell_type": "code",
   "execution_count": 209,
   "metadata": {},
   "outputs": [],
   "source": [
    "# df = df.join(pd.get_dummies(df['day_of_week'], drop_first=False))"
   ]
  },
  {
   "cell_type": "code",
   "execution_count": 199,
   "metadata": {},
   "outputs": [],
   "source": [
    "cols = ['event','time_til','inspection_bin', 'Monday', 'Thursday', 'Tuesday',\n",
    "        'Wednesday', 'Weekend']"
   ]
  },
  {
   "cell_type": "code",
   "execution_count": 197,
   "metadata": {},
   "outputs": [
    {
     "name": "stdout",
     "output_type": "stream",
     "text": [
      "Iteration 1: norm_delta = 0.00704, step_size = 0.1000, ll = -429723.61718, newton_decrement = 169.30990, seconds_since_start = 1.6\n",
      "Iteration 2: norm_delta = 0.00640, step_size = 0.1000, ll = -429691.44162, newton_decrement = 139.00206, seconds_since_start = 2.8\n",
      "Iteration 3: norm_delta = 0.00583, step_size = 0.1000, ll = -429665.02589, newton_decrement = 114.07566, seconds_since_start = 4.0\n",
      "Iteration 4: norm_delta = 0.00636, step_size = 0.1200, ll = -429643.34728, newton_decrement = 93.57334, seconds_since_start = 5.1\n",
      "Iteration 5: norm_delta = 0.00556, step_size = 0.1176, ll = -429622.23140, newton_decrement = 73.54436, seconds_since_start = 6.2\n",
      "Iteration 6: norm_delta = 0.00487, step_size = 0.1152, ll = -429605.94688, newton_decrement = 58.04644, seconds_since_start = 7.3\n",
      "Iteration 7: norm_delta = 0.00523, step_size = 0.1383, ll = -429593.33561, newton_decrement = 46.00308, seconds_since_start = 8.5\n",
      "Iteration 8: norm_delta = 0.00447, step_size = 0.1355, ll = -429581.48773, newton_decrement = 34.64523, seconds_since_start = 9.6\n",
      "Iteration 9: norm_delta = 0.00384, step_size = 0.1328, ll = -429572.73081, newton_decrement = 26.21655, seconds_since_start = 10.7\n",
      "Iteration 10: norm_delta = 0.00403, step_size = 0.1594, ll = -429566.22763, newton_decrement = 19.93328, seconds_since_start = 11.8\n",
      "Iteration 11: norm_delta = 0.00336, step_size = 0.1562, ll = -429560.37815, newton_decrement = 14.25941, seconds_since_start = 12.9\n",
      "Iteration 12: norm_delta = 0.00281, step_size = 0.1531, ll = -429556.27046, newton_decrement = 10.25943, seconds_since_start = 14.0\n",
      "Iteration 13: norm_delta = 0.00288, step_size = 0.1837, ll = -429553.36936, newton_decrement = 7.42459, seconds_since_start = 15.1\n",
      "Iteration 14: norm_delta = 0.00232, step_size = 0.1800, ll = -429550.89161, newton_decrement = 4.99528, seconds_since_start = 16.1\n",
      "Iteration 15: norm_delta = 0.00188, step_size = 0.1764, ll = -429549.25469, newton_decrement = 3.38522, seconds_since_start = 17.3\n",
      "Iteration 16: norm_delta = 0.00187, step_size = 0.2117, ll = -429548.16545, newton_decrement = 2.31097, seconds_since_start = 18.4\n",
      "Iteration 17: norm_delta = 0.00178, step_size = 0.2540, ll = -429547.29039, newton_decrement = 1.44582, seconds_since_start = 19.5\n",
      "Iteration 18: norm_delta = 0.00161, step_size = 0.3048, ll = -429546.64895, newton_decrement = 0.81009, seconds_since_start = 20.6\n",
      "Iteration 19: norm_delta = 0.00135, step_size = 0.3658, ll = -429546.23022, newton_decrement = 0.39410, seconds_since_start = 21.7\n",
      "Iteration 20: norm_delta = 0.00103, step_size = 0.4390, ll = -429545.99455, newton_decrement = 0.15950, seconds_since_start = 22.9\n",
      "Iteration 21: norm_delta = 0.00070, step_size = 0.5268, ll = -429545.88522, newton_decrement = 0.05048, seconds_since_start = 24.0\n",
      "Iteration 22: norm_delta = 0.00040, step_size = 0.6321, ll = -429545.84604, newton_decrement = 0.01135, seconds_since_start = 25.2\n",
      "Iteration 23: norm_delta = 0.00018, step_size = 0.7585, ll = -429545.83622, newton_decrement = 0.00154, seconds_since_start = 26.3\n",
      "Iteration 24: norm_delta = 0.00005, step_size = 0.9103, ll = -429545.83477, newton_decrement = 0.00009, seconds_since_start = 27.5\n",
      "Iteration 25: norm_delta = 0.00000, step_size = 0.9500, ll = -429545.83468, newton_decrement = 0.00000, seconds_since_start = 28.6\n",
      "Convergence completed after 25 iterations.\n",
      "<lifelines.CoxPHFitter: fitted with 54100 observations, 0 censored>\n",
      "      duration col = 'time_til'\n",
      "         event col = 'event'\n",
      "            strata = ['inspection_bin']\n",
      "number of subjects = 54100\n",
      "  number of events = 54100\n",
      "    log-likelihood = -429545.83\n",
      "  time fit was run = 2019-10-02 19:07:36 UTC\n",
      "\n",
      "---\n",
      "           coef  exp(coef)  se(coef)      z      p  -log2(p)  lower 0.95  upper 0.95\n",
      "Monday     0.11       1.12      0.02   6.92 <0.005     37.65        0.08        0.14\n",
      "Thursday  -0.04       0.96      0.02  -2.55   0.01      6.52       -0.07       -0.01\n",
      "Tuesday    0.00       1.00      0.02   0.09   0.93      0.10       -0.03        0.03\n",
      "Wednesday -0.02       0.98      0.02  -1.32   0.19      2.43       -0.05        0.01\n",
      "Weekend   -0.35       0.70      0.03 -12.80 <0.005    122.15       -0.40       -0.30\n",
      "---\n",
      "Concordance = 0.51\n",
      "Likelihood ratio test = 211948.45 on 5 df, -log2(p)=inf\n"
     ]
    }
   ],
   "source": [
    "X = df[(df['inspection_date']>='2018-01-01') &\n",
    "       (df['event']==1) &\n",
    "       (df['time_til']<500)][cols]\n",
    "\n",
    "from lifelines import CoxPHFitter\n",
    "\n",
    "cph = CoxPHFitter()\n",
    "cph.fit(X, 'time_til', event_col='event', strata = ['inspection_bin'], show_progress=True, step_size=.1)\n",
    "cph.print_summary()"
   ]
  },
  {
   "cell_type": "code",
   "execution_count": 27,
   "metadata": {},
   "outputs": [],
   "source": [
    "path = \"C:/Users/a/Documents/Projects/doh/\"\n",
    "extension = 'csv'\n",
    "os.chdir(path)\n",
    "\n",
    "all_violations = pd.read_csv('./assets/archive/DOHMH_New_York_City_Restaurant_Inspection_Results_9_11_19.csv')            \n",
    "\n",
    "    \n",
    "    "
   ]
  },
  {
   "cell_type": "code",
   "execution_count": 28,
   "metadata": {},
   "outputs": [],
   "source": [
    "all_violations.dropna(axis=0, subset=['INSPECTION TYPE','VIOLATION CODE'], inplace=True)\n",
    "violation_counts = all_violations[all_violations['INSPECTION TYPE'].str.contains('Cycle')]['VIOLATION CODE'].value_counts()\n"
   ]
  },
  {
   "cell_type": "code",
   "execution_count": 34,
   "metadata": {},
   "outputs": [
    {
     "data": {
      "image/png": "[encoded data removed]",
      "text/plain": [
       "<Figure size 1332x756 with 1 Axes>"
      ]
     },
     "metadata": {
      "needs_background": "light"
     },
     "output_type": "display_data"
    }
   ],
   "source": [
    "x = violation_counts[:20]\n",
    "\n",
    "fig, ax = plt.subplots()\n",
    "\n",
    "# plt.figure(figsize=(15,10))\n",
    "\n",
    "# title_obj = plt.title('Most Commonly Cited Violations', fontdict={'fontsize':30}, pad=15)\n",
    "\n",
    "fig.suptitle('Most Common Violations', fontsize=36, color='black')\n",
    "\n",
    "# plt.setp(title_obj, color='w')\n",
    "\n",
    "plt.bar(x.index, x)\n",
    "\n",
    "fig.set_size_inches(18.5, 10.5)\n",
    "plt.savefig('common_violations')\n",
    "plt.show();"
   ]
  },
  {
   "cell_type": "code",
   "execution_count": 255,
   "metadata": {},
   "outputs": [
    {
     "name": "stdout",
     "output_type": "stream",
     "text": [
      "0.1495486891962663\n",
      "0.11862542743600012\n",
      "0.07989587505006007\n",
      "0.07422137334031607\n",
      "0.06295246603616647\n",
      "0.06263516219463355\n",
      "0.06203136070977481\n",
      "0.05642771325590709\n",
      "0.05418502202643172\n",
      "0.023378823819352454\n",
      "0.02320630910939281\n",
      "0.020165737346354087\n",
      "0.01897353747574012\n",
      "0.017960013554727212\n",
      "0.017676596531222083\n",
      "0.017371615168971996\n",
      "0.01695573149317643\n",
      "0.015292196789994147\n",
      "0.015147407658420875\n",
      "0.01135208403930871\n"
     ]
    }
   ],
   "source": [
    "for i in x:\n",
    "    print(i/violation_counts.sum())"
   ]
  },
  {
   "cell_type": "code",
   "execution_count": 279,
   "metadata": {},
   "outputs": [
    {
     "name": "stdout",
     "output_type": "stream",
     "text": [
      "1: Non-food contact surface improperly constructed. Unacceptable material used. Non-food contact surface or equipment improperly maintained and/or not properly sealed, raised, spaced or movable to allow accessibility for cleaning on all sides, above and underneath the unit.\n",
      "10F\n",
      "\n",
      "\n",
      "2: Facility not vermin proof. Harborage or conditions conducive to attracting vermin to the premises and/or allowing vermin to exist.\n",
      "08A\n",
      "\n",
      "\n",
      "3: Evidence of mice or live mice present in facility's food and/or non-food areas.\n",
      "04L\n",
      "\n",
      "\n",
      "4: Food contact surface not properly washed, rinsed and sanitized after each use and following any activity when contamination may have occurred.\n",
      "06D\n",
      "\n",
      "\n",
      "5: Cold food item held above 41º F (smoked fish and reduced oxygen packaged foods above 38 ºF) except during necessary preparation.\n",
      "02G\n",
      "\n",
      "\n",
      "6: Food not protected from potential source of contamination during storage, preparation, transportation, display or service.\n",
      "06C\n",
      "\n",
      "\n",
      "7: Plumbing not properly installed or maintained; anti-siphonage or backflow prevention device not provided where required; equipment or floor not properly drained; sewage disposal system in disrepair or not functioning properly.\n",
      "10B\n",
      "\n",
      "\n",
      "8: Filth flies or food/refuse/sewage-associated (FRSA) flies present in facility’s food and/or non-food areas. Filth flies include house flies, little house flies, blow flies, bottle flies and flesh flies. Food/refuse/sewage-associated flies include fruit flies, drain flies and Phorid flies.\n",
      "04N\n",
      "\n",
      "\n",
      "9: Hot food item not held at or above 140º F.\n",
      "02B\n",
      "\n",
      "\n"
     ]
    }
   ],
   "source": [
    "count = 1\n",
    "for i in x.index[:9]:\n",
    "    print('{}: {}'.format(count,all_violations[all_violations['VIOLATION CODE']==i]['VIOLATION DESCRIPTION'].iloc[0]))\n",
    "    print(i)\n",
    "    print('\\n')\n",
    "    count+=1"
   ]
  },
  {
   "cell_type": "code",
   "execution_count": 276,
   "metadata": {},
   "outputs": [],
   "source": [
    "by_category = all_violations['VIOLATION CODE'].str.replace('[A-Z]', '').value_counts()"
   ]
  },
  {
   "cell_type": "code",
   "execution_count": 277,
   "metadata": {},
   "outputs": [
    {
     "data": {
      "image/png": "[encoded data removed]",
      "text/plain": [
       "<Figure size 1080x720 with 1 Axes>"
      ]
     },
     "metadata": {
      "needs_background": "light"
     },
     "output_type": "display_data"
    }
   ],
   "source": [
    "plt.figure(figsize=(15,10))\n",
    "\n",
    "title_obj = plt.title('Most Commonly Cited Violations', fontdict={'fontsize':30}, pad=15)\n",
    "plt.setp(title_obj, color='w')\n",
    "\n",
    "plt.bar(by_category.index, by_category);"
   ]
  },
  {
   "cell_type": "code",
   "execution_count": 278,
   "metadata": {},
   "outputs": [
    {
     "name": "stdout",
     "output_type": "stream",
     "text": [
      "0.2494201196987486\n",
      "0.21012362969924323\n",
      "0.19546977463417428\n",
      "0.1294662497949918\n",
      "0.1280344465820254\n",
      "0.030403690407699458\n",
      "0.017395107398257365\n",
      "0.011399756853781652\n",
      "0.009447297927009275\n",
      "0.00778380292139921\n",
      "0.003477980168223861\n",
      "0.002782904790292895\n",
      "0.002605881847598866\n",
      "0.0007471409493115629\n",
      "0.00042954096388992297\n",
      "0.00039049178535447543\n",
      "0.00036185572109514725\n",
      "0.00010933769989925312\n",
      "8.070163563992492e-05\n",
      "5.466884994962656e-05\n",
      "5.206557138059672e-06\n",
      "5.206557138059672e-06\n",
      "2.603278569029836e-06\n",
      "2.603278569029836e-06\n"
     ]
    }
   ],
   "source": [
    "for i in by_category:\n",
    "    print(i/by_category.sum())"
   ]
  },
  {
   "cell_type": "code",
   "execution_count": 23,
   "metadata": {},
   "outputs": [],
   "source": [
    "# import matplotlib.pyplot as plt\n",
    "# import numpy as np\n",
    "\n",
    "\n",
    "# chain = df[(df['is_chain']==1) & (df['score']<50)]['score']\n",
    "# not_chain = df[(df['is_chain']==0) & (df['score']<50)]['score']\n",
    "\n",
    "# l = 50\n",
    "# xweights = 100 * np.ones_like(chain) / chain.size\n",
    "# yweights = 100 * np.ones_like(not_chain) / not_chain.size\n",
    "\n",
    "# fig, ax = plt.subplots()\n",
    "# ax.hist(chain, bins = l, weights=xweights, color='blue', alpha=1, density=True)\n",
    "# ax.hist(not_chain, bins = l, weights=yweights, color='salmon', alpha=.6, density=True)\n",
    "\n",
    "# ax.set(title='Histogram Comparison', ylabel='% of Dataset in Bin')\n",
    "# ax.margins(0.05)\n",
    "# ax.set_ylim(bottom=0)\n",
    "# plt.vlines(14,0,.16)\n",
    "\n",
    "# fig.set_size_inches(18.5, 10.5)\n",
    "# plt.show();"
   ]
  },
  {
   "cell_type": "code",
   "execution_count": 22,
   "metadata": {},
   "outputs": [
    {
     "data": {
      "image/png": "[encoded data removed]",
      "text/plain": [
       "<Figure size 1332x756 with 1 Axes>"
      ]
     },
     "metadata": {
      "needs_background": "light"
     },
     "output_type": "display_data"
    }
   ],
   "source": [
    "import matplotlib.pyplot as plt\n",
    "import numpy as np\n",
    "\n",
    "\n",
    "chain = df[(df['is_chain']==1) & (df['inspection_type'].str.contains('Cycle Inspection / Initial Inspection')) &\n",
    "          (df['score']<50)]['score']\n",
    "not_chain = df[(df['is_chain']==0) & (df['inspection_type'].str.contains('Cycle Inspection / Initial Inspection')) &\n",
    "              (df['score']<50)]['score']\n",
    "\n",
    "l = 50\n",
    "xweights = 100 * np.ones_like(chain) / chain.size\n",
    "yweights = 100 * np.ones_like(not_chain) / not_chain.size\n",
    "\n",
    "fig, ax = plt.subplots()\n",
    "ax.hist(chain, bins = l, weights=xweights, color='blue', alpha=1, density=True, label='Chain')\n",
    "ax.hist(not_chain, bins = l, weights=yweights, color='salmon', alpha=.6, density=True, label='Independent')\n",
    "\n",
    "fig.suptitle('Initial Scores of Chain and Independent Restaurants', fontsize=36, color='black')\n",
    "ax.set_xlabel('Score', fontsize=18, color='black')\n",
    "\n",
    "ax.margins(0.05)\n",
    "ax.set_ylim(bottom=0)\n",
    "ax.set_xlim(0,50)\n",
    "plt.vlines(14,0,.16)\n",
    "\n",
    "ax.legend(prop={'size':20})\n",
    "\n",
    "fig.set_size_inches(18.5, 10.5)\n",
    "plt.savefig('chain_v_ind_score')\n",
    "plt.show();"
   ]
  },
  {
   "cell_type": "code",
   "execution_count": 231,
   "metadata": {
    "scrolled": true
   },
   "outputs": [
    {
     "data": {
      "text/plain": [
       "0.7336725394896719"
      ]
     },
     "execution_count": 231,
     "metadata": {},
     "output_type": "execute_result"
    }
   ],
   "source": [
    "l = df[(df['is_chain']==1) & (df['inspection_type']=='Cycle Inspection / Initial Inspection')]\n",
    "p = df[(df['is_chain']==1) & (df['inspection_type']=='Cycle Inspection / Initial Inspection')\n",
    "      & (df['score']<14)]\n",
    "len(p)/len(l)"
   ]
  },
  {
   "cell_type": "code",
   "execution_count": 230,
   "metadata": {},
   "outputs": [
    {
     "data": {
      "text/plain": [
       "0.5703019780291106"
      ]
     },
     "execution_count": 230,
     "metadata": {},
     "output_type": "execute_result"
    }
   ],
   "source": [
    "l = df[(df['is_chain']==0) & (df['inspection_type']=='Cycle Inspection / Initial Inspection')]\n",
    "p = df[(df['is_chain']==0) & (df['inspection_type']=='Cycle Inspection / Initial Inspection')\n",
    "      & (df['score']<14)]\n",
    "len(p)/len(l)"
   ]
  },
  {
   "cell_type": "code",
   "execution_count": 232,
   "metadata": {},
   "outputs": [
    {
     "data": {
      "text/plain": [
       "0.5990641085634066"
      ]
     },
     "execution_count": 232,
     "metadata": {},
     "output_type": "execute_result"
    }
   ],
   "source": [
    "l = df[(df['inspection_type']=='Cycle Inspection / Initial Inspection')]\n",
    "p = df[(df['inspection_type']=='Cycle Inspection / Initial Inspection')\n",
    "      & (df['score']<14)]\n",
    "len(p)/len(l)"
   ]
  },
  {
   "cell_type": "code",
   "execution_count": 241,
   "metadata": {},
   "outputs": [],
   "source": [
    "re_inspected_total_chain = re_inspected.groupby(['is_chain','camis'])[['new_low','new_high','avg_est']].sum()"
   ]
  },
  {
   "cell_type": "code",
   "execution_count": 256,
   "metadata": {},
   "outputs": [
    {
     "data": {
      "text/plain": [
       "1650.0"
      ]
     },
     "execution_count": 256,
     "metadata": {},
     "output_type": "execute_result"
    }
   ],
   "source": [
    "re_inspected_total_chain.loc[1]['avg_est'].median()"
   ]
  },
  {
   "cell_type": "code",
   "execution_count": 257,
   "metadata": {},
   "outputs": [
    {
     "data": {
      "text/plain": [
       "2025.0"
      ]
     },
     "execution_count": 257,
     "metadata": {},
     "output_type": "execute_result"
    }
   ],
   "source": [
    "re_inspected_total_chain.loc[0]['avg_est'].median()"
   ]
  },
  {
   "cell_type": "code",
   "execution_count": null,
   "metadata": {},
   "outputs": [],
   "source": []
  },
  {
   "cell_type": "code",
   "execution_count": null,
   "metadata": {},
   "outputs": [],
   "source": []
  },
  {
   "cell_type": "code",
   "execution_count": 39,
   "metadata": {},
   "outputs": [
    {
     "name": "stderr",
     "output_type": "stream",
     "text": [
      "C:\\ProgramData\\Anaconda3\\lib\\site-packages\\ipykernel_launcher.py:1: SettingWithCopyWarning: \n",
      "A value is trying to be set on a copy of a slice from a DataFrame.\n",
      "Try using .loc[row_indexer,col_indexer] = value instead\n",
      "\n",
      "See the caveats in the documentation: http://pandas.pydata.org/pandas-docs/stable/user_guide/indexing.html#returning-a-view-versus-a-copy\n",
      "  \"\"\"Entry point for launching an IPython kernel.\n"
     ]
    }
   ],
   "source": [
    "df['INSPECTION DATE'] = pd.to_datetime(df['INSPECTION DATE'], format=\"%m/%d/%Y\")"
   ]
  },
  {
   "cell_type": "code",
   "execution_count": 17,
   "metadata": {},
   "outputs": [],
   "source": [
    "df = df.sort_values(['CAMIS','INSPECTION DATE']).iloc[:,:16]"
   ]
  },
  {
   "cell_type": "code",
   "execution_count": 43,
   "metadata": {},
   "outputs": [
    {
     "data": {
      "text/html": [
       "<div>\n",
       "<style scoped>\n",
       "    .dataframe tbody tr th:only-of-type {\n",
       "        vertical-align: middle;\n",
       "    }\n",
       "\n",
       "    .dataframe tbody tr th {\n",
       "        vertical-align: top;\n",
       "    }\n",
       "\n",
       "    .dataframe thead th {\n",
       "        text-align: right;\n",
       "    }\n",
       "</style>\n",
       "<table border=\"1\" class=\"dataframe\">\n",
       "  <thead>\n",
       "    <tr style=\"text-align: right;\">\n",
       "      <th></th>\n",
       "      <th>CAMIS</th>\n",
       "      <th>DBA</th>\n",
       "      <th>BORO</th>\n",
       "      <th>BUILDING</th>\n",
       "      <th>STREET</th>\n",
       "      <th>ZIPCODE</th>\n",
       "      <th>PHONE</th>\n",
       "      <th>CUISINE DESCRIPTION</th>\n",
       "      <th>INSPECTION DATE</th>\n",
       "      <th>ACTION</th>\n",
       "      <th>VIOLATION CODE</th>\n",
       "      <th>VIOLATION DESCRIPTION</th>\n",
       "      <th>CRITICAL FLAG</th>\n",
       "      <th>SCORE</th>\n",
       "      <th>GRADE</th>\n",
       "      <th>GRADE DATE</th>\n",
       "      <th>KEY</th>\n",
       "      <th>key</th>\n",
       "    </tr>\n",
       "  </thead>\n",
       "  <tbody>\n",
       "    <tr>\n",
       "      <td>47108</td>\n",
       "      <td>30075445</td>\n",
       "      <td>MORRIS PARK BAKE SHOP</td>\n",
       "      <td>Bronx</td>\n",
       "      <td>1007</td>\n",
       "      <td>MORRIS PARK AVE</td>\n",
       "      <td>10462.0</td>\n",
       "      <td>7188924968</td>\n",
       "      <td>Bakery</td>\n",
       "      <td>2017-05-18</td>\n",
       "      <td>Violations were cited in the following area(s).</td>\n",
       "      <td>10F</td>\n",
       "      <td>Non-food contact surface improperly constructe...</td>\n",
       "      <td>N</td>\n",
       "      <td>7.0</td>\n",
       "      <td>A</td>\n",
       "      <td>05/18/2017</td>\n",
       "      <td>MORRIS PARK BAKE SHOP 1007 MORRIS PARK AVE 104...</td>\n",
       "      <td>30075445 2017-05-18</td>\n",
       "    </tr>\n",
       "    <tr>\n",
       "      <td>85357</td>\n",
       "      <td>30075445</td>\n",
       "      <td>MORRIS PARK BAKE SHOP</td>\n",
       "      <td>Bronx</td>\n",
       "      <td>1007</td>\n",
       "      <td>MORRIS PARK AVE</td>\n",
       "      <td>10462.0</td>\n",
       "      <td>7188924968</td>\n",
       "      <td>Bakery</td>\n",
       "      <td>2018-05-11</td>\n",
       "      <td>Violations were cited in the following area(s).</td>\n",
       "      <td>10F</td>\n",
       "      <td>Non-food contact surface improperly constructe...</td>\n",
       "      <td>N</td>\n",
       "      <td>5.0</td>\n",
       "      <td>A</td>\n",
       "      <td>05/11/2018</td>\n",
       "      <td>MORRIS PARK BAKE SHOP 1007 MORRIS PARK AVE 104...</td>\n",
       "      <td>30075445 2018-05-11</td>\n",
       "    </tr>\n",
       "    <tr>\n",
       "      <td>106618</td>\n",
       "      <td>30075445</td>\n",
       "      <td>MORRIS PARK BAKE SHOP</td>\n",
       "      <td>Bronx</td>\n",
       "      <td>1007</td>\n",
       "      <td>MORRIS PARK AVE</td>\n",
       "      <td>10462.0</td>\n",
       "      <td>7188924968</td>\n",
       "      <td>Bakery</td>\n",
       "      <td>2019-05-16</td>\n",
       "      <td>Violations were cited in the following area(s).</td>\n",
       "      <td>08A</td>\n",
       "      <td>Facility not vermin proof. Harborage or condit...</td>\n",
       "      <td>N</td>\n",
       "      <td>14.0</td>\n",
       "      <td>NaN</td>\n",
       "      <td>NaN</td>\n",
       "      <td>MORRIS PARK BAKE SHOP 1007 MORRIS PARK AVE 104...</td>\n",
       "      <td>30075445 2019-05-16</td>\n",
       "    </tr>\n",
       "    <tr>\n",
       "      <td>215674</td>\n",
       "      <td>30075445</td>\n",
       "      <td>MORRIS PARK BAKE SHOP</td>\n",
       "      <td>Bronx</td>\n",
       "      <td>1007</td>\n",
       "      <td>MORRIS PARK AVE</td>\n",
       "      <td>10462.0</td>\n",
       "      <td>7188924968</td>\n",
       "      <td>Bakery</td>\n",
       "      <td>2019-06-11</td>\n",
       "      <td>Violations were cited in the following area(s).</td>\n",
       "      <td>10B</td>\n",
       "      <td>Plumbing not properly installed or maintained;...</td>\n",
       "      <td>N</td>\n",
       "      <td>6.0</td>\n",
       "      <td>A</td>\n",
       "      <td>06/11/2019</td>\n",
       "      <td>MORRIS PARK BAKE SHOP 1007 MORRIS PARK AVE 104...</td>\n",
       "      <td>30075445 2019-06-11</td>\n",
       "    </tr>\n",
       "    <tr>\n",
       "      <td>171095</td>\n",
       "      <td>30112340</td>\n",
       "      <td>WENDY'S</td>\n",
       "      <td>Brooklyn</td>\n",
       "      <td>469</td>\n",
       "      <td>FLATBUSH AVENUE</td>\n",
       "      <td>11225.0</td>\n",
       "      <td>7182875005</td>\n",
       "      <td>Hamburgers</td>\n",
       "      <td>2016-04-12</td>\n",
       "      <td>No violations were recorded at the time of thi...</td>\n",
       "      <td>NaN</td>\n",
       "      <td>NaN</td>\n",
       "      <td>NaN</td>\n",
       "      <td>0.0</td>\n",
       "      <td>NaN</td>\n",
       "      <td>NaN</td>\n",
       "      <td>WENDY'S 469 FLATBUSH AVENUE 11225.0</td>\n",
       "      <td>30112340 2016-04-12</td>\n",
       "    </tr>\n",
       "    <tr>\n",
       "      <td>...</td>\n",
       "      <td>...</td>\n",
       "      <td>...</td>\n",
       "      <td>...</td>\n",
       "      <td>...</td>\n",
       "      <td>...</td>\n",
       "      <td>...</td>\n",
       "      <td>...</td>\n",
       "      <td>...</td>\n",
       "      <td>...</td>\n",
       "      <td>...</td>\n",
       "      <td>...</td>\n",
       "      <td>...</td>\n",
       "      <td>...</td>\n",
       "      <td>...</td>\n",
       "      <td>...</td>\n",
       "      <td>...</td>\n",
       "      <td>...</td>\n",
       "      <td>...</td>\n",
       "    </tr>\n",
       "    <tr>\n",
       "      <td>248430</td>\n",
       "      <td>50099478</td>\n",
       "      <td>BAREBURGER</td>\n",
       "      <td>Manhattan</td>\n",
       "      <td>795</td>\n",
       "      <td>COLUMBUS AVE</td>\n",
       "      <td>10025.0</td>\n",
       "      <td>9175235650</td>\n",
       "      <td>Other</td>\n",
       "      <td>1900-01-01</td>\n",
       "      <td>NaN</td>\n",
       "      <td>NaN</td>\n",
       "      <td>NaN</td>\n",
       "      <td>NaN</td>\n",
       "      <td>NaN</td>\n",
       "      <td>NaN</td>\n",
       "      <td>NaN</td>\n",
       "      <td>BAREBURGER 795 COLUMBUS AVE 10025.0</td>\n",
       "      <td>50099478 1900-01-01</td>\n",
       "    </tr>\n",
       "    <tr>\n",
       "      <td>92488</td>\n",
       "      <td>50099479</td>\n",
       "      <td>NaN</td>\n",
       "      <td>Manhattan</td>\n",
       "      <td>42</td>\n",
       "      <td>W 42ND ST</td>\n",
       "      <td>10036.0</td>\n",
       "      <td>9179910564</td>\n",
       "      <td>Other</td>\n",
       "      <td>1900-01-01</td>\n",
       "      <td>NaN</td>\n",
       "      <td>NaN</td>\n",
       "      <td>NaN</td>\n",
       "      <td>NaN</td>\n",
       "      <td>NaN</td>\n",
       "      <td>NaN</td>\n",
       "      <td>NaN</td>\n",
       "      <td>nan 42 W 42ND ST 10036.0</td>\n",
       "      <td>50099479 1900-01-01</td>\n",
       "    </tr>\n",
       "    <tr>\n",
       "      <td>330250</td>\n",
       "      <td>50099481</td>\n",
       "      <td>CAFE GREENPOINT</td>\n",
       "      <td>Brooklyn</td>\n",
       "      <td>650</td>\n",
       "      <td>MANHATTAN AVE</td>\n",
       "      <td>11222.0</td>\n",
       "      <td>6465259891</td>\n",
       "      <td>Other</td>\n",
       "      <td>1900-01-01</td>\n",
       "      <td>NaN</td>\n",
       "      <td>NaN</td>\n",
       "      <td>NaN</td>\n",
       "      <td>NaN</td>\n",
       "      <td>NaN</td>\n",
       "      <td>NaN</td>\n",
       "      <td>NaN</td>\n",
       "      <td>CAFE GREENPOINT 650 MANHATTAN AVE 11222.0</td>\n",
       "      <td>50099481 1900-01-01</td>\n",
       "    </tr>\n",
       "    <tr>\n",
       "      <td>355907</td>\n",
       "      <td>50099482</td>\n",
       "      <td>NaN</td>\n",
       "      <td>Queens</td>\n",
       "      <td>6692</td>\n",
       "      <td>FOREST AVE</td>\n",
       "      <td>11385.0</td>\n",
       "      <td>3476892670</td>\n",
       "      <td>Other</td>\n",
       "      <td>1900-01-01</td>\n",
       "      <td>NaN</td>\n",
       "      <td>NaN</td>\n",
       "      <td>NaN</td>\n",
       "      <td>NaN</td>\n",
       "      <td>NaN</td>\n",
       "      <td>NaN</td>\n",
       "      <td>NaN</td>\n",
       "      <td>nan 6692 FOREST AVE 11385.0</td>\n",
       "      <td>50099482 1900-01-01</td>\n",
       "    </tr>\n",
       "    <tr>\n",
       "      <td>333308</td>\n",
       "      <td>50099483</td>\n",
       "      <td>IXV Coffee</td>\n",
       "      <td>Brooklyn</td>\n",
       "      <td>497</td>\n",
       "      <td>PACIFIC ST</td>\n",
       "      <td>11217.0</td>\n",
       "      <td>3474919775</td>\n",
       "      <td>Other</td>\n",
       "      <td>1900-01-01</td>\n",
       "      <td>NaN</td>\n",
       "      <td>NaN</td>\n",
       "      <td>NaN</td>\n",
       "      <td>NaN</td>\n",
       "      <td>NaN</td>\n",
       "      <td>NaN</td>\n",
       "      <td>NaN</td>\n",
       "      <td>IXV Coffee 497 PACIFIC ST 11217.0</td>\n",
       "      <td>50099483 1900-01-01</td>\n",
       "    </tr>\n",
       "  </tbody>\n",
       "</table>\n",
       "<p>134337 rows × 18 columns</p>\n",
       "</div>"
      ],
      "text/plain": [
       "           CAMIS                    DBA       BORO BUILDING           STREET  \\\n",
       "47108   30075445  MORRIS PARK BAKE SHOP      Bronx     1007  MORRIS PARK AVE   \n",
       "85357   30075445  MORRIS PARK BAKE SHOP      Bronx     1007  MORRIS PARK AVE   \n",
       "106618  30075445  MORRIS PARK BAKE SHOP      Bronx     1007  MORRIS PARK AVE   \n",
       "215674  30075445  MORRIS PARK BAKE SHOP      Bronx     1007  MORRIS PARK AVE   \n",
       "171095  30112340                WENDY'S   Brooklyn      469  FLATBUSH AVENUE   \n",
       "...          ...                    ...        ...      ...              ...   \n",
       "248430  50099478             BAREBURGER  Manhattan      795     COLUMBUS AVE   \n",
       "92488   50099479                    NaN  Manhattan       42        W 42ND ST   \n",
       "330250  50099481        CAFE GREENPOINT   Brooklyn      650    MANHATTAN AVE   \n",
       "355907  50099482                    NaN     Queens     6692       FOREST AVE   \n",
       "333308  50099483             IXV Coffee   Brooklyn      497       PACIFIC ST   \n",
       "\n",
       "        ZIPCODE       PHONE CUISINE DESCRIPTION INSPECTION DATE  \\\n",
       "47108   10462.0  7188924968              Bakery      2017-05-18   \n",
       "85357   10462.0  7188924968              Bakery      2018-05-11   \n",
       "106618  10462.0  7188924968              Bakery      2019-05-16   \n",
       "215674  10462.0  7188924968              Bakery      2019-06-11   \n",
       "171095  11225.0  7182875005          Hamburgers      2016-04-12   \n",
       "...         ...         ...                 ...             ...   \n",
       "248430  10025.0  9175235650               Other      1900-01-01   \n",
       "92488   10036.0  9179910564               Other      1900-01-01   \n",
       "330250  11222.0  6465259891               Other      1900-01-01   \n",
       "355907  11385.0  3476892670               Other      1900-01-01   \n",
       "333308  11217.0  3474919775               Other      1900-01-01   \n",
       "\n",
       "                                                   ACTION VIOLATION CODE  \\\n",
       "47108     Violations were cited in the following area(s).            10F   \n",
       "85357     Violations were cited in the following area(s).            10F   \n",
       "106618    Violations were cited in the following area(s).            08A   \n",
       "215674    Violations were cited in the following area(s).            10B   \n",
       "171095  No violations were recorded at the time of thi...            NaN   \n",
       "...                                                   ...            ...   \n",
       "248430                                                NaN            NaN   \n",
       "92488                                                 NaN            NaN   \n",
       "330250                                                NaN            NaN   \n",
       "355907                                                NaN            NaN   \n",
       "333308                                                NaN            NaN   \n",
       "\n",
       "                                    VIOLATION DESCRIPTION CRITICAL FLAG  \\\n",
       "47108   Non-food contact surface improperly constructe...             N   \n",
       "85357   Non-food contact surface improperly constructe...             N   \n",
       "106618  Facility not vermin proof. Harborage or condit...             N   \n",
       "215674  Plumbing not properly installed or maintained;...             N   \n",
       "171095                                                NaN           NaN   \n",
       "...                                                   ...           ...   \n",
       "248430                                                NaN           NaN   \n",
       "92488                                                 NaN           NaN   \n",
       "330250                                                NaN           NaN   \n",
       "355907                                                NaN           NaN   \n",
       "333308                                                NaN           NaN   \n",
       "\n",
       "        SCORE GRADE  GRADE DATE  \\\n",
       "47108     7.0     A  05/18/2017   \n",
       "85357     5.0     A  05/11/2018   \n",
       "106618   14.0   NaN         NaN   \n",
       "215674    6.0     A  06/11/2019   \n",
       "171095    0.0   NaN         NaN   \n",
       "...       ...   ...         ...   \n",
       "248430    NaN   NaN         NaN   \n",
       "92488     NaN   NaN         NaN   \n",
       "330250    NaN   NaN         NaN   \n",
       "355907    NaN   NaN         NaN   \n",
       "333308    NaN   NaN         NaN   \n",
       "\n",
       "                                                      KEY                  key  \n",
       "47108   MORRIS PARK BAKE SHOP 1007 MORRIS PARK AVE 104...  30075445 2017-05-18  \n",
       "85357   MORRIS PARK BAKE SHOP 1007 MORRIS PARK AVE 104...  30075445 2018-05-11  \n",
       "106618  MORRIS PARK BAKE SHOP 1007 MORRIS PARK AVE 104...  30075445 2019-05-16  \n",
       "215674  MORRIS PARK BAKE SHOP 1007 MORRIS PARK AVE 104...  30075445 2019-06-11  \n",
       "171095                WENDY'S 469 FLATBUSH AVENUE 11225.0  30112340 2016-04-12  \n",
       "...                                                   ...                  ...  \n",
       "248430                BAREBURGER 795 COLUMBUS AVE 10025.0  50099478 1900-01-01  \n",
       "92488                            nan 42 W 42ND ST 10036.0  50099479 1900-01-01  \n",
       "330250          CAFE GREENPOINT 650 MANHATTAN AVE 11222.0  50099481 1900-01-01  \n",
       "355907                        nan 6692 FOREST AVE 11385.0  50099482 1900-01-01  \n",
       "333308                  IXV Coffee 497 PACIFIC ST 11217.0  50099483 1900-01-01  \n",
       "\n",
       "[134337 rows x 18 columns]"
      ]
     },
     "execution_count": 43,
     "metadata": {},
     "output_type": "execute_result"
    }
   ],
   "source": [
    "df.sort_values([\"key\",\"INSPECTION DATE\"],ascending=[True,False])"
   ]
  },
  {
   "cell_type": "code",
   "execution_count": 27,
   "metadata": {},
   "outputs": [],
   "source": [
    "df['key'] = df[['CAMIS','INSPECTION DATE']].astype(str).apply(lambda x: ' '.join(x), axis=1)"
   ]
  },
  {
   "cell_type": "code",
   "execution_count": 32,
   "metadata": {},
   "outputs": [],
   "source": [
    "df = df.drop_duplicates('key')"
   ]
  },
  {
   "cell_type": "code",
   "execution_count": 44,
   "metadata": {},
   "outputs": [
    {
     "name": "stderr",
     "output_type": "stream",
     "text": [
      "C:\\ProgramData\\Anaconda3\\lib\\site-packages\\ipykernel_launcher.py:1: SettingWithCopyWarning: \n",
      "A value is trying to be set on a copy of a slice from a DataFrame.\n",
      "Try using .loc[row_indexer,col_indexer] = value instead\n",
      "\n",
      "See the caveats in the documentation: http://pandas.pydata.org/pandas-docs/stable/user_guide/indexing.html#returning-a-view-versus-a-copy\n",
      "  \"\"\"Entry point for launching an IPython kernel.\n"
     ]
    }
   ],
   "source": [
    "df['last'] = df['INSPECTION DATE'].shift()"
   ]
  },
  {
   "cell_type": "code",
   "execution_count": 45,
   "metadata": {},
   "outputs": [
    {
     "data": {
      "text/html": [
       "<div>\n",
       "<style scoped>\n",
       "    .dataframe tbody tr th:only-of-type {\n",
       "        vertical-align: middle;\n",
       "    }\n",
       "\n",
       "    .dataframe tbody tr th {\n",
       "        vertical-align: top;\n",
       "    }\n",
       "\n",
       "    .dataframe thead th {\n",
       "        text-align: right;\n",
       "    }\n",
       "</style>\n",
       "<table border=\"1\" class=\"dataframe\">\n",
       "  <thead>\n",
       "    <tr style=\"text-align: right;\">\n",
       "      <th></th>\n",
       "      <th>CAMIS</th>\n",
       "      <th>DBA</th>\n",
       "      <th>BORO</th>\n",
       "      <th>BUILDING</th>\n",
       "      <th>STREET</th>\n",
       "      <th>ZIPCODE</th>\n",
       "      <th>PHONE</th>\n",
       "      <th>CUISINE DESCRIPTION</th>\n",
       "      <th>INSPECTION DATE</th>\n",
       "      <th>ACTION</th>\n",
       "      <th>VIOLATION CODE</th>\n",
       "      <th>VIOLATION DESCRIPTION</th>\n",
       "      <th>CRITICAL FLAG</th>\n",
       "      <th>SCORE</th>\n",
       "      <th>GRADE</th>\n",
       "      <th>GRADE DATE</th>\n",
       "      <th>KEY</th>\n",
       "      <th>key</th>\n",
       "      <th>last</th>\n",
       "    </tr>\n",
       "  </thead>\n",
       "  <tbody>\n",
       "    <tr>\n",
       "      <td>47108</td>\n",
       "      <td>30075445</td>\n",
       "      <td>MORRIS PARK BAKE SHOP</td>\n",
       "      <td>Bronx</td>\n",
       "      <td>1007</td>\n",
       "      <td>MORRIS PARK AVE</td>\n",
       "      <td>10462.0</td>\n",
       "      <td>7188924968</td>\n",
       "      <td>Bakery</td>\n",
       "      <td>2017-05-18</td>\n",
       "      <td>Violations were cited in the following area(s).</td>\n",
       "      <td>10F</td>\n",
       "      <td>Non-food contact surface improperly constructe...</td>\n",
       "      <td>N</td>\n",
       "      <td>7.0</td>\n",
       "      <td>A</td>\n",
       "      <td>05/18/2017</td>\n",
       "      <td>MORRIS PARK BAKE SHOP 1007 MORRIS PARK AVE 104...</td>\n",
       "      <td>30075445 2017-05-18</td>\n",
       "      <td>NaT</td>\n",
       "    </tr>\n",
       "    <tr>\n",
       "      <td>85357</td>\n",
       "      <td>30075445</td>\n",
       "      <td>MORRIS PARK BAKE SHOP</td>\n",
       "      <td>Bronx</td>\n",
       "      <td>1007</td>\n",
       "      <td>MORRIS PARK AVE</td>\n",
       "      <td>10462.0</td>\n",
       "      <td>7188924968</td>\n",
       "      <td>Bakery</td>\n",
       "      <td>2018-05-11</td>\n",
       "      <td>Violations were cited in the following area(s).</td>\n",
       "      <td>10F</td>\n",
       "      <td>Non-food contact surface improperly constructe...</td>\n",
       "      <td>N</td>\n",
       "      <td>5.0</td>\n",
       "      <td>A</td>\n",
       "      <td>05/11/2018</td>\n",
       "      <td>MORRIS PARK BAKE SHOP 1007 MORRIS PARK AVE 104...</td>\n",
       "      <td>30075445 2018-05-11</td>\n",
       "      <td>2017-05-18</td>\n",
       "    </tr>\n",
       "    <tr>\n",
       "      <td>106618</td>\n",
       "      <td>30075445</td>\n",
       "      <td>MORRIS PARK BAKE SHOP</td>\n",
       "      <td>Bronx</td>\n",
       "      <td>1007</td>\n",
       "      <td>MORRIS PARK AVE</td>\n",
       "      <td>10462.0</td>\n",
       "      <td>7188924968</td>\n",
       "      <td>Bakery</td>\n",
       "      <td>2019-05-16</td>\n",
       "      <td>Violations were cited in the following area(s).</td>\n",
       "      <td>08A</td>\n",
       "      <td>Facility not vermin proof. Harborage or condit...</td>\n",
       "      <td>N</td>\n",
       "      <td>14.0</td>\n",
       "      <td>NaN</td>\n",
       "      <td>NaN</td>\n",
       "      <td>MORRIS PARK BAKE SHOP 1007 MORRIS PARK AVE 104...</td>\n",
       "      <td>30075445 2019-05-16</td>\n",
       "      <td>2018-05-11</td>\n",
       "    </tr>\n",
       "    <tr>\n",
       "      <td>215674</td>\n",
       "      <td>30075445</td>\n",
       "      <td>MORRIS PARK BAKE SHOP</td>\n",
       "      <td>Bronx</td>\n",
       "      <td>1007</td>\n",
       "      <td>MORRIS PARK AVE</td>\n",
       "      <td>10462.0</td>\n",
       "      <td>7188924968</td>\n",
       "      <td>Bakery</td>\n",
       "      <td>2019-06-11</td>\n",
       "      <td>Violations were cited in the following area(s).</td>\n",
       "      <td>10B</td>\n",
       "      <td>Plumbing not properly installed or maintained;...</td>\n",
       "      <td>N</td>\n",
       "      <td>6.0</td>\n",
       "      <td>A</td>\n",
       "      <td>06/11/2019</td>\n",
       "      <td>MORRIS PARK BAKE SHOP 1007 MORRIS PARK AVE 104...</td>\n",
       "      <td>30075445 2019-06-11</td>\n",
       "      <td>2019-05-16</td>\n",
       "    </tr>\n",
       "    <tr>\n",
       "      <td>171095</td>\n",
       "      <td>30112340</td>\n",
       "      <td>WENDY'S</td>\n",
       "      <td>Brooklyn</td>\n",
       "      <td>469</td>\n",
       "      <td>FLATBUSH AVENUE</td>\n",
       "      <td>11225.0</td>\n",
       "      <td>7182875005</td>\n",
       "      <td>Hamburgers</td>\n",
       "      <td>2016-04-12</td>\n",
       "      <td>No violations were recorded at the time of thi...</td>\n",
       "      <td>NaN</td>\n",
       "      <td>NaN</td>\n",
       "      <td>NaN</td>\n",
       "      <td>0.0</td>\n",
       "      <td>NaN</td>\n",
       "      <td>NaN</td>\n",
       "      <td>WENDY'S 469 FLATBUSH AVENUE 11225.0</td>\n",
       "      <td>30112340 2016-04-12</td>\n",
       "      <td>2019-06-11</td>\n",
       "    </tr>\n",
       "    <tr>\n",
       "      <td>141398</td>\n",
       "      <td>30112340</td>\n",
       "      <td>WENDY'S</td>\n",
       "      <td>Brooklyn</td>\n",
       "      <td>469</td>\n",
       "      <td>FLATBUSH AVENUE</td>\n",
       "      <td>11225.0</td>\n",
       "      <td>7182875005</td>\n",
       "      <td>Hamburgers</td>\n",
       "      <td>2016-04-30</td>\n",
       "      <td>Violations were cited in the following area(s).</td>\n",
       "      <td>15I</td>\n",
       "      <td>\"\"No Smoking” and/or 'Smoking Permitted” sign ...</td>\n",
       "      <td>N</td>\n",
       "      <td>NaN</td>\n",
       "      <td>NaN</td>\n",
       "      <td>NaN</td>\n",
       "      <td>WENDY'S 469 FLATBUSH AVENUE 11225.0</td>\n",
       "      <td>30112340 2016-04-30</td>\n",
       "      <td>2016-04-12</td>\n",
       "    </tr>\n",
       "    <tr>\n",
       "      <td>109909</td>\n",
       "      <td>30112340</td>\n",
       "      <td>WENDY'S</td>\n",
       "      <td>Brooklyn</td>\n",
       "      <td>469</td>\n",
       "      <td>FLATBUSH AVENUE</td>\n",
       "      <td>11225.0</td>\n",
       "      <td>7182875005</td>\n",
       "      <td>Hamburgers</td>\n",
       "      <td>2016-10-03</td>\n",
       "      <td>Violations were cited in the following area(s).</td>\n",
       "      <td>10A</td>\n",
       "      <td>Toilet facility not maintained and provided wi...</td>\n",
       "      <td>N</td>\n",
       "      <td>48.0</td>\n",
       "      <td>NaN</td>\n",
       "      <td>NaN</td>\n",
       "      <td>WENDY'S 469 FLATBUSH AVENUE 11225.0</td>\n",
       "      <td>30112340 2016-10-03</td>\n",
       "      <td>2016-04-30</td>\n",
       "    </tr>\n",
       "    <tr>\n",
       "      <td>38096</td>\n",
       "      <td>30112340</td>\n",
       "      <td>WENDY'S</td>\n",
       "      <td>Brooklyn</td>\n",
       "      <td>469</td>\n",
       "      <td>FLATBUSH AVENUE</td>\n",
       "      <td>11225.0</td>\n",
       "      <td>7182875005</td>\n",
       "      <td>Hamburgers</td>\n",
       "      <td>2016-10-27</td>\n",
       "      <td>Violations were cited in the following area(s).</td>\n",
       "      <td>04N</td>\n",
       "      <td>Filth flies or food/refuse/sewage-associated (...</td>\n",
       "      <td>Y</td>\n",
       "      <td>11.0</td>\n",
       "      <td>A</td>\n",
       "      <td>10/27/2016</td>\n",
       "      <td>WENDY'S 469 FLATBUSH AVENUE 11225.0</td>\n",
       "      <td>30112340 2016-10-27</td>\n",
       "      <td>2016-10-03</td>\n",
       "    </tr>\n",
       "    <tr>\n",
       "      <td>62718</td>\n",
       "      <td>30112340</td>\n",
       "      <td>WENDY'S</td>\n",
       "      <td>Brooklyn</td>\n",
       "      <td>469</td>\n",
       "      <td>FLATBUSH AVENUE</td>\n",
       "      <td>11225.0</td>\n",
       "      <td>7182875005</td>\n",
       "      <td>Hamburgers</td>\n",
       "      <td>2017-06-26</td>\n",
       "      <td>Violations were cited in the following area(s).</td>\n",
       "      <td>04N</td>\n",
       "      <td>Filth flies or food/refuse/sewage-associated (...</td>\n",
       "      <td>Y</td>\n",
       "      <td>7.0</td>\n",
       "      <td>NaN</td>\n",
       "      <td>NaN</td>\n",
       "      <td>WENDY'S 469 FLATBUSH AVENUE 11225.0</td>\n",
       "      <td>30112340 2017-06-26</td>\n",
       "      <td>2016-10-27</td>\n",
       "    </tr>\n",
       "    <tr>\n",
       "      <td>272947</td>\n",
       "      <td>30112340</td>\n",
       "      <td>WENDY'S</td>\n",
       "      <td>Brooklyn</td>\n",
       "      <td>469</td>\n",
       "      <td>FLATBUSH AVENUE</td>\n",
       "      <td>11225.0</td>\n",
       "      <td>7182875005</td>\n",
       "      <td>Hamburgers</td>\n",
       "      <td>2017-10-06</td>\n",
       "      <td>Violations were cited in the following area(s).</td>\n",
       "      <td>10F</td>\n",
       "      <td>Non-food contact surface improperly constructe...</td>\n",
       "      <td>N</td>\n",
       "      <td>10.0</td>\n",
       "      <td>A</td>\n",
       "      <td>10/06/2017</td>\n",
       "      <td>WENDY'S 469 FLATBUSH AVENUE 11225.0</td>\n",
       "      <td>30112340 2017-10-06</td>\n",
       "      <td>2017-06-26</td>\n",
       "    </tr>\n",
       "  </tbody>\n",
       "</table>\n",
       "</div>"
      ],
      "text/plain": [
       "           CAMIS                    DBA      BORO BUILDING           STREET  \\\n",
       "47108   30075445  MORRIS PARK BAKE SHOP     Bronx     1007  MORRIS PARK AVE   \n",
       "85357   30075445  MORRIS PARK BAKE SHOP     Bronx     1007  MORRIS PARK AVE   \n",
       "106618  30075445  MORRIS PARK BAKE SHOP     Bronx     1007  MORRIS PARK AVE   \n",
       "215674  30075445  MORRIS PARK BAKE SHOP     Bronx     1007  MORRIS PARK AVE   \n",
       "171095  30112340                WENDY'S  Brooklyn      469  FLATBUSH AVENUE   \n",
       "141398  30112340                WENDY'S  Brooklyn      469  FLATBUSH AVENUE   \n",
       "109909  30112340                WENDY'S  Brooklyn      469  FLATBUSH AVENUE   \n",
       "38096   30112340                WENDY'S  Brooklyn      469  FLATBUSH AVENUE   \n",
       "62718   30112340                WENDY'S  Brooklyn      469  FLATBUSH AVENUE   \n",
       "272947  30112340                WENDY'S  Brooklyn      469  FLATBUSH AVENUE   \n",
       "\n",
       "        ZIPCODE       PHONE CUISINE DESCRIPTION INSPECTION DATE  \\\n",
       "47108   10462.0  7188924968              Bakery      2017-05-18   \n",
       "85357   10462.0  7188924968              Bakery      2018-05-11   \n",
       "106618  10462.0  7188924968              Bakery      2019-05-16   \n",
       "215674  10462.0  7188924968              Bakery      2019-06-11   \n",
       "171095  11225.0  7182875005          Hamburgers      2016-04-12   \n",
       "141398  11225.0  7182875005          Hamburgers      2016-04-30   \n",
       "109909  11225.0  7182875005          Hamburgers      2016-10-03   \n",
       "38096   11225.0  7182875005          Hamburgers      2016-10-27   \n",
       "62718   11225.0  7182875005          Hamburgers      2017-06-26   \n",
       "272947  11225.0  7182875005          Hamburgers      2017-10-06   \n",
       "\n",
       "                                                   ACTION VIOLATION CODE  \\\n",
       "47108     Violations were cited in the following area(s).            10F   \n",
       "85357     Violations were cited in the following area(s).            10F   \n",
       "106618    Violations were cited in the following area(s).            08A   \n",
       "215674    Violations were cited in the following area(s).            10B   \n",
       "171095  No violations were recorded at the time of thi...            NaN   \n",
       "141398    Violations were cited in the following area(s).            15I   \n",
       "109909    Violations were cited in the following area(s).            10A   \n",
       "38096     Violations were cited in the following area(s).            04N   \n",
       "62718     Violations were cited in the following area(s).            04N   \n",
       "272947    Violations were cited in the following area(s).            10F   \n",
       "\n",
       "                                    VIOLATION DESCRIPTION CRITICAL FLAG  \\\n",
       "47108   Non-food contact surface improperly constructe...             N   \n",
       "85357   Non-food contact surface improperly constructe...             N   \n",
       "106618  Facility not vermin proof. Harborage or condit...             N   \n",
       "215674  Plumbing not properly installed or maintained;...             N   \n",
       "171095                                                NaN           NaN   \n",
       "141398  \"\"No Smoking” and/or 'Smoking Permitted” sign ...             N   \n",
       "109909  Toilet facility not maintained and provided wi...             N   \n",
       "38096   Filth flies or food/refuse/sewage-associated (...             Y   \n",
       "62718   Filth flies or food/refuse/sewage-associated (...             Y   \n",
       "272947  Non-food contact surface improperly constructe...             N   \n",
       "\n",
       "        SCORE GRADE  GRADE DATE  \\\n",
       "47108     7.0     A  05/18/2017   \n",
       "85357     5.0     A  05/11/2018   \n",
       "106618   14.0   NaN         NaN   \n",
       "215674    6.0     A  06/11/2019   \n",
       "171095    0.0   NaN         NaN   \n",
       "141398    NaN   NaN         NaN   \n",
       "109909   48.0   NaN         NaN   \n",
       "38096    11.0     A  10/27/2016   \n",
       "62718     7.0   NaN         NaN   \n",
       "272947   10.0     A  10/06/2017   \n",
       "\n",
       "                                                      KEY  \\\n",
       "47108   MORRIS PARK BAKE SHOP 1007 MORRIS PARK AVE 104...   \n",
       "85357   MORRIS PARK BAKE SHOP 1007 MORRIS PARK AVE 104...   \n",
       "106618  MORRIS PARK BAKE SHOP 1007 MORRIS PARK AVE 104...   \n",
       "215674  MORRIS PARK BAKE SHOP 1007 MORRIS PARK AVE 104...   \n",
       "171095                WENDY'S 469 FLATBUSH AVENUE 11225.0   \n",
       "141398                WENDY'S 469 FLATBUSH AVENUE 11225.0   \n",
       "109909                WENDY'S 469 FLATBUSH AVENUE 11225.0   \n",
       "38096                 WENDY'S 469 FLATBUSH AVENUE 11225.0   \n",
       "62718                 WENDY'S 469 FLATBUSH AVENUE 11225.0   \n",
       "272947                WENDY'S 469 FLATBUSH AVENUE 11225.0   \n",
       "\n",
       "                        key       last  \n",
       "47108   30075445 2017-05-18        NaT  \n",
       "85357   30075445 2018-05-11 2017-05-18  \n",
       "106618  30075445 2019-05-16 2018-05-11  \n",
       "215674  30075445 2019-06-11 2019-05-16  \n",
       "171095  30112340 2016-04-12 2019-06-11  \n",
       "141398  30112340 2016-04-30 2016-04-12  \n",
       "109909  30112340 2016-10-03 2016-04-30  \n",
       "38096   30112340 2016-10-27 2016-10-03  \n",
       "62718   30112340 2017-06-26 2016-10-27  \n",
       "272947  30112340 2017-10-06 2017-06-26  "
      ]
     },
     "execution_count": 45,
     "metadata": {},
     "output_type": "execute_result"
    }
   ],
   "source": [
    "df.head(10)"
   ]
  },
  {
   "cell_type": "code",
   "execution_count": null,
   "metadata": {},
   "outputs": [],
   "source": [
    "df.loc[df.drop_duplicates(\"KEY\").index,\"NEXT_GRADE_DATE\"] = pd.NaT"
   ]
  },
  {
   "cell_type": "code",
   "execution_count": null,
   "metadata": {},
   "outputs": [],
   "source": []
  },
  {
   "cell_type": "code",
   "execution_count": null,
   "metadata": {},
   "outputs": [],
   "source": []
  }
 ],
 "metadata": {
  "kernelspec": {
   "display_name": "Python 3",
   "language": "python",
   "name": "python3"
  },
  "language_info": {
   "codemirror_mode": {
    "name": "ipython",
    "version": 3
   },
   "file_extension": ".py",
   "mimetype": "text/x-python",
   "name": "python",
   "nbconvert_exporter": "python",
   "pygments_lexer": "ipython3",
   "version": "3.7.3"
  }
 },
 "nbformat": 4,
 "nbformat_minor": 2
}

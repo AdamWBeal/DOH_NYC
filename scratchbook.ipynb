{
 "cells": [
  {
   "cell_type": "code",
   "execution_count": null,
   "metadata": {},
   "outputs": [],
   "source": [
    "%matplotlib inline\n",
    "import pandas as pd\n",
    "import numpy as np\n",
    "import seaborn as sns\n",
    "import matplotlib.pyplot as plt\n",
    "from lifelines import KaplanMeierFitter"
   ]
  },
  {
   "cell_type": "code",
   "execution_count": null,
   "metadata": {},
   "outputs": [],
   "source": [
    "df1 = pd.read_csv('./assets/DOHMH_New_York_City_Restaurant_Inspection_Results_historical.csv')\n",
    "df = pd.read_csv('./assets/DOHMH_New_York_City_Restaurant_Inspection_Results_2_8_19.csv')"
   ]
  },
  {
   "cell_type": "code",
   "execution_count": null,
   "metadata": {},
   "outputs": [],
   "source": [
    "frames = [df1,df]\n",
    "df = pd.concat(frames)\n",
    "del(df1)"
   ]
  },
  {
   "cell_type": "code",
   "execution_count": null,
   "metadata": {},
   "outputs": [],
   "source": [
    "def pre_proc(path):\n",
    "\n",
    "    data = pd.read_csv(path)\n",
    "    data.columns = [i.lower() for i in data.columns]\n",
    "\n",
    "    data.rename(index=str,columns={'cuisine description':'cuisine_description',\n",
    "                                'inspection date':'inspection_date',\n",
    "                                'critical flag':'critical_flag',\n",
    "                                'grade date':'grade_date',\n",
    "                                'record date':'record_date',\n",
    "                                'inspection type':'inspection_type',\n",
    "                                'violation code':'violation_code',\n",
    "                                'violation description':'violation_description'}, inplace=True)\n",
    "\n",
    "\n",
    "    data['grade_date'] = pd.to_datetime(data['grade_date'],errors='coerce', format='%m/%d/%Y')\n",
    "    data['inspection_date'] = pd.to_datetime(data['inspection_date'],errors='coerce', format='%m/%d/%Y')\n",
    "    data['record_date'] = pd.to_datetime(data['record_date'],errors='coerce', format='%m/%d/%Y')\n",
    "\n",
    "    data['address'] = data['building'] + ' ' + data['street'].str.title()\n",
    "    data.drop(['building','street'],axis=1, inplace=True)\n",
    "    data['dba'] = data['dba'].str.title()\n",
    "    data['boro'] = data['boro'].str.title()\n",
    "\n",
    "\n",
    "    data['key'] = data['camis']+data['inspection_date']\n",
    "\n",
    "    data = data.drop_duplicates(['key','violation_code'])\n",
    "\n",
    "\n",
    "    pending_df = data[data['inspection_date']<'1/1/1901'].copy()\n",
    "    current_df = data[data['inspection_date']>'1/1/1901'].copy()\n",
    "\n",
    "    current_df.sort_values(['camis','inspection_date'], ascending=False, inplace=True)\n",
    "    current_df.reset_index(drop=True,inplace=True)\n",
    "    \n",
    "    return [current_df,pending_df]"
   ]
  },
  {
   "cell_type": "code",
   "execution_count": null,
   "metadata": {},
   "outputs": [],
   "source": [
    "foo = pre_proc('./assets/DOHMH_New_York_City_Restaurant_Inspection_Results_1_30_19.csv')"
   ]
  },
  {
   "cell_type": "code",
   "execution_count": null,
   "metadata": {},
   "outputs": [],
   "source": [
    "df = foo[0]"
   ]
  },
  {
   "cell_type": "code",
   "execution_count": null,
   "metadata": {},
   "outputs": [],
   "source": [
    "violation_dictionary = {}\n",
    "for i in range(len(df)):\n",
    "    current_code = df.loc[i,'violation_code']\n",
    "    current_desc = df.loc[i,'violation_description']\n",
    "    \n",
    "    if current_code not in violation_dictionary:\n",
    "        violation_dictionary[current_code] = current_desc"
   ]
  },
  {
   "cell_type": "code",
   "execution_count": null,
   "metadata": {},
   "outputs": [],
   "source": [
    "violation_df = {}\n",
    "for i in range(len(df)):\n",
    "    current_key = df['key'][i]\n",
    "    current_code = df['violation_code'][i]\n",
    "    \n",
    "    if current_key in violation_df:\n",
    "        violation_df[current_key].append(current_code)\n",
    "    else:\n",
    "        violation_df[current_key] = [current_code]\n",
    "        \n",
    "codes = []\n",
    "keys = []\n",
    "for k,v in violation_df.items():\n",
    "    keys.append(k)\n",
    "    codes.append(v)\n",
    "    \n",
    "d = {'key':keys,'codes':codes}\n",
    "insp = pd.DataFrame(d)"
   ]
  },
  {
   "cell_type": "code",
   "execution_count": null,
   "metadata": {
    "scrolled": false
   },
   "outputs": [],
   "source": [
    "df = df.drop_duplicates('key').drop('violation_code',axis=1).drop('violation_description',axis=1).drop('critical_flag',axis=1)\n",
    "df = df.merge(insp,on='key')\n",
    "\n",
    "\n",
    "df.sort_values(['camis','inspection_date'], inplace=True)\n",
    "df.reset_index(drop=True, inplace=True)\n",
    "\n",
    "df = df[df['inspection_type'].str.contains('Cycle') |\n",
    "   df['inspection_type'].str.contains('Pre-permit')\n",
    "  ]"
   ]
  },
  {
   "cell_type": "code",
   "execution_count": null,
   "metadata": {},
   "outputs": [],
   "source": [
    "df.reset_index(inplace=True,drop=True)\n",
    "\n",
    "\n",
    "s1 = []\n",
    "next_index = 1\n",
    "\n",
    "for i in range(len(df)-1):\n",
    "    current_camis = df['camis'][i]\n",
    "    next_camis = df['camis'][next_index]\n",
    "    \n",
    "    if current_camis == next_camis:\n",
    "        time_delt = df['inspection_date'][next_index] - df['inspection_date'][i]\n",
    "        s1.append(time_delt)\n",
    "    else:\n",
    "        s1.append(pd.NaT)\n",
    "        \n",
    "    index += 1\n",
    "    \n",
    "s1.append(pd.NaT)\n",
    "df['time_til'] = pd.Series(s1)"
   ]
  },
  {
   "cell_type": "code",
   "execution_count": null,
   "metadata": {},
   "outputs": [],
   "source": [
    "df['event'] = df['time_til'].apply(lambda x: 1 if pd.notnull(x) else 0)\n",
    "df['time_til'] = df['time_til'].where(pd.notnull(df['time_til']), df['record_date'] - df['inspection_date'])"
   ]
  },
  {
   "cell_type": "code",
   "execution_count": null,
   "metadata": {},
   "outputs": [],
   "source": [
    "# df.to_csv('./assets/working_df.csv')"
   ]
  },
  {
   "cell_type": "code",
   "execution_count": null,
   "metadata": {},
   "outputs": [],
   "source": [
    "df = pd.read_csv('./assets/working_df.csv')"
   ]
  },
  {
   "cell_type": "code",
   "execution_count": null,
   "metadata": {},
   "outputs": [],
   "source": []
  },
  {
   "cell_type": "code",
   "execution_count": null,
   "metadata": {},
   "outputs": [],
   "source": []
  },
  {
   "cell_type": "code",
   "execution_count": null,
   "metadata": {},
   "outputs": [],
   "source": [
    "df['inspection_type'].value_counts()"
   ]
  },
  {
   "cell_type": "code",
   "execution_count": null,
   "metadata": {},
   "outputs": [],
   "source": [
    "# time_data = (pd.to_timedelta(df['time_til']).dropna()+pd.to_timedelta(1,unit='s')).astype('timedelta64[D]')\n",
    "\n",
    "# sns.distplot(time_data);"
   ]
  },
  {
   "cell_type": "code",
   "execution_count": null,
   "metadata": {},
   "outputs": [],
   "source": [
    "time_data = (pd.to_timedelta(df['inspection_date']).dropna()+pd.to_timedelta(1,unit='s')).astype('timedelta64[D]')\n",
    "\n",
    "sns.distplot(time_data)"
   ]
  },
  {
   "cell_type": "code",
   "execution_count": null,
   "metadata": {
    "scrolled": false
   },
   "outputs": [],
   "source": [
    "kmf = KaplanMeierFitter()\n",
    "kmf.fit(df['time_til'].dt.days, df['event'])\n",
    "\n",
    "kmf.survival_function_\n",
    "kmf.median_\n",
    "kmf.plot()"
   ]
  },
  {
   "cell_type": "code",
   "execution_count": null,
   "metadata": {},
   "outputs": [],
   "source": [
    "# grouped = df.groupby(['cuisine_description'])['score'].median().sort_values(ascending=False)"
   ]
  },
  {
   "cell_type": "code",
   "execution_count": null,
   "metadata": {},
   "outputs": [],
   "source": [
    "inspection_bin = []\n",
    "\n",
    "for i in range(len(df)):\n",
    "    current_type = df.loc[i,'inspection_type']\n",
    "    current_score = df.loc[i,'score']\n",
    "    current_camis = df.loc[i,'camis']\n",
    "    \n",
    "    if 'Cycle' in current_type:\n",
    "        if 'Initial' in current_type:\n",
    "            if current_score < 14:\n",
    "                inspection_bin.append(0)\n",
    "            elif current_score > 13:\n",
    "                inspection_bin.append(1)\n",
    "                \n",
    "        elif 'Re-' in current_type:\n",
    "            previous_score = df.loc[i-1,'score']\n",
    "            previous_camis = df.loc[i-1,'camis']\n",
    "            \n",
    "            if current_camis == previous_camis:\n",
    "                if previous_score < 14:\n",
    "                    inspection_bin.append(2)\n",
    "                elif previous_score > 13 and previous_score < 28:\n",
    "                    inspection_bin.append(3)\n",
    "                elif previous_score > 27:\n",
    "                    inspection_bin.append(4)\n",
    "            else:\n",
    "                inspection_bin.append(np.nan)\n",
    "        else:\n",
    "            inspection_bin.append(10)\n",
    "            \n",
    "            \n",
    "    elif 'Pre-' in current_type:\n",
    "        if 'Initial' in current_type:\n",
    "            if current_score < 14:\n",
    "                inspection_bin.append(5)\n",
    "            elif current_score > 13:\n",
    "                inspection_bin.append(6)\n",
    "                \n",
    "        elif 'Re-' in current_type:\n",
    "            previous_camis = df.loc[i-1,'camis']\n",
    "            previous_score = df.loc[i-1,'score']\n",
    "            if current_camis == previous_camis:\n",
    "                if previous_score < 14:\n",
    "                    inspection_bin.append(7)\n",
    "                elif previous_score > 13 and previous_score < 28:\n",
    "                    inspection_bin.append(8)\n",
    "                elif previous_score > 27:\n",
    "                    inspection_bin.append(9)\n",
    "            else:\n",
    "                inspection_bin.append(np.nan)\n",
    "        else:\n",
    "            inspection_bin.append(10)\n",
    "    else:\n",
    "        inspection_bin.append(10)"
   ]
  },
  {
   "cell_type": "code",
   "execution_count": null,
   "metadata": {},
   "outputs": [],
   "source": [
    "inspection_bin = pd.Series(inspection_bin)\n",
    "df['bin'] = inspection_bin"
   ]
  },
  {
   "cell_type": "code",
   "execution_count": null,
   "metadata": {},
   "outputs": [],
   "source": []
  },
  {
   "cell_type": "code",
   "execution_count": null,
   "metadata": {},
   "outputs": [],
   "source": [
    "avg_rest_score = df.groupby(['camis'])['score'].mean()"
   ]
  },
  {
   "cell_type": "code",
   "execution_count": null,
   "metadata": {},
   "outputs": [],
   "source": [
    "avg_rest_score[30075445]"
   ]
  },
  {
   "cell_type": "code",
   "execution_count": null,
   "metadata": {},
   "outputs": [],
   "source": [
    "rest_score = []\n",
    "for i in df['camis']:\n",
    "    rest_score.append(avg_rest_score[i])"
   ]
  },
  {
   "cell_type": "code",
   "execution_count": null,
   "metadata": {},
   "outputs": [],
   "source": [
    "df['avg_score']=pd.Series(rest_score)"
   ]
  },
  {
   "cell_type": "code",
   "execution_count": null,
   "metadata": {},
   "outputs": [],
   "source": [
    "df.drop('Unnamed: 0', axis=1,inplace=True)"
   ]
  },
  {
   "cell_type": "code",
   "execution_count": null,
   "metadata": {},
   "outputs": [],
   "source": [
    "df = df.join(pd.get_dummies(df['bin'], drop_first=True))"
   ]
  },
  {
   "cell_type": "code",
   "execution_count": null,
   "metadata": {},
   "outputs": [],
   "source": [
    "df.drop('bin',axis=1,inplace=True)"
   ]
  },
  {
   "cell_type": "code",
   "execution_count": null,
   "metadata": {},
   "outputs": [],
   "source": [
    "times_closed = df[df['action'].str.contains('Establishment Closed')].groupby(['camis'])['camis'].count()\n",
    "close_list = []\n",
    "for i in df['camis']:\n",
    "    if i in times_closed:\n",
    "        close_list.append(times_closed[i])\n",
    "    else:\n",
    "        close_list.append(0)"
   ]
  },
  {
   "cell_type": "code",
   "execution_count": null,
   "metadata": {},
   "outputs": [],
   "source": [
    "df['num_closes'] = pd.Series(close_list)"
   ]
  },
  {
   "cell_type": "code",
   "execution_count": null,
   "metadata": {},
   "outputs": [],
   "source": [
    "year_dummies = pd.get_dummies(pd.to_datetime(df['inspection_date']).dt.year,drop_first=True)\n",
    "df = df.join(year_dummies)"
   ]
  },
  {
   "cell_type": "code",
   "execution_count": null,
   "metadata": {},
   "outputs": [],
   "source": [
    "df.columns"
   ]
  },
  {
   "cell_type": "code",
   "execution_count": null,
   "metadata": {},
   "outputs": [],
   "source": [
    "yes_event = df[df['event']==1].copy()"
   ]
  },
  {
   "cell_type": "code",
   "execution_count": null,
   "metadata": {},
   "outputs": [],
   "source": [
    "X = yes_event[[1,2,3,4,5,6,7,8,9,10,'num_closes','avg_score',2012,2013,2014,2015,2016,2017,2018,2019]]\n",
    "y = yes_event['time_til']"
   ]
  },
  {
   "cell_type": "code",
   "execution_count": null,
   "metadata": {},
   "outputs": [],
   "source": [
    "y = y.str.replace(' days 00:00:00.000000000','')"
   ]
  },
  {
   "cell_type": "code",
   "execution_count": null,
   "metadata": {},
   "outputs": [],
   "source": [
    "y = y.apply(lambda x: int(x))"
   ]
  },
  {
   "cell_type": "code",
   "execution_count": null,
   "metadata": {},
   "outputs": [],
   "source": []
  },
  {
   "cell_type": "code",
   "execution_count": null,
   "metadata": {},
   "outputs": [],
   "source": [
    "from sodapy import Socrata\n",
    "client = Socrata(\"data.cityofnewyork.us\", None)\n",
    "results = client.get(\"9w7m-hzhe\", where='inspection_date = \"1900-01-01T00:00:00.000\"')\n",
    "# client.get_metadata(\"9w7m-hzhe\")\n",
    "# results = client.get(\"9w7m-hzhe\",limit=20)"
   ]
  },
  {
   "cell_type": "code",
   "execution_count": null,
   "metadata": {},
   "outputs": [],
   "source": [
    "df.groupby(['bin'])['time_til']"
   ]
  },
  {
   "cell_type": "code",
   "execution_count": null,
   "metadata": {},
   "outputs": [],
   "source": [
    "update_time = client.get_metadata(\"9w7m-hzhe\")['rowsUpdatedAt']\n",
    "pd.to_datetime(update_time, unit='s')"
   ]
  },
  {
   "cell_type": "code",
   "execution_count": null,
   "metadata": {},
   "outputs": [],
   "source": [
    "client.get_metadata(\"9w7m-hzhe\")"
   ]
  },
  {
   "cell_type": "code",
   "execution_count": null,
   "metadata": {},
   "outputs": [],
   "source": [
    "pd.to_datetime(1550782069, unit='s')"
   ]
  },
  {
   "cell_type": "code",
   "execution_count": null,
   "metadata": {},
   "outputs": [],
   "source": [
    "client.get_metadata(\"9w7m-hzhe\")"
   ]
  },
  {
   "cell_type": "code",
   "execution_count": null,
   "metadata": {},
   "outputs": [],
   "source": []
  },
  {
   "cell_type": "code",
   "execution_count": null,
   "metadata": {},
   "outputs": [],
   "source": [
    "from __future__ import print_function\n",
    "import mlbgame\n",
    "\n",
    "month = mlbgame.games(2015, 6, home='Mets')\n",
    "games = mlbgame.combine_games(month)\n",
    "for game in games:\n",
    "    print(game)"
   ]
  },
  {
   "cell_type": "code",
   "execution_count": null,
   "metadata": {},
   "outputs": [],
   "source": [
    "sns.distplot(df[df['time_til']<600].loc[:,'time_til'])\n",
    "df[df['camis']==50050712]"
   ]
  }
 ],
 "metadata": {
  "kernelspec": {
   "display_name": "Python 3",
   "language": "python",
   "name": "python3"
  },
  "language_info": {
   "codemirror_mode": {
    "name": "ipython",
    "version": 3
   },
   "file_extension": ".py",
   "mimetype": "text/x-python",
   "name": "python",
   "nbconvert_exporter": "python",
   "pygments_lexer": "ipython3",
   "version": "3.7.2"
  }
 },
 "nbformat": 4,
 "nbformat_minor": 2
}
